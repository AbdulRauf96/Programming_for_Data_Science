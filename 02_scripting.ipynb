{
  "cells": [
    {
      "cell_type": "markdown",
      "metadata": {
        "id": "view-in-github",
        "colab_type": "text"
      },
      "source": [
        "<a href=\"https://colab.research.google.com/github/AbdulRauf96/Programming_for_Data_Sciencie/blob/main/02_scripting.ipynb\" target=\"_parent\"><img src=\"https://colab.research.google.com/assets/colab-badge.svg\" alt=\"Open In Colab\"/></a>"
      ]
    },
    {
      "cell_type": "markdown",
      "metadata": {
        "id": "Ve_Rf_HMPBpn"
      },
      "source": [
        "<div style=\"text-align:center\"><span style=\"font-size:2em; font-weight: bold;\">Lecture 2—Scripting</span></div>"
      ]
    },
    {
      "cell_type": "markdown",
      "metadata": {
        "id": "kXu-nuU8PBpq"
      },
      "source": [
        "## Programming: Libraries\n",
        "\n",
        "Source: **Clean Python: Elegant Coding in Python** Sunil Kapil Apress 2019 (available through O'Reilly Safari)\n",
        "\n",
        "**collections**\n",
        "\n",
        "This is one of the most widely used libraries and has useful data structures, specifically namedtuple, defaultdict, and orderddict.\n",
        "\n",
        "**csv**\n",
        "\n",
        "Use csv for reading and writing CSV files. It will save you lot of time instead of writing your own methods while reading files.\n",
        "\n",
        "**datetime and time**\n",
        "\n",
        "These are without a doubt two of the most used libraries. In fact, you have probably already encountered them. If not, getting familiar with the different methods available in these libraries is beneficial in different scenarios, especially when you are working with timing issues.\n",
        "\n",
        "~~**math**~~\n",
        "\n",
        "~~The math lib has lots of useful methods to perform basic to advanced math computations. Before looking for a third-party library to solve math problems, try to see whether this library already has them.~~\n",
        "\n",
        "**re**\n",
        "\n",
        "There is no substitute for this library that can solve problems using regular expressions. In fact, re is one of the best libraries in the Python language. If you know regular expressions well, you can create magic using the re library. It gives you the power to perform some of the more difficult operations easily using regular expressions.\n",
        "\n",
        "~~**tempfile**~~\n",
        "\n",
        "~~Consider this a one-off library to create temporary files. It’s a good built-in library.~~\n",
        "\n",
        "**itertools**\n",
        "\n",
        "Some of the most useful tools in this library are permutations and combinations. However, if you explore it more, you will find that you can solve a lot of computation problems using itertools . It has some of the useful functions such as dropwhile, product, chain, and islice.\n",
        "\n",
        "**functools**\n",
        "\n",
        "If you are developer who loves functional programming, this library is for you. It has lots of functions that will help you to think of your code in a more functional way. One of the most used partials is in this library.\n",
        "\n",
        "**sys** and **os**\n",
        "\n",
        "Use these libraries when you want to perform any specific system- or OS-level operations. sys and os give you the power to do a lot of amazing things with your system.\n",
        "\n",
        "**subprocess**\n",
        "\n",
        "This library helps you to create multiple processes on your system without much effort. The library is easy to use, and it creates multiple processes and handles them using multiple methods.\n",
        "\n",
        "~~*logging**~~\n",
        "\n",
        "~~No big project could be successful without a good logging feature. The logging library from Python helps you to easily add logging in your system. It has different ways to spit out logs such as the console, files, and the network.~~\n",
        "\n",
        "**json**\n",
        "\n",
        "JSON is the de facto standard for passing information over a network and for APIs. The json library from Python does a great job of handling different scenarios. The json library interface is easy to use, and the documentation is pretty good.\n",
        "\n",
        "**pickle**\n",
        "\n",
        "You might not use it in daily coding, but whenever you need to serialize and deserialize a Python object, there is no better library than pickle .\n",
        "\n",
        "~~**\\_\\_future\\_\\_**~~\n",
        "\n",
        "~~This is a pseudomodule that enables new language features that are not compatible with the current interpreter. So, you might want to consider using them in your code where you want to use a future version.~~"
      ]
    },
    {
      "cell_type": "markdown",
      "metadata": {
        "id": "A-NBrpkiPBps"
      },
      "source": [
        "### Example: Using csv"
      ]
    },
    {
      "cell_type": "code",
      "execution_count": 1,
      "metadata": {
        "ExecuteTime": {
          "end_time": "2021-06-03T23:37:48.031748Z",
          "start_time": "2021-06-03T23:37:48.010314Z"
        },
        "id": "NYOpeaGNPBps",
        "outputId": "fc15200a-7e46-42b4-aa53-45eedb06823f",
        "colab": {
          "base_uri": "https://localhost:8080/"
        }
      },
      "outputs": [
        {
          "output_type": "stream",
          "name": "stdout",
          "text": [
            "/root\n"
          ]
        }
      ],
      "source": [
        "cd"
      ]
    },
    {
      "cell_type": "code",
      "execution_count": 2,
      "metadata": {
        "ExecuteTime": {
          "end_time": "2021-06-03T23:37:53.803413Z",
          "start_time": "2021-06-03T23:37:53.788413Z"
        },
        "id": "xuhj9-sEPBpu",
        "outputId": "02a820d0-39b4-4b51-a653-fd63e7151422",
        "colab": {
          "base_uri": "https://localhost:8080/"
        }
      },
      "outputs": [
        {
          "output_type": "stream",
          "name": "stdout",
          "text": [
            "[Errno 2] No such file or directory: 'C:/Users/jason/Dropbox/utdallas/buan6340/post'\n",
            "/root\n"
          ]
        }
      ],
      "source": [
        "cd C:/Users/jason/Dropbox/utdallas/buan6340/post"
      ]
    },
    {
      "cell_type": "code",
      "execution_count": null,
      "metadata": {
        "ExecuteTime": {
          "end_time": "2021-06-03T23:38:34.978620Z",
          "start_time": "2021-06-03T23:38:34.966594Z"
        },
        "id": "6RA2zr7zPBpu",
        "outputId": "1de45559-9243-4607-9e78-6fcdb67138de"
      },
      "outputs": [
        {
          "name": "stdout",
          "output_type": "stream",
          "text": [
            "['faminc', 'cigtax', 'cigprice', 'bwght', 'fatheduc', 'motheduc', 'parity', 'male', 'white', 'cigs', 'lbwght', 'bwghtlbs', 'packs', 'lfaminc']\n",
            "['13.5', '16.5', '122.3', '109', '12', '12', '1', '1', '1', '0', '4.691348', '6.8125', '0', '2.60269']\n",
            "['7.5', '16.5', '122.3', '133', '6', '12', '2', '1', '0', '0', '4.890349', '8.3125', '0', '2.014903']\n",
            "['.5', '16.5', '122.3', '129', '', '12', '2', '0', '0', '0', '4.859812', '8.0625', '0', '-.6931472']\n",
            "['15.5', '16.5', '122.3', '126', '12', '12', '2', '1', '0', '0', '4.836282', '7.875', '0', '2.74084']\n"
          ]
        }
      ],
      "source": [
        "#import csv # give us access to csv functions\n",
        "from csv import reader\n",
        "\n",
        "file = open('BWGHT.csv')  # open a file BWGHT.csv\n",
        "readr = reader(file) # make a reader for the file using a custom function from the csv package\n",
        "for i in range(5):        # we are going to read 5 lines\n",
        "    print(next(readr))   # next() moves through the file and returns a list of each item in the line\n",
        "file.close()              # close the file when done"
      ]
    },
    {
      "cell_type": "markdown",
      "metadata": {
        "id": "guomqVmHPBpu"
      },
      "source": [
        "Now that we have called import, we have access to those functions in this notebook. This persists between cells. Equivalent to above we could have written:"
      ]
    },
    {
      "cell_type": "code",
      "execution_count": null,
      "metadata": {
        "id": "UBhykXZaPBpv",
        "outputId": "f912805b-036d-4bd0-f6ef-261679749a92"
      },
      "outputs": [
        {
          "name": "stdout",
          "output_type": "stream",
          "text": [
            "['faminc', 'cigtax', 'cigprice', 'bwght', 'fatheduc', 'motheduc', 'parity', 'male', 'white', 'cigs', 'lbwght', 'bwghtlbs', 'packs', 'lfaminc']\n",
            "['13.5', '16.5', '122.3', '109', '12', '12', '1', '1', '1', '0', '4.691348', '6.8125', '0', '2.60269']\n",
            "['7.5', '16.5', '122.3', '133', '6', '12', '2', '1', '0', '0', '4.890349', '8.3125', '0', '2.014903']\n",
            "['.5', '16.5', '122.3', '129', '', '12', '2', '0', '0', '0', '4.859812', '8.0625', '0', '-.6931472']\n",
            "['15.5', '16.5', '122.3', '126', '12', '12', '2', '1', '0', '0', '4.836282', '7.875', '0', '2.74084']\n",
            "the file is closed\n"
          ]
        }
      ],
      "source": [
        "import csv \n",
        "\n",
        "# with command as variable_name:  \n",
        "with open('BWGHT.csv') as file:  # this will close the file automatically preventing potential errors\n",
        "    reader = csv.reader(file)\n",
        "    for i in range(5):\n",
        "        print(next(reader)) \n",
        "print('the file is closed')"
      ]
    },
    {
      "cell_type": "code",
      "execution_count": null,
      "metadata": {
        "ExecuteTime": {
          "end_time": "2021-06-03T23:43:17.171240Z",
          "start_time": "2021-06-03T23:43:17.166240Z"
        },
        "id": "tJOwmLhnPBpv",
        "outputId": "3a259f09-a8b9-4b7b-fa99-ef85a55372af"
      },
      "outputs": [
        {
          "name": "stdout",
          "output_type": "stream",
          "text": [
            "faminc,cigtax,cigprice,bwght,fatheduc,motheduc,parity,male,white,cigs,lbwght,bwghtlbs,packs,lfaminc\n",
            "\n",
            "13.5,16.5,122.3,109,12,12,1,1,1,0,4.691348,6.8125,0,2.60269\n",
            "\n",
            "7.5,16.5,122.3,133,6,12,2,1,0,0,4.890349,8.3125,0,2.014903\n",
            "\n",
            ".5,16.5,122.3,129,,12,2,0,0,0,4.859812,8.0625,0,-.6931472\n",
            "\n",
            "15.5,16.5,122.3,126,12,12,2,1,0,0,4.836282,7.875,0,2.74084\n",
            "\n"
          ]
        }
      ],
      "source": [
        "with open('BWGHT.csv') as file: \n",
        "    for i in range(5):\n",
        "        line = file.readline()\n",
        "        print(line)"
      ]
    },
    {
      "cell_type": "markdown",
      "metadata": {
        "id": "gCowalHmPBpv"
      },
      "source": [
        "## Miscellaneous: bash on Windows\n",
        "\n",
        "Windows does not have access to bash scripting capability natively. That said, we have some alternatives/ options for getting bash functionality.\n",
        "\n",
        "1. powershell\n",
        "2. Docker or virtual machines\n",
        "3. ubuntu on Windows\n",
        "4. Cygwin  (be sure to get cygrunsrv sed/gawk ssmtp ssh) (be sure to skip python and anything you can install without cygwin)\n",
        "5. Git bash"
      ]
    },
    {
      "cell_type": "markdown",
      "metadata": {
        "id": "1c-lAagwPBpw"
      },
      "source": [
        "## Topic: Scripting\n",
        "### Concepts\n",
        "#### Foundations\n",
        "##### Idea: Simple general purpose scripts chained together to make complex programs\n",
        "\n",
        "##### Benefits (if you don't see the benefits immediately, don't worry; that's normal)\n",
        "* Run programs on a fixed schedule\n",
        "* Simple multithreading for better performance time\n",
        "* Code stability/persistence\n",
        "    \n",
        "##### Tools\t\n",
        "**ls** lists files in a directory structure.\n",
        "\n",
        "**grep** looks through standard input for a particular regular expression match. If found anywhere in the line, that line is then sent to standard output (otherwise the line is caught and doesn't go anywhere).\n",
        "\n",
        "**sed/awk** are simple data tools to read particular parts of output or writing basic conditional logic.\n",
        "\n",
        "**cron** can be used to run jobs on a fixed schedule.\n",
        "\n",
        "**python** can be used to write simple or complex programs for use in/with these basic pipe command. In fact, all of these simple programs can be written in python. If you can leverage these basic tools, you can make your python code much more effective and built for much more general purposes.\n",
        "#### Python libraries\n",
        "\n",
        "**Sys** is a good library for dealing with standard input, standard output, stardard error output and commandline arguments.\n",
        "\n",
        "**os** is a good library for reading directory structures and system structure/features.\n",
        "\n",
        "**subprocess** can be used to spawn subprocesses to implement other programs and/or other python programs to create multithreading (parallelism)"
      ]
    },
    {
      "cell_type": "code",
      "execution_count": null,
      "metadata": {
        "id": "6QrN1_8GPBpw",
        "outputId": "f7f348ba-baae-464a-b39c-e2b0a3faf60a"
      },
      "outputs": [
        {
          "name": "stdout",
          "output_type": "stream",
          "text": [
            "hello\n"
          ]
        },
        {
          "ename": "Exception",
          "evalue": "The code broke",
          "output_type": "error",
          "traceback": [
            "\u001b[1;31m---------------------------------------------------------------------------\u001b[0m",
            "\u001b[1;31mException\u001b[0m                                 Traceback (most recent call last)",
            "\u001b[1;32m<ipython-input-3-9e3d554cdbe6>\u001b[0m in \u001b[0;36m<module>\u001b[1;34m\u001b[0m\n\u001b[0;32m      4\u001b[0m \u001b[0msys\u001b[0m\u001b[1;33m.\u001b[0m\u001b[0margv\u001b[0m \u001b[1;31m# these are the arguments that were called\u001b[0m\u001b[1;33m\u001b[0m\u001b[1;33m\u001b[0m\u001b[0m\n\u001b[0;32m      5\u001b[0m \u001b[0mprint\u001b[0m\u001b[1;33m(\u001b[0m\u001b[1;34m'hello'\u001b[0m\u001b[1;33m)\u001b[0m \u001b[1;31m# this goes to standard output\u001b[0m\u001b[1;33m\u001b[0m\u001b[1;33m\u001b[0m\u001b[0m\n\u001b[1;32m----> 6\u001b[1;33m \u001b[1;32mraise\u001b[0m \u001b[0mException\u001b[0m\u001b[1;33m(\u001b[0m\u001b[1;34m'The code broke'\u001b[0m\u001b[1;33m)\u001b[0m \u001b[1;31m# this goes to standard error\u001b[0m\u001b[1;33m\u001b[0m\u001b[1;33m\u001b[0m\u001b[0m\n\u001b[0m",
            "\u001b[1;31mException\u001b[0m: The code broke"
          ]
        }
      ],
      "source": [
        "import sys\n",
        "\n",
        "sys.stdin # this is the code from standard input\n",
        "sys.argv # these are the arguments that were called \n",
        "print('hello') # this goes to standard output\n",
        "raise Exception('The code broke') # this goes to standard error"
      ]
    },
    {
      "cell_type": "markdown",
      "metadata": {
        "id": "CY9FNH7zPBpx"
      },
      "source": [
        "### Example: Poker hands simulation\n",
        "\n",
        "For the task of writing a program to count the frequencies of poker hands, I wrote the following code:"
      ]
    },
    {
      "cell_type": "code",
      "execution_count": null,
      "metadata": {
        "ExecuteTime": {
          "end_time": "2021-06-04T00:21:22.700077Z",
          "start_time": "2021-06-04T00:16:54.105619Z"
        },
        "code_folding": [
          3,
          20,
          29
        ],
        "id": "5I1MC2gNPBpx",
        "outputId": "5c3be713-3acd-4ea0-f292-b5eaee7b9c7d"
      },
      "outputs": [
        {
          "name": "stdout",
          "output_type": "stream",
          "text": [
            "{'royal': 1, 'stflush': 19, 'quad': 254, 'fullhouse': 1426, 'flush': 1968, 'straight': 3879, 'trip': 21208, 'twopair': 47470, 'pair': 422593, 'other': 501182}\n",
            "{'royal': 1, 'stflush': 19, 'quad': 254, 'fullhouse': 1426, 'flush': 1968, 'straight': 3879, 'trip': 21208, 'twopair': 47470, 'pair': 422593, 'other': 501182}\n",
            "{'royal': 1, 'stflush': 19, 'quad': 254, 'fullhouse': 1426, 'flush': 1968, 'straight': 3879, 'trip': 21208, 'twopair': 47470, 'pair': 422593, 'other': 501182}\n",
            "{'royal': 1, 'stflush': 19, 'quad': 254, 'fullhouse': 1426, 'flush': 1968, 'straight': 3879, 'trip': 21208, 'twopair': 47470, 'pair': 422593, 'other': 501182}\n",
            "{'royal': 1, 'stflush': 19, 'quad': 254, 'fullhouse': 1426, 'flush': 1968, 'straight': 3879, 'trip': 21208, 'twopair': 47470, 'pair': 422593, 'other': 501182}\n",
            "{'royal': 1, 'stflush': 19, 'quad': 254, 'fullhouse': 1426, 'flush': 1968, 'straight': 3879, 'trip': 21208, 'twopair': 47470, 'pair': 422593, 'other': 501182}\n",
            "{'royal': 1, 'stflush': 19, 'quad': 254, 'fullhouse': 1426, 'flush': 1968, 'straight': 3879, 'trip': 21208, 'twopair': 47470, 'pair': 422593, 'other': 501182}\n",
            "{'royal': 1, 'stflush': 19, 'quad': 254, 'fullhouse': 1426, 'flush': 1968, 'straight': 3879, 'trip': 21208, 'twopair': 47470, 'pair': 422593, 'other': 501182}\n",
            "26.2 s ± 87.1 ms per loop (mean ± std. dev. of 7 runs, 1 loop each)\n"
          ]
        }
      ],
      "source": [
        "from itertools import product\n",
        "import random\n",
        "\n",
        "def get_hand_name(suits:dict,nums:dict):\n",
        "    suitvec =   ['\\u2660','\\u2665','\\u2663','\\u2666']\n",
        "    numbervec = ['A','2','3','4','5','6','7','8','9','10','J','Q','K','A']\n",
        "    straights = [set(numbervec[i:i+5]) for i in range(10)]\n",
        "    nvals = list(nums.values())\n",
        "    nvals.sort()\n",
        "    if set(nums.keys()) in straights and len(suits)==1:\n",
        "        if set(nums.keys()) == straights[-1]: return 'royal'\n",
        "        return 'stflush'\n",
        "    if nvals[-1] >= 4: return 'quad'\n",
        "    if nvals[-1] == 3 and nvals[-2] == 2: return 'fullhouse'\n",
        "    if len(suits)==1: return 'flush'\n",
        "    if set(nums.keys()) in straights: return 'straight'\n",
        "    if nvals[-1] >= 3: return 'trip'\n",
        "    if nvals[-1] >= 2 and nvals[-2] >= 2: return 'twopair'\n",
        "    if nvals[-1] >= 2: return 'pair'\n",
        "    return 'other'\n",
        "def get_suits_and_nums(hand):\n",
        "    suits = {}\n",
        "    nums = {}\n",
        "    for card in hand:\n",
        "        suit = card[0]\n",
        "        num = card[1:]\n",
        "        suits[suit] = 1+suits[suit] if suit in suits.keys() else 1\n",
        "        nums[num] = 1+nums[num] if num in nums.keys() else 1\n",
        "    return suits,nums\n",
        "def run_poker(nsim:int,seed:int):\n",
        "    suitvec = ['\\u2660','\\u2665','\\u2663','\\u2666']\n",
        "    numbervec = ['A','2','3','4','5','6','7','8','9','10','J','Q','K']\n",
        "    deck = [i+j for i,j in product(suitvec,numbervec)]\n",
        "    hands = {'royal':0,'stflush':0,'quad':0,'fullhouse':0,'flush':0,\\\n",
        "             'straight':0,'trip':0,'twopair':0,'pair':0,'other':0}\n",
        "    random.seed(seed)\n",
        "    for i in range(nsim):\n",
        "        random.shuffle(deck)\n",
        "        hand = deck[:5]\n",
        "        suits,nums = get_suits_and_nums(hand)\n",
        "        name = get_hand_name(suits,nums)\n",
        "        hands[name] += 1\n",
        "    return hands\n",
        "\n",
        "%timeit print(run_poker(int(1e6),0))"
      ]
    },
    {
      "cell_type": "code",
      "execution_count": null,
      "metadata": {
        "ExecuteTime": {
          "end_time": "2021-01-28T22:46:38.133460Z",
          "start_time": "2021-01-28T22:46:38.110392Z"
        },
        "id": "jIAPQ6Q6PBpy",
        "outputId": "d4079687-d336-4461-9a3e-1f533cef53bc"
      },
      "outputs": [
        {
          "name": "stdout",
          "output_type": "stream",
          "text": [
            "♠A\n",
            "♠2\n",
            "♠3\n",
            "♠4\n",
            "♠5\n",
            "♠6\n",
            "♠7\n",
            "♠8\n",
            "♠9\n",
            "♠10\n",
            "♠J\n",
            "♠Q\n",
            "♠K\n",
            "♥A\n",
            "♥2\n",
            "♥3\n",
            "♥4\n",
            "♥5\n",
            "♥6\n",
            "♥7\n",
            "♥8\n",
            "♥9\n",
            "♥10\n",
            "♥J\n",
            "♥Q\n",
            "♥K\n",
            "♣A\n",
            "♣2\n",
            "♣3\n",
            "♣4\n",
            "♣5\n",
            "♣6\n",
            "♣7\n",
            "♣8\n",
            "♣9\n",
            "♣10\n",
            "♣J\n",
            "♣Q\n",
            "♣K\n",
            "♦A\n",
            "♦2\n",
            "♦3\n",
            "♦4\n",
            "♦5\n",
            "♦6\n",
            "♦7\n",
            "♦8\n",
            "♦9\n",
            "♦10\n",
            "♦J\n",
            "♦Q\n",
            "♦K\n"
          ]
        }
      ],
      "source": [
        "from itertools import product\n",
        "suitvec = ['\\u2660','\\u2665','\\u2663','\\u2666']\n",
        "numbervec = ['A','2','3','4','5','6','7','8','9','10','J','Q','K']\n",
        "for i,j in product(suitvec,numbervec):\n",
        "    print(i+j)"
      ]
    },
    {
      "cell_type": "code",
      "execution_count": null,
      "metadata": {
        "ExecuteTime": {
          "end_time": "2021-01-27T22:59:27.348568Z",
          "start_time": "2021-01-27T22:59:27.341569Z"
        },
        "id": "Pi7b2E52PBpz",
        "outputId": "3fd75817-14aa-4bad-b2ee-138ccea6ef98"
      },
      "outputs": [
        {
          "name": "stdout",
          "output_type": "stream",
          "text": [
            "21\n"
          ]
        }
      ],
      "source": [
        "x = 3\n",
        "print(7*x)"
      ]
    },
    {
      "cell_type": "code",
      "execution_count": null,
      "metadata": {
        "ExecuteTime": {
          "end_time": "2021-01-27T23:02:01.757880Z",
          "start_time": "2021-01-27T23:02:01.749910Z"
        },
        "id": "9jSFU8AmPBpz",
        "outputId": "5896700c-cfe8-4bd1-8c6a-5a4d861e278b"
      },
      "outputs": [
        {
          "name": "stdout",
          "output_type": "stream",
          "text": [
            "C:\\Users\\jason\\Downloads\n"
          ]
        }
      ],
      "source": [
        "%cd ~/Downloads"
      ]
    },
    {
      "cell_type": "code",
      "execution_count": null,
      "metadata": {
        "id": "h9lIhwsMPBp0",
        "outputId": "b7612073-d05e-435a-9b22-8271fd9b2777"
      },
      "outputs": [
        {
          "data": {
            "text/plain": [
              "['♠', '♥', '♣', '♦']"
            ]
          },
          "execution_count": 7,
          "metadata": {},
          "output_type": "execute_result"
        }
      ],
      "source": [
        "suitvec = ['\\u2660','\\u2665','\\u2663','\\u2666']\n",
        "suitvec"
      ]
    },
    {
      "cell_type": "code",
      "execution_count": null,
      "metadata": {
        "id": "uTlkq60APBp0",
        "outputId": "fc7f2892-946f-449d-ea0d-ad904e45889f"
      },
      "outputs": [
        {
          "name": "stdout",
          "output_type": "stream",
          "text": [
            "[('♠', 'A'), ('♠', '2'), ('♠', '3'), ('♠', '4'), ('♠', '5'), ('♠', '6'), ('♠', '7'), ('♠', '8'), ('♠', '9'), ('♠', '10'), ('♠', 'J'), ('♠', 'Q'), ('♠', 'K'), ('♥', 'A'), ('♥', '2'), ('♥', '3'), ('♥', '4'), ('♥', '5'), ('♥', '6'), ('♥', '7'), ('♥', '8'), ('♥', '9'), ('♥', '10'), ('♥', 'J'), ('♥', 'Q'), ('♥', 'K'), ('♣', 'A'), ('♣', '2'), ('♣', '3'), ('♣', '4'), ('♣', '5'), ('♣', '6'), ('♣', '7'), ('♣', '8'), ('♣', '9'), ('♣', '10'), ('♣', 'J'), ('♣', 'Q'), ('♣', 'K'), ('♦', 'A'), ('♦', '2'), ('♦', '3'), ('♦', '4'), ('♦', '5'), ('♦', '6'), ('♦', '7'), ('♦', '8'), ('♦', '9'), ('♦', '10'), ('♦', 'J'), ('♦', 'Q'), ('♦', 'K')]\n"
          ]
        }
      ],
      "source": [
        "import itertools\n",
        "suitvec = ['\\u2660','\\u2665','\\u2663','\\u2666']\n",
        "numbervec = ['A','2','3','4','5','6','7','8','9','10','J','Q','K']\n",
        "\n",
        "print(list(itertools.product(suitvec,numbervec)))"
      ]
    },
    {
      "cell_type": "markdown",
      "metadata": {
        "id": "jXAahGq3PBp0"
      },
      "source": [
        "Next I considered comparing this to multithreaded code. So I wrote this to a file. Note the use of pickle to store the information and sys to read commandline arguments:"
      ]
    },
    {
      "cell_type": "code",
      "execution_count": null,
      "metadata": {
        "ExecuteTime": {
          "end_time": "2021-01-28T22:58:26.375392Z",
          "start_time": "2021-01-28T22:58:26.359393Z"
        },
        "id": "LHcE-Fh2PBp0",
        "outputId": "170fb4d1-17f1-44c5-e14e-8281cbd50d31"
      },
      "outputs": [
        {
          "name": "stdout",
          "output_type": "stream",
          "text": [
            "C:\\Users\\jason\\Dropbox\\utdallas\\buan6340\\post\n"
          ]
        }
      ],
      "source": [
        "%cd C:/Users/jason/Dropbox/utdallas/buan6340/post"
      ]
    },
    {
      "cell_type": "code",
      "execution_count": null,
      "metadata": {
        "ExecuteTime": {
          "end_time": "2021-01-28T22:58:30.963732Z",
          "start_time": "2021-01-28T22:58:30.947630Z"
        },
        "code_folding": [
          10,
          27,
          36
        ],
        "id": "uilBn2d3PBp1"
      },
      "outputs": [],
      "source": [
        "\n",
        "dump_string = '''\n",
        "from itertools import product\n",
        "import random\n",
        "import sys\n",
        "import pickle\n",
        "\n",
        "nsim = int(sys.argv[1])\n",
        "seed = int(sys.argv[2])\n",
        "\n",
        "def get_hand_name(suits:dict,nums:dict):\n",
        "    suitvec =   ['\\\\u2660','\\\\u2665','\\\\u2663','\\\\u2666']\n",
        "    numbervec = ['A','2','3','4','5','6','7','8','9','10','J','Q','K','A']\n",
        "    straights = [set(numbervec[i:i+5]) for i in range(10)]\n",
        "    nvals = list(nums.values())\n",
        "    nvals.sort()\n",
        "    if set(nums.keys()) in straights and len(suits)==1:\n",
        "        if set(nums.keys()) == straights[-1]: return 'royal'\n",
        "        return 'stflush'\n",
        "    if nvals[-1] >= 4: return 'quad'\n",
        "    if nvals[-1] == 3 and nvals[-2] == 2: return 'fullhouse'\n",
        "    if len(suits)==1: return 'flush'\n",
        "    if set(nums.keys()) in straights: return 'straight'\n",
        "    if nvals[-1] >= 3: return 'trip'\n",
        "    if nvals[-1] >= 2 and nvals[-2] >= 2: return 'twopair'\n",
        "    if nvals[-1] >= 2: return 'pair'\n",
        "    return 'other'\n",
        "def get_suits_and_nums(hand):\n",
        "    suits = {}\n",
        "    nums = {}\n",
        "    for card in hand:\n",
        "        suit = card[0]\n",
        "        num = card[1:]\n",
        "        suits[suit] = 1+suits[suit] if suit in suits.keys() else 1\n",
        "        nums[num] = 1+nums[num] if num in nums.keys() else 1\n",
        "    return suits,nums\n",
        "def run_poker(nsim:int,seed:int):\n",
        "    suitvec = ['\\\\u2660','\\\\u2665','\\\\u2663','\\\\u2666']\n",
        "    numbervec = ['A','2','3','4','5','6','7','8','9','10','J','Q','K']\n",
        "    deck = [i+j for i,j in product(suitvec,numbervec)]\n",
        "    hands = {'royal':0,'stflush':0,'quad':0,'fullhouse':0,'flush':0,\\\n",
        "             'straight':0,'trip':0,'twopair':0,'pair':0,'other':0}\n",
        "    random.seed(seed)\n",
        "    for i in range(nsim):\n",
        "        random.shuffle(deck)\n",
        "        hand = deck[:5]\n",
        "        suits,nums = get_suits_and_nums(hand)\n",
        "        name = get_hand_name(suits,nums)\n",
        "        hands[name] += 1\n",
        "    return hands\n",
        "\n",
        "with open('saves/poker_{0}_{1}.p'.format(nsim,seed),'wb') as pfile:\n",
        "    pickle.dump(run_poker(nsim,seed),pfile)\n",
        "'''\n",
        "with open('poker.py','w') as file:\n",
        "    file.write(dump_string)"
      ]
    },
    {
      "cell_type": "code",
      "execution_count": null,
      "metadata": {
        "id": "yII-yoDRPBp1",
        "outputId": "1af0a17e-51db-433b-97ce-ec26afe31549"
      },
      "outputs": [
        {
          "name": "stdout",
          "output_type": "stream",
          "text": [
            "/home/jason/Dropbox/utdallas/buan6340/post\n"
          ]
        }
      ],
      "source": [
        "cd ~/Dropbox/utdallas/buan6340/post"
      ]
    },
    {
      "cell_type": "markdown",
      "metadata": {
        "id": "_SZ42hDnPBp2"
      },
      "source": [
        "Now, I wrote a wrapper using subprocess:"
      ]
    },
    {
      "cell_type": "code",
      "execution_count": null,
      "metadata": {
        "ExecuteTime": {
          "end_time": "2021-06-04T00:27:12.654646Z",
          "start_time": "2021-06-04T00:25:27.552670Z"
        },
        "code_folding": [
          3,
          10,
          18
        ],
        "id": "b-X-7OWUPBp2",
        "outputId": "6f644a04-d5d2-484b-ebca-6d6b7a94d59d"
      },
      "outputs": [
        {
          "name": "stdout",
          "output_type": "stream",
          "text": [
            "{'royal': 1, 'stflush': 13, 'quad': 244, 'fullhouse': 1477, 'flush': 1940, 'straight': 3974, 'trip': 21260, 'twopair': 47459, 'pair': 422466, 'other': 501166}\n",
            "{'royal': 1, 'stflush': 13, 'quad': 244, 'fullhouse': 1477, 'flush': 1940, 'straight': 3974, 'trip': 21260, 'twopair': 47459, 'pair': 422466, 'other': 501166}\n",
            "{'royal': 1, 'stflush': 13, 'quad': 244, 'fullhouse': 1477, 'flush': 1940, 'straight': 3974, 'trip': 21260, 'twopair': 47459, 'pair': 422466, 'other': 501166}\n",
            "{'royal': 1, 'stflush': 13, 'quad': 244, 'fullhouse': 1477, 'flush': 1940, 'straight': 3974, 'trip': 21260, 'twopair': 47459, 'pair': 422466, 'other': 501166}\n",
            "{'royal': 1, 'stflush': 13, 'quad': 244, 'fullhouse': 1477, 'flush': 1940, 'straight': 3974, 'trip': 21260, 'twopair': 47459, 'pair': 422466, 'other': 501166}\n",
            "{'royal': 1, 'stflush': 13, 'quad': 244, 'fullhouse': 1477, 'flush': 1940, 'straight': 3974, 'trip': 21260, 'twopair': 47459, 'pair': 422466, 'other': 501166}\n",
            "{'royal': 1, 'stflush': 13, 'quad': 244, 'fullhouse': 1477, 'flush': 1940, 'straight': 3974, 'trip': 21260, 'twopair': 47459, 'pair': 422466, 'other': 501166}\n",
            "{'royal': 1, 'stflush': 13, 'quad': 244, 'fullhouse': 1477, 'flush': 1940, 'straight': 3974, 'trip': 21260, 'twopair': 47459, 'pair': 422466, 'other': 501166}\n",
            "3.85 s ± 84.6 ms per loop (mean ± std. dev. of 7 runs, 1 loop each)\n"
          ]
        }
      ],
      "source": [
        "import subprocess\n",
        "import pickle\n",
        "\n",
        "def run_parallel_poker(num_procs,num_sims_each):\n",
        "    procvec = []\n",
        "    for i in range(num_procs):\n",
        "        item = subprocess.Popen(['python','poker.py',str(num_sims_each),str(i)])\n",
        "        procvec += [item]\n",
        "    for item in procvec:\n",
        "        item.wait()\n",
        "def collect_parallel_poker(num_procs,num_sims_each):\n",
        "    total = {}\n",
        "    for i in range(num_procs):\n",
        "        pfile = open('saves/poker_{0}_{1}.p'.format(num_sims_each,i),'rb')\n",
        "        save = pickle.load(pfile)\n",
        "        total = {k:save[k]+total.get(k,0) for k in save.keys()}\n",
        "        pfile.close()\n",
        "    return total\n",
        "def parallel_poker(num_procs,num_sims_each):\n",
        "    run_parallel_poker(num_procs,num_sims_each)\n",
        "    return collect_parallel_poker(num_procs,num_sims_each)\n",
        "\n",
        "%timeit print(parallel_poker(100,int(1e6/100)))"
      ]
    },
    {
      "cell_type": "code",
      "execution_count": null,
      "metadata": {
        "id": "4pLfIfBcPBp2",
        "outputId": "f6da28b6-0fa3-42ad-95c2-58162703d2e2"
      },
      "outputs": [
        {
          "data": {
            "text/plain": [
              "6.805194805194805"
            ]
          },
          "execution_count": 6,
          "metadata": {},
          "output_type": "execute_result"
        }
      ],
      "source": [
        "26.2/3.85"
      ]
    },
    {
      "cell_type": "code",
      "execution_count": null,
      "metadata": {
        "ExecuteTime": {
          "end_time": "2021-06-04T00:28:01.331147Z",
          "start_time": "2021-06-04T00:28:01.321148Z"
        },
        "id": "cYfvmu-hPBp3",
        "outputId": "90ad699a-42d0-4b19-ecae-09305ad8e6f7"
      },
      "outputs": [
        {
          "data": {
            "text/plain": [
              "2.572519083969466"
            ]
          },
          "execution_count": 7,
          "metadata": {},
          "output_type": "execute_result"
        }
      ],
      "source": [
        "33.7/13.1"
      ]
    },
    {
      "cell_type": "code",
      "execution_count": null,
      "metadata": {
        "ExecuteTime": {
          "end_time": "2021-01-28T23:18:50.442585Z",
          "start_time": "2021-01-28T23:18:50.030416Z"
        },
        "scrolled": true,
        "id": "mG68emynPBp3",
        "outputId": "b7f0148b-2813-4d1d-b0e2-9ab7423717c8"
      },
      "outputs": [
        {
          "data": {
            "text/plain": [
              "b''"
            ]
          },
          "execution_count": 7,
          "metadata": {},
          "output_type": "execute_result"
        }
      ],
      "source": [
        "proc = subprocess.Popen(['python','poker.py',\"10000\",\"0\"],\n",
        "                        stderr=subprocess.PIPE)\n",
        "proc.stderr.read()"
      ]
    },
    {
      "cell_type": "markdown",
      "metadata": {
        "id": "b4fSHqDFPBp3"
      },
      "source": [
        "What I got was a $16\\times$ improvement running on a system with 16 cores (32 threads)"
      ]
    },
    {
      "cell_type": "code",
      "execution_count": null,
      "metadata": {
        "id": "WbfymJE-PBp4",
        "outputId": "8010e900-2132-4ff2-bdb9-37c0b744201d"
      },
      "outputs": [
        {
          "data": {
            "text/plain": [
              "3.1142857142857148"
            ]
          },
          "execution_count": 23,
          "metadata": {},
          "output_type": "execute_result"
        }
      ],
      "source": [
        "32.7/10.5"
      ]
    },
    {
      "cell_type": "markdown",
      "metadata": {
        "id": "1BqDwGXNPBp4"
      },
      "source": [
        "## Data science: Matrix algebra\n",
        "\n",
        "#### Notation\n",
        "$$\\mathbf{X}=\n",
        "\\begin{bmatrix}\n",
        "x_{1,1} & x_{1,2} & \\dots  & x_{1,r} \\\\\n",
        "x_{2,1} & x_{2,2} &        & x_{2,r} \\\\\n",
        "\\vdots  &         & \\ddots & \\vdots  \\\\\n",
        "x_{n,1} & x_{n,2} & \\dots  & x_{n,r} \\\\\n",
        "\\end{bmatrix}=\\left(x_{i,j}\\right)_{i=1,..n;j=1,..r}\n",
        "$$\n",
        "\n",
        "### Arithmetic\n",
        "#### Basic operations\n",
        "**Addition** on matrices works the same way as addition on vectors: $\\mathbf{X}+\\mathbf{Y}=\\left(x_{i,j}+y_{i,j}\\right)_{i=1,..n;j=1,..r}$ Similarly, **scalar multiplication** works the same: $a\\mathbf{X}=\\left(a\\cdot x_{i,j}\\right)_{i=1,..n;j=1,..r}$. The only special simple operation you need to know is the **transpose**. The transpose switches the rows and the columns of a matrix: $\\mathbf{X}'=\\left(x_{i,j}\\right)_{j=1,..r;i=1,..n}$\n",
        "#### Multiplication\t\n",
        "In general, a linear system is one where:\n",
        "$$\\mathbf{A}x=y$$\n",
        "For ordinary least squares, we define the following lineaer system:\n",
        "$$y=\\mathbf{X}\\beta+e$$\n",
        "Matrix multiplication is defined so that this equation is equivalent to:\n",
        "$$y_i = \\beta_0+\\beta_1 x_{i,1}+\\dots+\\beta_r x_{i,r}+e_i$$\n",
        "For this to be true,\n",
        "$$\\mathbf{X}\\mathbf{Y}=\\left(\\sum_{k=1}^r x_{i,k}y_{k,j}\\right)_{i=1,..,n;j=1,..,m}$$\n",
        "You don't need to memorize this. The computer will calculate it for you. You need to be able to read equations like $y=\\mathbf{X}\\beta+e$ and understand them. Note that we can now revise our inner product definition to:\n",
        "$\\langle x,y \\rangle = x'y$\n",
        "### Special quantities\n",
        "#### Special matrices\t\n",
        "The $n\\times r$ **zero matrix** is defined by: $\\mathbf{0}=(0)_{i=1,..n;j=1,..r}$ Note that for any matrix $\\mathbf{X}$:\n",
        "\n",
        "$$\\mathbf{0} \\mathbf{X} =  \\mathbf{X} \\mathbf{0} = \\mathbf{0}$$\n",
        "\n",
        "The $n\\times r$ **ones matrix** is defined by: $\\mathbf{1}=(1)_{i=1,..n;j=1,..r}$\n",
        "\n",
        "The $n\\times n$ **identity matrix** is defined by:\n",
        "$$\n",
        "\\mathbf{I}_n=\n",
        "\\begin{bmatrix}\n",
        "1 & 0 & \\dots & 0 \\\\\n",
        "0 & 1 & & 0 \\\\\n",
        "\\vdots & & \\ddots & \\vdots \\\\\n",
        "0 & 0 & \\dots& 1\n",
        "\\end{bmatrix}\n",
        "$$\n",
        "Note that for any $n\\times r$ matrix $\\mathbf{X}$,\n",
        "$$\\mathbf{I}_n \\mathbf{X} =  \\mathbf{X} \\mathbf{I}_r = \\mathbf{X}$$\n",
        "\n",
        "The **diagonal matrix** of a vector $x$ is defined by:\n",
        "$$\n",
        "\\text{diag}\\left(x\\right)=\n",
        "\\begin{bmatrix}\n",
        "x_1 & 0 & \\dots & 0 \\\\\n",
        "0 & x_2 & & 0 \\\\\n",
        "\\vdots & & \\ddots & \\vdots \\\\\n",
        "0 & 0 & \\dots& x_n\n",
        "\\end{bmatrix}\n",
        "$$\n",
        "\n",
        "A square ($n\\times n$) matrix $\\mathbf{X}$ is said to be **symmetric** if and only if:\n",
        "\n",
        "$$\\mathbf{X} \\text{ symmetric} \\Longleftrightarrow \\mathbf{X}=\\mathbf{X}'$$\n",
        "#### Scalar quantites\t\n",
        "\n",
        "$a'x$ is a **linear form** of the vector $x$\n",
        "\n",
        "$x'\\mathbf{A}x$ is a **quadratic form** of the vector $x$\n",
        "#### Measures\n",
        "The **trace** of a matrix $\\mathbf{X}$ is defined as the sum of the elements on the main diagonal:\n",
        "$\\text{tr}(\\mathbf X)=\\sum_{i=1}^r x_{i,i}$. The **determinant** is an incredibly confusing concept. It's something like a matrix norm, but the concept is confusing even to experts. The determinant of a square matrix $\\mathbf X$ is defined by: \n",
        "$$\n",
        "\\text{det}(\\mathbf X)=\n",
        "\\sum_{\\sigma\\in S_n}\\left(\\text{sgn}(\\sigma)\\prod_{i=1}^n x_{i,\\sigma_i}\\right)\n",
        "$$\n",
        "where $S_n$ is the set of a permutations of the numbers $1,\\dots,n$. This is ridiculously obtuse, and I am only putting it here for reference, not for your comprehension. Actual matrix norms exist. The **$L_p$-norm** of a matrix is defined as\n",
        "$$\\max_a \\left\\Vert \\mathbf Xa\\right\\Vert_p\\text{ subject to }\\left\\Vert a\\right\\Vert_p=1$$ \n",
        "\n",
        "### Matrix algebra\n",
        "#### Solving systems\n",
        "\n",
        "When it exists, the **inverse** of a square ($n\\times n$) matrix $\\mathbf X$ is defined such that:\n",
        "$$\\mathbf X\\mathbf X^{-1}=\\mathbf X^{-1}\\mathbf X=\\mathbf I_n$$\n",
        "This means that the inverse cancels with the matrix so that they both together become an identity matrix. When an inverse exists, we can solve linear systems such as $\\mathbf Ax=y$ for $x$. \n",
        "$$\\begin{align}\n",
        "\\mathbf Ax &=y \\\\\n",
        "\\mathbf A^{-1}\\mathbf Ax &=\\mathbf A^{-1}y\\\\\n",
        "x &=\\mathbf A^{-1}y\n",
        "\\end{align}$$\n",
        "This is why we need inverses. The question then becomes, under what conditions does the inverse exist? The answer confusingly is that it exists so long as the determinant of the matrix is not equal to zero. If $\\text{det}(\\mathbf A)\\neq 0$ and $\\mathbf A$ is square, then $A^{-1}$ is guaranteed to exist. This condition is the matrix equivalent of not dividing by zero.\n",
        "\n",
        "Using the inverse, the ordinary least squares (OLS) estimator for $\\beta$ in the system $y=\\mathbf X\\beta+e$:\n",
        "$$\\hat\\beta=\\left(\\mathbf X'\\mathbf X\\right)^{-1}\\mathbf X'y$$\n",
        "\n",
        "#### Miscellaneous\n",
        "Sometimes when working with matrices it is necessary to consider **partition matrices** which is a way of representing a matrix using other smaller matrices. Consider the following $n\\times r$ matrix $\\mathbf X$:\n",
        "$$\\mathbf X = \n",
        "\\begin{bmatrix}\n",
        "\\mathbf X_{1,1} & \\mathbf X_{1,2} \\\\\n",
        "\\mathbf X_{2,1} & \\mathbf X_{2,2} \n",
        "\\end{bmatrix}\n",
        "$$\n",
        "where to make the dimensions match $\\mathbf X_{i,j}$ is $n_i\\times r_j$ where $n_1+n_2=n$ and $r_1+r_2=r$. If we transpose $\\mathbf X$, then consider what has to happen to the submatrices given that the dimensions still have to match:\n",
        "$$\\mathbf X' = \n",
        "\\begin{bmatrix}\n",
        "\\mathbf X_{1,1}' & \\mathbf X_{2,1}' \\\\\n",
        "\\mathbf X_{1,2}' & \\mathbf X_{2,2}' \n",
        "\\end{bmatrix}\n",
        "$$\n",
        "\n",
        "The **Hadamard product** of two matrices is just the **elementwise product** of those matrices: $\\mathbf X\\circ\\mathbf Y=\\left(x_{i,j}y_{i,j}\\right)_{i=1,..n;j=1,..r}$. \n",
        "\n",
        "On the other hand, the **Kronecker product** is defined as $\\mathbf X\\otimes\\mathbf Y=(x_{i,j}\\mathbf Y)_{i=1,..n;j=1,..r}$. This means that we have an entire copy of $\\mathbf Y$ for every element of $\\mathbf X$. This implies that if $\\mathbf X$ is $n\\times r$ and $\\mathbf Y$ is $m\\times s$, then $\\mathbf X\\otimes\\mathbf Y$ is $nm\\times rs$. \n",
        "    "
      ]
    },
    {
      "cell_type": "markdown",
      "metadata": {
        "id": "l16RsO5iPBp5"
      },
      "source": [
        "## Programming challenges\n",
        "### grep\n",
        "\n",
        "Write an implementation of the grep script in python. \n",
        "\n",
        "* Command line argument: regular expression\n",
        "* Standard input: input to be searched for the regular expression\n",
        "* Standard output: any line from standard input that has the regular expression\n"
      ]
    },
    {
      "cell_type": "code",
      "execution_count": null,
      "metadata": {
        "id": "Fj7IntF7PBp5"
      },
      "outputs": [],
      "source": [
        "import re\n",
        "def grep(pattern, file_name_pattern):\n",
        "    for each in os.listdir(os.getcwd()):\n",
        "        if not os.path.isdir(each):\n",
        "            if re.search(file_name_pattern, each):\n",
        "                with open(each, 'rb') as file:\n",
        "                    for line in file.readlines():\n",
        "                        if re.search(pattern, str(line.strip())):\n",
        "                            print(each,line)"
      ]
    },
    {
      "cell_type": "code",
      "execution_count": null,
      "metadata": {
        "id": "_pbJwRlwPBp5",
        "outputId": "4784ba9d-b6e7-4671-ee6e-2b4d46f8a9c3"
      },
      "outputs": [
        {
          "name": "stdout",
          "output_type": "stream",
          "text": [
            "poker.py b'def get_hand_name(suits:dict,nums:dict):\\r\\n'\n",
            "poker.py b'def get_suits_and_nums(hand):\\r\\n'\n",
            "poker.py b'def run_poker(nsim:int,seed:int):\\r\\n'\n"
          ]
        }
      ],
      "source": [
        "grep('def', 'poker.py')"
      ]
    },
    {
      "cell_type": "markdown",
      "metadata": {
        "id": "JopERQ8XPBp5"
      },
      "source": [
        "### recursive list \n",
        "\n",
        "Write a program which takes a directory and lists all the files in that area with their complete paths. These files could exist in that directory itself, but you should also include any files in the sub-directories of that directory."
      ]
    },
    {
      "cell_type": "code",
      "execution_count": null,
      "metadata": {
        "id": "KDpDGmHxPBp5"
      },
      "outputs": [],
      "source": [
        "def list_of_files(path=os.getcwd()):\n",
        "    remaining = [path]\n",
        "    result = []\n",
        "    while remaining:\n",
        "        path = remaining.pop()\n",
        "        for each in os.listdir(path):\n",
        "            if os.path.isdir(each):\n",
        "                remaining.append(os.path.join(path,each))\n",
        "            else:\n",
        "                result.append(os.path.join(path,each))\n",
        "    print(result)"
      ]
    },
    {
      "cell_type": "code",
      "execution_count": null,
      "metadata": {
        "id": "XqG7D4U7PBp6",
        "outputId": "2d8085b0-9b71-43ae-bd73-d7865bd4df10"
      },
      "outputs": [
        {
          "name": "stdout",
          "output_type": "stream",
          "text": [
            "['C:\\\\Users\\\\kadiy\\\\Downloads\\\\UTDSEM2\\\\Programming for Data Science\\\\code\\\\01-core.ipynb', 'C:\\\\Users\\\\kadiy\\\\Downloads\\\\UTDSEM2\\\\Programming for Data Science\\\\code\\\\02-scripting.ipynb', 'C:\\\\Users\\\\kadiy\\\\Downloads\\\\UTDSEM2\\\\Programming for Data Science\\\\code\\\\poker.py', 'C:\\\\Users\\\\kadiy\\\\Downloads\\\\UTDSEM2\\\\Programming for Data Science\\\\code\\\\saves\\\\poker_10000_0.p', 'C:\\\\Users\\\\kadiy\\\\Downloads\\\\UTDSEM2\\\\Programming for Data Science\\\\code\\\\saves\\\\poker_10000_1.p', 'C:\\\\Users\\\\kadiy\\\\Downloads\\\\UTDSEM2\\\\Programming for Data Science\\\\code\\\\saves\\\\poker_10000_10.p', 'C:\\\\Users\\\\kadiy\\\\Downloads\\\\UTDSEM2\\\\Programming for Data Science\\\\code\\\\saves\\\\poker_10000_11.p', 'C:\\\\Users\\\\kadiy\\\\Downloads\\\\UTDSEM2\\\\Programming for Data Science\\\\code\\\\saves\\\\poker_10000_12.p', 'C:\\\\Users\\\\kadiy\\\\Downloads\\\\UTDSEM2\\\\Programming for Data Science\\\\code\\\\saves\\\\poker_10000_13.p', 'C:\\\\Users\\\\kadiy\\\\Downloads\\\\UTDSEM2\\\\Programming for Data Science\\\\code\\\\saves\\\\poker_10000_14.p', 'C:\\\\Users\\\\kadiy\\\\Downloads\\\\UTDSEM2\\\\Programming for Data Science\\\\code\\\\saves\\\\poker_10000_15.p', 'C:\\\\Users\\\\kadiy\\\\Downloads\\\\UTDSEM2\\\\Programming for Data Science\\\\code\\\\saves\\\\poker_10000_16.p', 'C:\\\\Users\\\\kadiy\\\\Downloads\\\\UTDSEM2\\\\Programming for Data Science\\\\code\\\\saves\\\\poker_10000_17.p', 'C:\\\\Users\\\\kadiy\\\\Downloads\\\\UTDSEM2\\\\Programming for Data Science\\\\code\\\\saves\\\\poker_10000_18.p', 'C:\\\\Users\\\\kadiy\\\\Downloads\\\\UTDSEM2\\\\Programming for Data Science\\\\code\\\\saves\\\\poker_10000_19.p', 'C:\\\\Users\\\\kadiy\\\\Downloads\\\\UTDSEM2\\\\Programming for Data Science\\\\code\\\\saves\\\\poker_10000_2.p', 'C:\\\\Users\\\\kadiy\\\\Downloads\\\\UTDSEM2\\\\Programming for Data Science\\\\code\\\\saves\\\\poker_10000_20.p', 'C:\\\\Users\\\\kadiy\\\\Downloads\\\\UTDSEM2\\\\Programming for Data Science\\\\code\\\\saves\\\\poker_10000_21.p', 'C:\\\\Users\\\\kadiy\\\\Downloads\\\\UTDSEM2\\\\Programming for Data Science\\\\code\\\\saves\\\\poker_10000_22.p', 'C:\\\\Users\\\\kadiy\\\\Downloads\\\\UTDSEM2\\\\Programming for Data Science\\\\code\\\\saves\\\\poker_10000_23.p', 'C:\\\\Users\\\\kadiy\\\\Downloads\\\\UTDSEM2\\\\Programming for Data Science\\\\code\\\\saves\\\\poker_10000_24.p', 'C:\\\\Users\\\\kadiy\\\\Downloads\\\\UTDSEM2\\\\Programming for Data Science\\\\code\\\\saves\\\\poker_10000_25.p', 'C:\\\\Users\\\\kadiy\\\\Downloads\\\\UTDSEM2\\\\Programming for Data Science\\\\code\\\\saves\\\\poker_10000_26.p', 'C:\\\\Users\\\\kadiy\\\\Downloads\\\\UTDSEM2\\\\Programming for Data Science\\\\code\\\\saves\\\\poker_10000_27.p', 'C:\\\\Users\\\\kadiy\\\\Downloads\\\\UTDSEM2\\\\Programming for Data Science\\\\code\\\\saves\\\\poker_10000_28.p', 'C:\\\\Users\\\\kadiy\\\\Downloads\\\\UTDSEM2\\\\Programming for Data Science\\\\code\\\\saves\\\\poker_10000_29.p', 'C:\\\\Users\\\\kadiy\\\\Downloads\\\\UTDSEM2\\\\Programming for Data Science\\\\code\\\\saves\\\\poker_10000_3.p', 'C:\\\\Users\\\\kadiy\\\\Downloads\\\\UTDSEM2\\\\Programming for Data Science\\\\code\\\\saves\\\\poker_10000_30.p', 'C:\\\\Users\\\\kadiy\\\\Downloads\\\\UTDSEM2\\\\Programming for Data Science\\\\code\\\\saves\\\\poker_10000_31.p', 'C:\\\\Users\\\\kadiy\\\\Downloads\\\\UTDSEM2\\\\Programming for Data Science\\\\code\\\\saves\\\\poker_10000_32.p', 'C:\\\\Users\\\\kadiy\\\\Downloads\\\\UTDSEM2\\\\Programming for Data Science\\\\code\\\\saves\\\\poker_10000_33.p', 'C:\\\\Users\\\\kadiy\\\\Downloads\\\\UTDSEM2\\\\Programming for Data Science\\\\code\\\\saves\\\\poker_10000_34.p', 'C:\\\\Users\\\\kadiy\\\\Downloads\\\\UTDSEM2\\\\Programming for Data Science\\\\code\\\\saves\\\\poker_10000_35.p', 'C:\\\\Users\\\\kadiy\\\\Downloads\\\\UTDSEM2\\\\Programming for Data Science\\\\code\\\\saves\\\\poker_10000_36.p', 'C:\\\\Users\\\\kadiy\\\\Downloads\\\\UTDSEM2\\\\Programming for Data Science\\\\code\\\\saves\\\\poker_10000_37.p', 'C:\\\\Users\\\\kadiy\\\\Downloads\\\\UTDSEM2\\\\Programming for Data Science\\\\code\\\\saves\\\\poker_10000_38.p', 'C:\\\\Users\\\\kadiy\\\\Downloads\\\\UTDSEM2\\\\Programming for Data Science\\\\code\\\\saves\\\\poker_10000_39.p', 'C:\\\\Users\\\\kadiy\\\\Downloads\\\\UTDSEM2\\\\Programming for Data Science\\\\code\\\\saves\\\\poker_10000_4.p', 'C:\\\\Users\\\\kadiy\\\\Downloads\\\\UTDSEM2\\\\Programming for Data Science\\\\code\\\\saves\\\\poker_10000_40.p', 'C:\\\\Users\\\\kadiy\\\\Downloads\\\\UTDSEM2\\\\Programming for Data Science\\\\code\\\\saves\\\\poker_10000_41.p', 'C:\\\\Users\\\\kadiy\\\\Downloads\\\\UTDSEM2\\\\Programming for Data Science\\\\code\\\\saves\\\\poker_10000_42.p', 'C:\\\\Users\\\\kadiy\\\\Downloads\\\\UTDSEM2\\\\Programming for Data Science\\\\code\\\\saves\\\\poker_10000_43.p', 'C:\\\\Users\\\\kadiy\\\\Downloads\\\\UTDSEM2\\\\Programming for Data Science\\\\code\\\\saves\\\\poker_10000_44.p', 'C:\\\\Users\\\\kadiy\\\\Downloads\\\\UTDSEM2\\\\Programming for Data Science\\\\code\\\\saves\\\\poker_10000_45.p', 'C:\\\\Users\\\\kadiy\\\\Downloads\\\\UTDSEM2\\\\Programming for Data Science\\\\code\\\\saves\\\\poker_10000_46.p', 'C:\\\\Users\\\\kadiy\\\\Downloads\\\\UTDSEM2\\\\Programming for Data Science\\\\code\\\\saves\\\\poker_10000_47.p', 'C:\\\\Users\\\\kadiy\\\\Downloads\\\\UTDSEM2\\\\Programming for Data Science\\\\code\\\\saves\\\\poker_10000_48.p', 'C:\\\\Users\\\\kadiy\\\\Downloads\\\\UTDSEM2\\\\Programming for Data Science\\\\code\\\\saves\\\\poker_10000_49.p', 'C:\\\\Users\\\\kadiy\\\\Downloads\\\\UTDSEM2\\\\Programming for Data Science\\\\code\\\\saves\\\\poker_10000_5.p', 'C:\\\\Users\\\\kadiy\\\\Downloads\\\\UTDSEM2\\\\Programming for Data Science\\\\code\\\\saves\\\\poker_10000_50.p', 'C:\\\\Users\\\\kadiy\\\\Downloads\\\\UTDSEM2\\\\Programming for Data Science\\\\code\\\\saves\\\\poker_10000_51.p', 'C:\\\\Users\\\\kadiy\\\\Downloads\\\\UTDSEM2\\\\Programming for Data Science\\\\code\\\\saves\\\\poker_10000_52.p', 'C:\\\\Users\\\\kadiy\\\\Downloads\\\\UTDSEM2\\\\Programming for Data Science\\\\code\\\\saves\\\\poker_10000_53.p', 'C:\\\\Users\\\\kadiy\\\\Downloads\\\\UTDSEM2\\\\Programming for Data Science\\\\code\\\\saves\\\\poker_10000_54.p', 'C:\\\\Users\\\\kadiy\\\\Downloads\\\\UTDSEM2\\\\Programming for Data Science\\\\code\\\\saves\\\\poker_10000_55.p', 'C:\\\\Users\\\\kadiy\\\\Downloads\\\\UTDSEM2\\\\Programming for Data Science\\\\code\\\\saves\\\\poker_10000_56.p', 'C:\\\\Users\\\\kadiy\\\\Downloads\\\\UTDSEM2\\\\Programming for Data Science\\\\code\\\\saves\\\\poker_10000_57.p', 'C:\\\\Users\\\\kadiy\\\\Downloads\\\\UTDSEM2\\\\Programming for Data Science\\\\code\\\\saves\\\\poker_10000_58.p', 'C:\\\\Users\\\\kadiy\\\\Downloads\\\\UTDSEM2\\\\Programming for Data Science\\\\code\\\\saves\\\\poker_10000_59.p', 'C:\\\\Users\\\\kadiy\\\\Downloads\\\\UTDSEM2\\\\Programming for Data Science\\\\code\\\\saves\\\\poker_10000_6.p', 'C:\\\\Users\\\\kadiy\\\\Downloads\\\\UTDSEM2\\\\Programming for Data Science\\\\code\\\\saves\\\\poker_10000_60.p', 'C:\\\\Users\\\\kadiy\\\\Downloads\\\\UTDSEM2\\\\Programming for Data Science\\\\code\\\\saves\\\\poker_10000_61.p', 'C:\\\\Users\\\\kadiy\\\\Downloads\\\\UTDSEM2\\\\Programming for Data Science\\\\code\\\\saves\\\\poker_10000_62.p', 'C:\\\\Users\\\\kadiy\\\\Downloads\\\\UTDSEM2\\\\Programming for Data Science\\\\code\\\\saves\\\\poker_10000_63.p', 'C:\\\\Users\\\\kadiy\\\\Downloads\\\\UTDSEM2\\\\Programming for Data Science\\\\code\\\\saves\\\\poker_10000_64.p', 'C:\\\\Users\\\\kadiy\\\\Downloads\\\\UTDSEM2\\\\Programming for Data Science\\\\code\\\\saves\\\\poker_10000_65.p', 'C:\\\\Users\\\\kadiy\\\\Downloads\\\\UTDSEM2\\\\Programming for Data Science\\\\code\\\\saves\\\\poker_10000_66.p', 'C:\\\\Users\\\\kadiy\\\\Downloads\\\\UTDSEM2\\\\Programming for Data Science\\\\code\\\\saves\\\\poker_10000_67.p', 'C:\\\\Users\\\\kadiy\\\\Downloads\\\\UTDSEM2\\\\Programming for Data Science\\\\code\\\\saves\\\\poker_10000_68.p', 'C:\\\\Users\\\\kadiy\\\\Downloads\\\\UTDSEM2\\\\Programming for Data Science\\\\code\\\\saves\\\\poker_10000_69.p', 'C:\\\\Users\\\\kadiy\\\\Downloads\\\\UTDSEM2\\\\Programming for Data Science\\\\code\\\\saves\\\\poker_10000_7.p', 'C:\\\\Users\\\\kadiy\\\\Downloads\\\\UTDSEM2\\\\Programming for Data Science\\\\code\\\\saves\\\\poker_10000_70.p', 'C:\\\\Users\\\\kadiy\\\\Downloads\\\\UTDSEM2\\\\Programming for Data Science\\\\code\\\\saves\\\\poker_10000_71.p', 'C:\\\\Users\\\\kadiy\\\\Downloads\\\\UTDSEM2\\\\Programming for Data Science\\\\code\\\\saves\\\\poker_10000_72.p', 'C:\\\\Users\\\\kadiy\\\\Downloads\\\\UTDSEM2\\\\Programming for Data Science\\\\code\\\\saves\\\\poker_10000_73.p', 'C:\\\\Users\\\\kadiy\\\\Downloads\\\\UTDSEM2\\\\Programming for Data Science\\\\code\\\\saves\\\\poker_10000_74.p', 'C:\\\\Users\\\\kadiy\\\\Downloads\\\\UTDSEM2\\\\Programming for Data Science\\\\code\\\\saves\\\\poker_10000_75.p', 'C:\\\\Users\\\\kadiy\\\\Downloads\\\\UTDSEM2\\\\Programming for Data Science\\\\code\\\\saves\\\\poker_10000_76.p', 'C:\\\\Users\\\\kadiy\\\\Downloads\\\\UTDSEM2\\\\Programming for Data Science\\\\code\\\\saves\\\\poker_10000_77.p', 'C:\\\\Users\\\\kadiy\\\\Downloads\\\\UTDSEM2\\\\Programming for Data Science\\\\code\\\\saves\\\\poker_10000_78.p', 'C:\\\\Users\\\\kadiy\\\\Downloads\\\\UTDSEM2\\\\Programming for Data Science\\\\code\\\\saves\\\\poker_10000_79.p', 'C:\\\\Users\\\\kadiy\\\\Downloads\\\\UTDSEM2\\\\Programming for Data Science\\\\code\\\\saves\\\\poker_10000_8.p', 'C:\\\\Users\\\\kadiy\\\\Downloads\\\\UTDSEM2\\\\Programming for Data Science\\\\code\\\\saves\\\\poker_10000_80.p', 'C:\\\\Users\\\\kadiy\\\\Downloads\\\\UTDSEM2\\\\Programming for Data Science\\\\code\\\\saves\\\\poker_10000_81.p', 'C:\\\\Users\\\\kadiy\\\\Downloads\\\\UTDSEM2\\\\Programming for Data Science\\\\code\\\\saves\\\\poker_10000_82.p', 'C:\\\\Users\\\\kadiy\\\\Downloads\\\\UTDSEM2\\\\Programming for Data Science\\\\code\\\\saves\\\\poker_10000_83.p', 'C:\\\\Users\\\\kadiy\\\\Downloads\\\\UTDSEM2\\\\Programming for Data Science\\\\code\\\\saves\\\\poker_10000_84.p', 'C:\\\\Users\\\\kadiy\\\\Downloads\\\\UTDSEM2\\\\Programming for Data Science\\\\code\\\\saves\\\\poker_10000_85.p', 'C:\\\\Users\\\\kadiy\\\\Downloads\\\\UTDSEM2\\\\Programming for Data Science\\\\code\\\\saves\\\\poker_10000_86.p', 'C:\\\\Users\\\\kadiy\\\\Downloads\\\\UTDSEM2\\\\Programming for Data Science\\\\code\\\\saves\\\\poker_10000_87.p', 'C:\\\\Users\\\\kadiy\\\\Downloads\\\\UTDSEM2\\\\Programming for Data Science\\\\code\\\\saves\\\\poker_10000_88.p', 'C:\\\\Users\\\\kadiy\\\\Downloads\\\\UTDSEM2\\\\Programming for Data Science\\\\code\\\\saves\\\\poker_10000_89.p', 'C:\\\\Users\\\\kadiy\\\\Downloads\\\\UTDSEM2\\\\Programming for Data Science\\\\code\\\\saves\\\\poker_10000_9.p', 'C:\\\\Users\\\\kadiy\\\\Downloads\\\\UTDSEM2\\\\Programming for Data Science\\\\code\\\\saves\\\\poker_10000_90.p', 'C:\\\\Users\\\\kadiy\\\\Downloads\\\\UTDSEM2\\\\Programming for Data Science\\\\code\\\\saves\\\\poker_10000_91.p', 'C:\\\\Users\\\\kadiy\\\\Downloads\\\\UTDSEM2\\\\Programming for Data Science\\\\code\\\\saves\\\\poker_10000_92.p', 'C:\\\\Users\\\\kadiy\\\\Downloads\\\\UTDSEM2\\\\Programming for Data Science\\\\code\\\\saves\\\\poker_10000_93.p', 'C:\\\\Users\\\\kadiy\\\\Downloads\\\\UTDSEM2\\\\Programming for Data Science\\\\code\\\\saves\\\\poker_10000_94.p', 'C:\\\\Users\\\\kadiy\\\\Downloads\\\\UTDSEM2\\\\Programming for Data Science\\\\code\\\\saves\\\\poker_10000_95.p', 'C:\\\\Users\\\\kadiy\\\\Downloads\\\\UTDSEM2\\\\Programming for Data Science\\\\code\\\\saves\\\\poker_10000_96.p', 'C:\\\\Users\\\\kadiy\\\\Downloads\\\\UTDSEM2\\\\Programming for Data Science\\\\code\\\\saves\\\\poker_10000_97.p', 'C:\\\\Users\\\\kadiy\\\\Downloads\\\\UTDSEM2\\\\Programming for Data Science\\\\code\\\\saves\\\\poker_10000_98.p', 'C:\\\\Users\\\\kadiy\\\\Downloads\\\\UTDSEM2\\\\Programming for Data Science\\\\code\\\\saves\\\\poker_10000_99.p', 'C:\\\\Users\\\\kadiy\\\\Downloads\\\\UTDSEM2\\\\Programming for Data Science\\\\code\\\\.ipynb_checkpoints\\\\01-core-checkpoint.ipynb', 'C:\\\\Users\\\\kadiy\\\\Downloads\\\\UTDSEM2\\\\Programming for Data Science\\\\code\\\\.ipynb_checkpoints\\\\02-scripting-checkpoint.ipynb']\n"
          ]
        }
      ],
      "source": [
        "list_of_files()"
      ]
    },
    {
      "cell_type": "markdown",
      "metadata": {
        "id": "_Ib0-BjoPBp6"
      },
      "source": [
        "### Vampire numbers\n",
        "\n",
        "A vampire number is any number which has a pair of factors whose digits (in base 10) match the digits in their product. For instance, $21\\times 60= 1260$, so we would say that $1260$ is a vampire number. Find all the vampire numbers less than $1\\,000\\,000$."
      ]
    },
    {
      "cell_type": "code",
      "execution_count": null,
      "metadata": {
        "ExecuteTime": {
          "end_time": "2021-01-27T23:51:16.745471Z",
          "start_time": "2021-01-27T23:51:16.729457Z"
        },
        "id": "0RhJTEAuPBp6",
        "outputId": "123066b1-d959-4ce1-8058-ecde4bfb2a61"
      },
      "outputs": [
        {
          "data": {
            "text/plain": [
              "['1', '2', '6', '0']"
            ]
          },
          "execution_count": 18,
          "metadata": {},
          "output_type": "execute_result"
        }
      ],
      "source": [
        "list('1260')"
      ]
    },
    {
      "cell_type": "code",
      "execution_count": null,
      "metadata": {
        "id": "KbtS-88APBp6"
      },
      "outputs": [],
      "source": [
        "def vampire_numbers():\n",
        "    def is_equal(lst1, lst2):\n",
        "        if len(lst1) == len(lst2):\n",
        "            sorted_1 = sorted(lst1)\n",
        "            sorted_2 = sorted(lst2)\n",
        "            for i in range(len(lst1)):\n",
        "                if (sorted_1[i] != sorted_2[i]): return False\n",
        "        else: return False\n",
        "        return True\n",
        "    lst = []\n",
        "    k = 100000\n",
        "    for i in range(1,k):\n",
        "        for j in range(i,k):\n",
        "            if i*j < k:\n",
        "                if is_equal(list(str(i))+list(str(j)),list(str(i*j))):\n",
        "                    lst.append((i,j,i*j))\n",
        "            else:\n",
        "                break\n",
        "    print(lst)"
      ]
    },
    {
      "cell_type": "code",
      "execution_count": null,
      "metadata": {
        "id": "AfarYfYOPBp6",
        "outputId": "3b00c65c-320d-4f34-baca-f6d2079f09c5"
      },
      "outputs": [
        {
          "name": "stdout",
          "output_type": "stream",
          "text": [
            "[(2, 8714, 17428), (2, 8741, 17482), (3, 51, 153), (3, 501, 1503), (3, 510, 1530), (3, 4128, 12384), (3, 4281, 12843), (3, 4515, 13545), (3, 5001, 15003), (3, 5010, 15030), (3, 5100, 15300), (3, 5145, 15435), (3, 7125, 21375), (3, 7251, 21753), (5, 251, 1255), (5, 2051, 10255), (5, 2105, 10525), (5, 2501, 12505), (5, 2510, 12550), (5, 2519, 12595), (5, 2591, 12955), (5, 5021, 25105), (5, 5102, 25510), (6, 21, 126), (6, 201, 1206), (6, 210, 1260), (6, 2001, 12006), (6, 2010, 12060), (6, 2100, 12600), (6, 2127, 12762), (6, 2541, 15246), (6, 2712, 16272), (6, 7446, 44676), (8, 86, 688), (8, 473, 3784), (8, 860, 6880), (8, 1481, 11848), (8, 4730, 37840), (8, 4973, 39784), (8, 6521, 52168), (8, 8600, 68800), (9, 351, 3159), (9, 1251, 11259), (9, 1755, 15795), (9, 3501, 31509), (9, 3510, 31590), (9, 5751, 51759), (9, 6255, 56295), (9, 7461, 67149), (9, 7911, 71199), (9, 8775, 78975), (14, 926, 12964), (15, 93, 1395), (15, 705, 10575), (15, 930, 13950), (21, 60, 1260), (21, 87, 1827), (21, 501, 10521), (21, 600, 12600), (21, 870, 18270), (21, 906, 19026), (21, 915, 19215), (24, 651, 15624), (26, 401, 10426), (27, 81, 2187), (27, 810, 21870), (30, 51, 1530), (30, 501, 15030), (30, 510, 15300), (32, 926, 29632), (35, 41, 1435), (35, 401, 14035), (35, 410, 14350), (35, 725, 25375), (36, 936, 33696), (41, 323, 13243), (41, 350, 14350), (42, 678, 28476), (47, 371, 17437), (47, 542, 25474), (50, 251, 12550), (51, 201, 10251), (51, 246, 12546), (51, 300, 15300), (53, 635, 33655), (54, 846, 45684), (57, 834, 47538), (59, 845, 49855), (60, 201, 12060), (60, 210, 12600), (63, 585, 36855), (63, 855, 53865), (65, 281, 18265), (65, 641, 41665), (65, 704, 45760), (65, 875, 56875), (65, 983, 63895), (68, 926, 62968), (72, 936, 67392), (75, 231, 17325), (75, 906, 67950), (78, 624, 48672), (80, 86, 6880), (80, 473, 37840), (80, 860, 68800), (81, 225, 18225), (81, 270, 21870), (84, 141, 11844), (84, 546, 45864), (86, 251, 21586), (86, 800, 68800), (87, 210, 18270), (87, 435, 37845), (89, 482, 42898), (90, 351, 31590), (93, 150, 13950)]\n"
          ]
        }
      ],
      "source": [
        "vampire_numbers()"
      ]
    },
    {
      "cell_type": "code",
      "execution_count": null,
      "metadata": {
        "id": "VHm1CBR2PBp7"
      },
      "outputs": [],
      "source": []
    }
  ],
  "metadata": {
    "kernelspec": {
      "display_name": "Python 3",
      "language": "python",
      "name": "python3"
    },
    "language_info": {
      "codemirror_mode": {
        "name": "ipython",
        "version": 3
      },
      "file_extension": ".py",
      "mimetype": "text/x-python",
      "name": "python",
      "nbconvert_exporter": "python",
      "pygments_lexer": "ipython3",
      "version": "3.8.8"
    },
    "toc": {
      "base_numbering": 1,
      "nav_menu": {},
      "number_sections": true,
      "sideBar": true,
      "skip_h1_title": false,
      "title_cell": "Table of Contents",
      "title_sidebar": "Contents",
      "toc_cell": false,
      "toc_position": {},
      "toc_section_display": true,
      "toc_window_display": false
    },
    "varInspector": {
      "cols": {
        "lenName": 16,
        "lenType": 16,
        "lenVar": 40
      },
      "kernels_config": {
        "python": {
          "delete_cmd_postfix": "",
          "delete_cmd_prefix": "del ",
          "library": "var_list.py",
          "varRefreshCmd": "print(var_dic_list())"
        },
        "r": {
          "delete_cmd_postfix": ") ",
          "delete_cmd_prefix": "rm(",
          "library": "var_list.r",
          "varRefreshCmd": "cat(var_dic_list()) "
        }
      },
      "types_to_exclude": [
        "module",
        "function",
        "builtin_function_or_method",
        "instance",
        "_Feature"
      ],
      "window_display": false
    },
    "colab": {
      "provenance": [],
      "include_colab_link": true
    }
  },
  "nbformat": 4,
  "nbformat_minor": 0
}