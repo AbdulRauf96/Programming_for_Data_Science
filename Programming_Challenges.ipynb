{
  "nbformat": 4,
  "nbformat_minor": 0,
  "metadata": {
    "colab": {
      "provenance": [],
      "authorship_tag": "ABX9TyPUy6i8oX8mZnBGoD8tsTUN",
      "include_colab_link": true
    },
    "kernelspec": {
      "name": "python3",
      "display_name": "Python 3"
    },
    "language_info": {
      "name": "python"
    }
  },
  "cells": [
    {
      "cell_type": "markdown",
      "metadata": {
        "id": "view-in-github",
        "colab_type": "text"
      },
      "source": [
        "<a href=\"https://colab.research.google.com/github/AbdulRauf96/Programming_for_Data_Sciencie/blob/main/Programming_Challenges.ipynb\" target=\"_parent\"><img src=\"https://colab.research.google.com/assets/colab-badge.svg\" alt=\"Open In Colab\"/></a>"
      ]
    },
    {
      "cell_type": "markdown",
      "source": [
        "# <font color = 'F7AF25'>Programming Challenges\n",
        "\n",
        "This notebook contains examples of programming challenges that demonstrate proficency over core concepts within python programming. This challenges require undersstanding of basic programming commands such `ifs, loops, list comprehensions, OOPs `"
      ],
      "metadata": {
        "id": "OU-dAlD27Rel"
      }
    },
    {
      "cell_type": "markdown",
      "metadata": {
        "id": "x8qU46w0vd1f"
      },
      "source": [
        "### <font color = 'F7AF25'>FizzBuzz\t\t\t\n",
        "\n",
        "Print out a sequence of numbers $1,2,\\dots,99$ on multiples of $3$ print ```Fizz``` instead of the number. On multiples of $5$ print ```Buzz``` instead of the number. At $15$ or any multiple of both, print ```FizzBuzz```."
      ]
    },
    {
      "cell_type": "code",
      "execution_count": null,
      "metadata": {
        "id": "Jhr75Uvvvd1f"
      },
      "outputs": [],
      "source": [
        "for i in range(1,200):\n",
        "    if (i%3 == 0) and (i%5 == 0) and (i%7 == 0):\n",
        "        print(\"FizzBuzzJazz\")\n",
        "    elif (i%3 == 0) and (i%5 == 0):\n",
        "        print(\"FizzBuzz\")\n",
        "    elif (i%3 == 0) and (i%7 == 0):\n",
        "        print(\"FizzJazz\")\n",
        "    elif (i%5 == 0) and (i%7 == 0):\n",
        "        print(\"BuzzJazz\")\n",
        "    elif i%3 == 0:\n",
        "        print(\"Fizz\")\n",
        "    elif i%5 == 0:\n",
        "        print(\"Buzz\")\n",
        "    elif i%7 == 0:\n",
        "        print(\"Jazz\")\n",
        "    else:\n",
        "        print(i)"
      ]
    },
    {
      "cell_type": "code",
      "source": [
        "# alternative solution\n",
        "for i in range(1,100):\n",
        "    outstr = \"\"\n",
        "    if i%3 == 0:\n",
        "        outstr += \"Fizz\"\n",
        "    if i%5 == 0:\n",
        "        outstr += \"Buzz\"\n",
        "    if i%7 == 0:\n",
        "        outstr += \"Jazz\"\n",
        "    if len(outstr) == 0:\n",
        "        outstr = str(i)\n",
        "    print(outstr)"
      ],
      "metadata": {
        "id": "jfntHSl7DfC1"
      },
      "execution_count": null,
      "outputs": []
    },
    {
      "cell_type": "markdown",
      "source": [
        "### <font color = 'F7AF25'>Hailstone Numbers\n",
        "\n",
        "\n",
        "$$\n",
        "x_{n+1} = \n",
        "\\Bigg\\{\n",
        "\\begin{matrix}\n",
        "x_n/2 & \\text{if } x_n \\text{ even}\\\\\n",
        "3x_n+1 & \\text{otherwise}\n",
        "\\end{matrix}\n",
        "$$\n",
        "\n",
        "For a given starting value $x_0$, the hailstone number is how many steps it takes for the above sequence to first reach the number $1$. Calculate the hailstone number for every value from 1 to 100. Try to make your code run as fast as possible."
      ],
      "metadata": {
        "id": "kRX9_DZmDor-"
      }
    },
    {
      "cell_type": "code",
      "source": [
        "def hailstone(i, j=0, sequence=None):\n",
        "    \"\"\"\n",
        "  Computes the Hailstone sequence for a given integer.\n",
        "\n",
        "  Parameters:\n",
        "  i (int): The starting integer for the sequence.\n",
        "  j (int, optional): The current position in the sequence. Default is 0.\n",
        "  output (str, optional): The string representation of the sequence. Default is an empty string.\n",
        "\n",
        "  Returns:\n",
        "  str: The string representation of the Hailstone sequence for the given integer i.\n",
        "\n",
        "  Example:\n",
        "  >>> hailstone(5)\n",
        "  '5 -> 16 -> 8 -> 4 -> 2 -> 1 : 5'\n",
        "  \"\"\"\n",
        "    if sequence is None:\n",
        "        sequence = [str(i)]\n",
        "    else:\n",
        "        sequence.append(str(i))\n",
        "    if i == 1:\n",
        "        return ' -> '.join(sequence) + f' : {j}'\n",
        "    if i % 2 == 0:\n",
        "        return hailstone(i // 2, j+1, sequence)\n",
        "    else:\n",
        "        return hailstone(i * 3 + 1, j+1, sequence)"
      ],
      "metadata": {
        "id": "x5kAfFyTDthO"
      },
      "execution_count": 22,
      "outputs": []
    },
    {
      "cell_type": "code",
      "source": [
        "for i in range(0,100):\n",
        "    print(hailstone(i+1))"
      ],
      "metadata": {
        "id": "CoK7J5H0FCRV"
      },
      "execution_count": null,
      "outputs": []
    },
    {
      "cell_type": "markdown",
      "source": [
        "### <font color = 'F7AF25'>Pascal's triangle\n",
        "\n",
        "Write a program to print out the first 10 lines of Pascal's triangle."
      ],
      "metadata": {
        "id": "QXgsZ1obIsP_"
      }
    },
    {
      "cell_type": "code",
      "source": [
        "def pascal(j):\n",
        "    prev_row = [1]\n",
        "    print(' '.join(map(str, prev_row)))\n",
        "    for i in range(2, j+1):\n",
        "        row = [1] * i\n",
        "        for j in range(1, len(row)-1):\n",
        "            row[j] = prev_row[j-1] + prev_row[j]\n",
        "        print(' '.join(map(str, row)))\n",
        "        prev_row = row"
      ],
      "metadata": {
        "id": "1zcpE3BvJFiO"
      },
      "execution_count": 24,
      "outputs": []
    },
    {
      "cell_type": "code",
      "source": [
        "pascal(10)"
      ],
      "metadata": {
        "colab": {
          "base_uri": "https://localhost:8080/"
        },
        "id": "VnSdnS3MJK64",
        "outputId": "8c61efe2-7f29-497b-f7a6-9b95868f0698"
      },
      "execution_count": 33,
      "outputs": [
        {
          "output_type": "stream",
          "name": "stdout",
          "text": [
            "1\n",
            "1 1\n",
            "1 2 1\n",
            "1 3 3 1\n",
            "1 4 6 4 1\n",
            "1 5 10 10 5 1\n",
            "1 6 15 20 15 6 1\n",
            "1 7 21 35 35 21 7 1\n",
            "1 8 28 56 70 56 28 8 1\n",
            "1 9 36 84 126 126 84 36 9 1\n"
          ]
        }
      ]
    }
  ]
}