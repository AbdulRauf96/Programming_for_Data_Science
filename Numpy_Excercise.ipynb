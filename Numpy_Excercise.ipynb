{
  "cells": [
    {
      "cell_type": "markdown",
      "metadata": {
        "colab_type": "text",
        "id": "view-in-github"
      },
      "source": [
        "<a href=\"https://colab.research.google.com/github/AbdulRauf96/Python-Pratice/blob/main/Numpy_Excercise.ipynb\" target=\"_parent\"><img src=\"https://colab.research.google.com/assets/colab-badge.svg\" alt=\"Open In Colab\"/></a>"
      ]
    },
    {
      "cell_type": "markdown",
      "metadata": {
        "id": "ZJj568ZHe26X"
      },
      "source": [
        "# <font color = 'dodgerblue'> **Introduction**\n",
        "* One of the basic fundamental process in data science is efficient \n",
        "storage and manipulation of numerical arrays.\n",
        "* The special packages to handle these numerical arrays in python are Numpy and pandas.\n",
        "* In this notebook, we will explore Numpy package.\n"
      ]
    },
    {
      "cell_type": "markdown",
      "metadata": {
        "id": "o76flkIUxuvt"
      },
      "source": [
        "# <font color = 'dodgerblue'> **Numpy**\n",
        "* Numpy stands for numerical python.\n",
        "* It provides efficient way to store and manipulate arrays.\n",
        "* It also contains useful linear algebra and random number functions\n",
        "\n",
        "\n"
      ]
    },
    {
      "cell_type": "markdown",
      "metadata": {
        "id": "D1_bVmrNq8i0",
        "jp-MarkdownHeadingCollapsed": true,
        "tags": []
      },
      "source": [
        "## <font color = 'dodgerblue'> **Importing a pacakge** </font>\n",
        "\n",
        "1.  Python has a way to put definitions in a file and use them in your program. Such a file is called a module.\n",
        "2. We use import statement to acquire the definitions from a module or the whole module.\n",
        "3. We can import modules from packages using the dot (.) operator. \n",
        "3. **Syntax**:\n",
        "    \n",
        "  ```\n",
        "  import package_name as alias name\n",
        "  ```\n",
        "  Import statement allows to import all the definitions from the given package.\n",
        "\n",
        "  \"Alias name\" can be used to give a short name for the packages. \n"
      ]
    },
    {
      "cell_type": "code",
      "execution_count": 7,
      "metadata": {
        "collapsed": true,
        "execution": {
          "iopub.execute_input": "2022-08-24T23:28:19.108797Z",
          "iopub.status.busy": "2022-08-24T23:28:19.107675Z",
          "iopub.status.idle": "2022-08-24T23:28:19.349026Z",
          "shell.execute_reply": "2022-08-24T23:28:19.348351Z",
          "shell.execute_reply.started": "2022-08-24T23:28:19.108720Z"
        },
        "id": "ljP9XmoGzo2l",
        "jupyter": {
          "outputs_hidden": true,
          "source_hidden": true
        }
      },
      "outputs": [],
      "source": [
        "# Importing numpy package\n",
        "import numpy as np"
      ]
    },
    {
      "cell_type": "markdown",
      "metadata": {
        "id": "Cd58jTIzoGeZ",
        "jp-MarkdownHeadingCollapsed": true,
        "tags": []
      },
      "source": [
        "\n",
        "## <font color = 'dodgerblue'> **Version  of Numpy**\n",
        "* If there is any prerequisite of package version for any data science project, then its essential to verify the package version.\n",
        "*  We can check the package version as follows `package.__version__`\n",
        "   "
      ]
    },
    {
      "cell_type": "code",
      "execution_count": 5,
      "metadata": {
        "colab": {
          "base_uri": "https://localhost:8080/"
        },
        "collapsed": true,
        "execution": {
          "iopub.execute_input": "2022-08-24T23:28:23.886284Z",
          "iopub.status.busy": "2022-08-24T23:28:23.885931Z",
          "iopub.status.idle": "2022-08-24T23:28:23.890590Z",
          "shell.execute_reply": "2022-08-24T23:28:23.889684Z",
          "shell.execute_reply.started": "2022-08-24T23:28:23.886264Z"
        },
        "id": "HIOw1QZUqa6a",
        "jupyter": {
          "outputs_hidden": true,
          "source_hidden": true
        },
        "outputId": "6bd64c2d-dd64-430d-9796-9f0c64cb6b77"
      },
      "outputs": [
        {
          "name": "stdout",
          "output_type": "stream",
          "text": [
            "The version of my numpy package is  1.23.5\n"
          ]
        }
      ],
      "source": [
        "# Check the version of the numpy  \n",
        "print(\"The version of my numpy package is \",np.__version__)"
      ]
    },
    {
      "cell_type": "code",
      "execution_count": 3,
      "metadata": {
        "collapsed": true,
        "execution": {
          "iopub.execute_input": "2022-08-24T23:28:35.123273Z",
          "iopub.status.busy": "2022-08-24T23:28:35.123009Z",
          "iopub.status.idle": "2022-08-24T23:28:35.127779Z",
          "shell.execute_reply": "2022-08-24T23:28:35.126669Z",
          "shell.execute_reply.started": "2022-08-24T23:28:35.123235Z"
        },
        "id": "7zQMeJhP2o8c",
        "jupyter": {
          "outputs_hidden": true,
          "source_hidden": true
        },
        "tags": []
      },
      "outputs": [],
      "source": [
        "# set printion option for the notebook\n",
        "np.set_printoptions(precision=2)"
      ]
    },
    {
      "cell_type": "markdown",
      "metadata": {
        "id": "1CZ_1mek9Pfp",
        "tags": []
      },
      "source": [
        "# <font color = 'dodgerblue'> **Creating Numpy Arrays** </font>\n",
        "There are 3 ways for creating arrays by using numpy and they are:\n",
        "\n",
        "1. Conversion from other Python structures (e.g., lists, tuples)\n",
        "\n",
        "2. Intrinsic numpy array creation objects (e.g., arange, ones, zeros, etc.)\n",
        "\n",
        "5. Use of special library functions (e.g., random)"
      ]
    },
    {
      "cell_type": "markdown",
      "metadata": {
        "id": "P62Mai0sE9nR"
      },
      "source": [
        "## <font color = 'dodgerblue'> **Conversion from other python structures using np.array()**\n",
        "\n",
        "We can easily convert any iterable function such as lists, tuples etc. into arrays by using numpy packages.\n",
        "\n",
        "  **Syntax**:\n",
        "  ```\n",
        "  np.array(list)\n",
        "  np.array(tuple)\n",
        "\n",
        "  ```\n",
        "We can pass iterable functions as an argument for the array() method in numpy.\n"
      ]
    },
    {
      "cell_type": "code",
      "execution_count": 4,
      "metadata": {
        "colab": {
          "base_uri": "https://localhost:8080/"
        },
        "collapsed": true,
        "execution": {
          "iopub.execute_input": "2022-08-24T23:29:28.619719Z",
          "iopub.status.busy": "2022-08-24T23:29:28.619468Z",
          "iopub.status.idle": "2022-08-24T23:29:28.626691Z",
          "shell.execute_reply": "2022-08-24T23:29:28.625702Z",
          "shell.execute_reply.started": "2022-08-24T23:29:28.619701Z"
        },
        "id": "j6LK6BJt6m3K",
        "jupyter": {
          "outputs_hidden": true,
          "source_hidden": true
        },
        "outputId": "ff0463c0-dbc5-4e66-a169-5569e4c4b031"
      },
      "outputs": [
        {
          "name": "stdout",
          "output_type": "stream",
          "text": [
            "[1 2 5 4 3 6]\n"
          ]
        }
      ],
      "source": [
        "# Creating array from a list\n",
        "list_array = [1, 2, 5, 4, 3, 6]\n",
        "\n",
        "# creae a numpy array from list\n",
        "numpy_array = np.array(list_array)\n",
        "print(numpy_array)"
      ]
    },
    {
      "cell_type": "code",
      "execution_count": 5,
      "metadata": {
        "colab": {
          "base_uri": "https://localhost:8080/"
        },
        "collapsed": true,
        "execution": {
          "iopub.execute_input": "2022-08-24T23:29:36.268961Z",
          "iopub.status.busy": "2022-08-24T23:29:36.267995Z",
          "iopub.status.idle": "2022-08-24T23:29:36.275246Z",
          "shell.execute_reply": "2022-08-24T23:29:36.274325Z",
          "shell.execute_reply.started": "2022-08-24T23:29:36.268918Z"
        },
        "id": "v3Jsb5Je-JFb",
        "jupyter": {
          "outputs_hidden": true,
          "source_hidden": true
        },
        "outputId": "d5bb2517-a78b-4e68-d087-8e5e237b5534"
      },
      "outputs": [
        {
          "name": "stdout",
          "output_type": "stream",
          "text": [
            "[ 1  2 45 36]\n"
          ]
        }
      ],
      "source": [
        "# Creating arrays from tuple\n",
        "my_tuple = (1, 2, 45, 36)\n",
        "numpy_array= np.array(my_tuple)\n",
        "print(numpy_array)"
      ]
    },
    {
      "cell_type": "code",
      "execution_count": 6,
      "metadata": {
        "colab": {
          "base_uri": "https://localhost:8080/"
        },
        "collapsed": true,
        "execution": {
          "iopub.execute_input": "2022-08-24T23:29:42.326640Z",
          "iopub.status.busy": "2022-08-24T23:29:42.326382Z",
          "iopub.status.idle": "2022-08-24T23:29:42.331607Z",
          "shell.execute_reply": "2022-08-24T23:29:42.330297Z",
          "shell.execute_reply.started": "2022-08-24T23:29:42.326623Z"
        },
        "id": "uoCRfw1J61qz",
        "jupyter": {
          "outputs_hidden": true,
          "source_hidden": true
        },
        "outputId": "4814a4d3-ac9f-4ea1-edcb-3d04f53da212"
      },
      "outputs": [
        {
          "name": "stdout",
          "output_type": "stream",
          "text": [
            "The numpy array is: \n",
            " [12 45 78 36 45]\n"
          ]
        }
      ],
      "source": [
        "# Creating 1 dimensional array from numpy package\n",
        "num = np.array([12, 45, 78, 36, 45])\n",
        "print(f'The numpy array is: \\n {num}')"
      ]
    },
    {
      "cell_type": "code",
      "execution_count": 7,
      "metadata": {
        "colab": {
          "base_uri": "https://localhost:8080/"
        },
        "collapsed": true,
        "execution": {
          "iopub.execute_input": "2022-08-24T23:29:48.363787Z",
          "iopub.status.busy": "2022-08-24T23:29:48.363392Z",
          "iopub.status.idle": "2022-08-24T23:29:48.369411Z",
          "shell.execute_reply": "2022-08-24T23:29:48.368389Z",
          "shell.execute_reply.started": "2022-08-24T23:29:48.363740Z"
        },
        "id": "Nxk1VFOR8qwj",
        "jupyter": {
          "outputs_hidden": true,
          "source_hidden": true
        },
        "outputId": "fe7ac059-c677-4e69-a553-03658c33d6e9"
      },
      "outputs": [
        {
          "name": "stdout",
          "output_type": "stream",
          "text": [
            "The 2 dimensional array is:\n",
            " [[12 45 65 78]\n",
            " [12  1  2  3]]\n"
          ]
        }
      ],
      "source": [
        "# Creating 2 dimensional array from numpy package\n",
        "numpy_array = np.array([[12, 45, 65, 78],[12, 1, 2, 3]])\n",
        "print(f'The 2 dimensional array is:\\n {numpy_array}')"
      ]
    },
    {
      "cell_type": "markdown",
      "metadata": {
        "id": "jbjL7WtshGEW"
      },
      "source": [
        "## <font color = 'dodgerblue'> **Notation**\n",
        "\n",
        "* In NumPy, each dimension is called an **axis**.\n",
        "* The number of axes is called the **rank**.\n",
        "    * For example, the above 2x2 matrix is an array of rank 2 (it is 2-dimensional).\n",
        "    * The first axis has length 2, the second has length 4.\n",
        "*  shape gives the size of each dimensions in an array.\n",
        "    * For example, the above array's shape is `(2, 4)`.\n",
        "    * The rank is equal to the shape's length.\n",
        "* The **size** of an array is the total number of elements, which is the product of all axis lengths (eg. 2*4=8)"
      ]
    },
    {
      "cell_type": "markdown",
      "metadata": {
        "id": "NiiDIxat-6sa"
      },
      "source": [
        "## <font color = 'dodgerblue'> **Intrinsic numpy array creation objects**\n",
        "Numpy has a special built in function to create arrays from the scratch.\n",
        "\n",
        "\n"
      ]
    },
    {
      "cell_type": "markdown",
      "metadata": {
        "id": "0ShKWnZKjOW6"
      },
      "source": [
        "### <font color = 'dodgerblue'> **np.zeros**\n",
        "An array filled with zeros can be created by specifying particular shape and data type. The default datatype is **float64**.\n",
        "  \n",
        " **Syntax** :\n",
        "  ```\n",
        "   np.zeros(shape, dtype)\n",
        "  ```"
      ]
    },
    {
      "cell_type": "code",
      "execution_count": 8,
      "metadata": {
        "colab": {
          "base_uri": "https://localhost:8080/"
        },
        "collapsed": true,
        "execution": {
          "iopub.execute_input": "2022-08-24T23:30:28.721057Z",
          "iopub.status.busy": "2022-08-24T23:30:28.720788Z",
          "iopub.status.idle": "2022-08-24T23:30:28.730818Z",
          "shell.execute_reply": "2022-08-24T23:30:28.729785Z",
          "shell.execute_reply.started": "2022-08-24T23:30:28.721037Z"
        },
        "id": "YhUc4wRa9Dt6",
        "jupyter": {
          "outputs_hidden": true,
          "source_hidden": true
        },
        "outputId": "51ebfb0b-e043-4eea-d222-889cf74627fc"
      },
      "outputs": [
        {
          "data": {
            "text/plain": [
              "array([0., 0., 0., 0., 0., 0., 0., 0., 0., 0.])"
            ]
          },
          "execution_count": 8,
          "metadata": {},
          "output_type": "execute_result"
        }
      ],
      "source": [
        "# Creating a one dimensional array filled with zeros\n",
        "np.zeros(10, dtype = float)"
      ]
    },
    {
      "cell_type": "code",
      "execution_count": 9,
      "metadata": {
        "colab": {
          "base_uri": "https://localhost:8080/"
        },
        "execution": {
          "iopub.execute_input": "2022-08-24T23:30:34.526342Z",
          "iopub.status.busy": "2022-08-24T23:30:34.526110Z",
          "iopub.status.idle": "2022-08-24T23:30:34.531737Z",
          "shell.execute_reply": "2022-08-24T23:30:34.530878Z",
          "shell.execute_reply.started": "2022-08-24T23:30:34.526319Z"
        },
        "id": "6HSVgmoBCkaw",
        "jupyter": {
          "outputs_hidden": true,
          "source_hidden": true
        },
        "outputId": "acaa6629-4bb9-4544-8484-007bba294500"
      },
      "outputs": [
        {
          "data": {
            "text/plain": [
              "array([[0, 0, 0],\n",
              "       [0, 0, 0]])"
            ]
          },
          "execution_count": 9,
          "metadata": {},
          "output_type": "execute_result"
        }
      ],
      "source": [
        "# Creating a two dimensional array filled with zeros\n",
        "# The following will have 2 rows and 3 columns \n",
        "np.zeros((2, 3), dtype = int)"
      ]
    },
    {
      "cell_type": "markdown",
      "metadata": {
        "id": "RgQeyRdZjmGU"
      },
      "source": [
        "### <font color = 'dodgerblue'> **np.ones**\n",
        " An array filled with only ones can be created by specifying particular shape and data type. The default shape is **float64**.\n",
        "  \n",
        "  **Syntax**:\n",
        "  ```\n",
        "  np.ones(shape, dtype)\n",
        "  ```\n",
        "  where, dtype can be used as int, float etc."
      ]
    },
    {
      "cell_type": "code",
      "execution_count": 10,
      "metadata": {
        "colab": {
          "base_uri": "https://localhost:8080/"
        },
        "collapsed": true,
        "id": "tuw9ETTNC1Mc",
        "jupyter": {
          "outputs_hidden": true,
          "source_hidden": true
        },
        "outputId": "7d50201b-2a19-4fd5-a117-26cf8e112035"
      },
      "outputs": [
        {
          "data": {
            "text/plain": [
              "array([1, 1, 1, 1, 1, 1, 1, 1, 1, 1, 1, 1, 1, 1, 1, 1, 1, 1, 1, 1])"
            ]
          },
          "execution_count": 10,
          "metadata": {},
          "output_type": "execute_result"
        }
      ],
      "source": [
        "# Creating a 1 dimensional array using ones method\n",
        "np.ones(20, dtype = int)"
      ]
    },
    {
      "cell_type": "code",
      "execution_count": 11,
      "metadata": {
        "colab": {
          "base_uri": "https://localhost:8080/"
        },
        "collapsed": true,
        "id": "ZWaUJx0FDIsI",
        "jupyter": {
          "outputs_hidden": true,
          "source_hidden": true
        },
        "outputId": "7204b994-c4bb-47e5-c326-0edce91cb69a"
      },
      "outputs": [
        {
          "data": {
            "text/plain": [
              "array([[1., 1.],\n",
              "       [1., 1.],\n",
              "       [1., 1.]])"
            ]
          },
          "execution_count": 11,
          "metadata": {},
          "output_type": "execute_result"
        }
      ],
      "source": [
        "# Creating a 2 dimensional array using ones method.\n",
        "# The following array will have 3 rows and 2 columns \n",
        "np.ones((3, 2), dtype = float)"
      ]
    },
    {
      "cell_type": "markdown",
      "metadata": {
        "id": "SeKB1vyfztOO"
      },
      "source": [
        "### <font color = 'dodgerblue'>**np.full()**\n",
        "We can create  an array of the given shape initialized with any given value.\n",
        "\n",
        " **Syntax** :\n",
        "  ```\n",
        "   np.full(shape, fill_value, dtype)\n",
        "  ```"
      ]
    },
    {
      "cell_type": "code",
      "execution_count": 12,
      "metadata": {
        "colab": {
          "base_uri": "https://localhost:8080/"
        },
        "collapsed": true,
        "id": "vkRbXZwW0HE3",
        "jupyter": {
          "outputs_hidden": true,
          "source_hidden": true
        },
        "outputId": "458f6164-36b1-4684-c6f5-facb68c1378e"
      },
      "outputs": [
        {
          "data": {
            "text/plain": [
              "array([[5, 5, 5],\n",
              "       [5, 5, 5]])"
            ]
          },
          "execution_count": 12,
          "metadata": {},
          "output_type": "execute_result"
        }
      ],
      "source": [
        "np.full((2,3), 5)"
      ]
    },
    {
      "cell_type": "markdown",
      "metadata": {
        "id": "Koo7peFEk4Os"
      },
      "source": [
        "### <font color = 'dodgerblue'> **np.arange()**\n",
        "arange() method is used to create values in the array in an increasing order. It is similar to the built in python range() method.\n",
        " \n",
        " **Syntax** :\n",
        "```\n",
        "np.arange(stop, dtype)\n",
        "np.arange(start, stop, dtype)\n",
        "np.arange(start, stop, step, dtype)\n",
        "```\n",
        "where,\n",
        "\n",
        "> **start** - \tOptional. An integer number specifying the strat position. Default is 0\n",
        "\n",
        "> **stop** - Required. An integer number specifying the stop position (**not included**).\n",
        "\n",
        "> **step (Optional)** - Optional. An integer value which determines the increment. default is 1"
      ]
    },
    {
      "cell_type": "code",
      "execution_count": 13,
      "metadata": {
        "colab": {
          "base_uri": "https://localhost:8080/"
        },
        "collapsed": true,
        "id": "MqNFHTrLDbhn",
        "jupyter": {
          "outputs_hidden": true,
          "source_hidden": true
        },
        "outputId": "3912626a-70b7-400f-8196-912b7812ea46"
      },
      "outputs": [
        {
          "name": "stdout",
          "output_type": "stream",
          "text": [
            "An array starting from default 0 to 9 elements [0. 1. 2. 3. 4. 5. 6. 7. 8. 9.]\n",
            "\n",
            " An array starting from 12 and end at 24 [12 13 14 15 16 17 18 19 20 21 22 23 24]\n",
            "\n",
            " An array starting from 12 ,ending at 29 and incrementing each element by 5 [12 17 22 27]\n"
          ]
        }
      ],
      "source": [
        "# Creating an array using arange() method\n",
        "\n",
        "# It will give an array starting from default 0 to 9 elements\n",
        "a = np.arange(10, dtype = float)\n",
        "print(f\"An array starting from default 0 to 9 elements {a}\")\n",
        "\n",
        "# It will give an array starting from 12 and end at 24\n",
        "b = np.arange(12, 25, dtype = int)\n",
        "print(f\"\\n An array starting from 12 and end at 24 {b}\")\n",
        "\n",
        "# It will give an array starting from 12 ,ending at 29 and incrementing each element by 5\n",
        "c = np.arange(12, 30, 5, dtype = int)\n",
        "print(f\"\\n An array starting from 12 ,ending at 29 and incrementing each element by 5 {c}\")"
      ]
    },
    {
      "cell_type": "markdown",
      "metadata": {
        "id": "2Ok7wbzQxsUc"
      },
      "source": [
        "### <font color = 'dodgerblue'> **np.linspace()**\n",
        "\n",
        "It creates evenly spaced numbers over a specified interval\n",
        "\n",
        "  **Syntax**:\n",
        "\n",
        "  ```\n",
        "  np.linspace(start, stop, num)\n",
        "  ```\n",
        "  - start: strating value of sequence\n",
        "  - end: end value of sequence\n",
        "  - num: number of values to be generated"
      ]
    },
    {
      "cell_type": "code",
      "execution_count": 14,
      "metadata": {
        "colab": {
          "base_uri": "https://localhost:8080/"
        },
        "collapsed": true,
        "id": "IX5VyoH6VX6S",
        "jupyter": {
          "outputs_hidden": true,
          "source_hidden": true
        },
        "outputId": "83b354ac-f628-4c2a-bb49-311579617c85"
      },
      "outputs": [
        {
          "name": "stdout",
          "output_type": "stream",
          "text": [
            "\n",
            " Ten evenly spaced values between 0 and 5 [0.   0.56 1.11 1.67 2.22 2.78 3.33 3.89 4.44 5.  ]\n"
          ]
        }
      ],
      "source": [
        "# create an array using np.linspace\n",
        "# create 10 evenly soaced values between 0 and 4\n",
        "d = np.linspace(start=0, stop = 5, num = 10)\n",
        "print(f\"\\n Ten evenly spaced values between 0 and 5 {d}\")"
      ]
    },
    {
      "cell_type": "markdown",
      "metadata": {
        "id": "MNJ6gl3xy_4U"
      },
      "source": [
        "### <font color = 'dodgerblue'> **eye()**\n",
        "This  method can be used to create an identity matrix or array. \n",
        "  * An **identity matrix** is a matrix which does not change any array when we multiply (matrix multiplication) the array with that matrix.\n",
        "  * The principal diagonal elements are ones and all other elements are zeros.\n",
        "\n",
        " **Example**:\n",
        "  $$\\begin{bmatrix} 1 & 0 & 0 \\\\ 0 & 1 & 0 \\\\ 0 & 0 & 1 \\end{bmatrix}$$\n",
        "\n",
        "\n",
        "  **Syntax**:\n",
        "\n",
        "\n",
        "  ```\n",
        "  np.eye(shape of the array, dtype)\n",
        "  ```\n",
        "  It gives a square matrix where rows and columns are same and we can define data type as int, float etc."
      ]
    },
    {
      "cell_type": "code",
      "execution_count": 15,
      "metadata": {
        "colab": {
          "base_uri": "https://localhost:8080/"
        },
        "collapsed": true,
        "id": "Q-7fvRRQLkqV",
        "jupyter": {
          "outputs_hidden": true,
          "source_hidden": true
        },
        "outputId": "fc5f6804-10a9-42dc-d4ad-8f9ff355aa35"
      },
      "outputs": [
        {
          "data": {
            "text/plain": [
              "array([[1., 0., 0., 0., 0.],\n",
              "       [0., 1., 0., 0., 0.],\n",
              "       [0., 0., 1., 0., 0.],\n",
              "       [0., 0., 0., 1., 0.],\n",
              "       [0., 0., 0., 0., 1.]])"
            ]
          },
          "execution_count": 15,
          "metadata": {},
          "output_type": "execute_result"
        }
      ],
      "source": [
        "# Using eye() method to create an identity matrix or array\n",
        "# The following matrix has 5 rows and 5 columns\n",
        "np.eye(5, dtype = float)"
      ]
    },
    {
      "cell_type": "markdown",
      "metadata": {
        "id": "Cycn0LCEEq0u"
      },
      "source": [
        "## <font color = 'dodgerblue'> **Special library functions**"
      ]
    },
    {
      "cell_type": "markdown",
      "metadata": {
        "id": "aTfdgYF80-nV"
      },
      "source": [
        "### <font color = 'dodgerblue'>**np.random()**\n",
        "\n",
        "numpy.random() method can be used to generate array with random numbers. \n",
        "\n",
        "\n",
        "  **Syntax**:\n",
        "```\n",
        "    np.random.randint(start, end, shape of array) # random integers\n",
        "    np.random.uniform(start, end, shape of array) # random numbers from uniform distribution\n",
        "    np.random.normal(mean, standard deviation, shape) # random numbers from normal distribution\n",
        "\n",
        "```\n",
        "\n"
      ]
    },
    {
      "cell_type": "markdown",
      "metadata": {
        "id": "F6gL4Jw9uR1l"
      },
      "source": [
        "#### <font color = 'dodgerblue'> **Random integers - randint()**"
      ]
    },
    {
      "cell_type": "code",
      "execution_count": 16,
      "metadata": {
        "colab": {
          "base_uri": "https://localhost:8080/"
        },
        "collapsed": true,
        "id": "IfxYrkbAIO23",
        "jupyter": {
          "outputs_hidden": true,
          "source_hidden": true
        },
        "outputId": "f5abb810-2bec-40b5-9fe0-1a595e6a14b2"
      },
      "outputs": [
        {
          "name": "stdout",
          "output_type": "stream",
          "text": [
            "[[3 8 3]\n",
            " [9 8 3]\n",
            " [8 8 2]]\n",
            "\n",
            "[[1 6 7]\n",
            " [4 4 7]\n",
            " [0 7 6]]\n"
          ]
        }
      ],
      "source": [
        "# Create an array that has random numbers (integers) between 0 to 10 in an array\n",
        "# The array will consist of 3 rows and 3 columns\n",
        "a = np.random.randint(0, 10, (3, 3)) #  here 0 is inclusive but 10 is not\n",
        "print(a)\n",
        "\n",
        "# the command below will also give the same result\n",
        "# when we specify only one paramter then it stats from 0 till that value\n",
        "b = np.random.randint(10, size = (3, 3)) \n",
        "print(f'\\n{b}')"
      ]
    },
    {
      "cell_type": "markdown",
      "metadata": {
        "id": "v01_uG5ouUNv"
      },
      "source": [
        "#### <font color = 'dodgerblue'> **Normal Distribution - normal()**"
      ]
    },
    {
      "cell_type": "code",
      "execution_count": 17,
      "metadata": {
        "colab": {
          "base_uri": "https://localhost:8080/"
        },
        "collapsed": true,
        "id": "mOZU1ubPJzOs",
        "jupyter": {
          "outputs_hidden": true,
          "source_hidden": true
        },
        "outputId": "197d37fa-3451-4f4a-a4be-e1dce19e2d91"
      },
      "outputs": [
        {
          "data": {
            "text/plain": [
              "array([[-2.19,  2.85, -0.25],\n",
              "       [ 3.07,  3.64,  0.83]])"
            ]
          },
          "execution_count": 17,
          "metadata": {},
          "output_type": "execute_result"
        }
      ],
      "source": [
        "# Create an array normally distributed values\n",
        "# with mean = 2 and standard deviation = 3\n",
        "\n",
        "np.random.normal(2, 3, (2, 3))"
      ]
    },
    {
      "cell_type": "markdown",
      "metadata": {
        "id": "zJRSVnQDuWOd"
      },
      "source": [
        "#### <font color = 'dodgerblue'> **Random Numbers - Uniform DIstributon - uniform()**"
      ]
    },
    {
      "cell_type": "code",
      "execution_count": 18,
      "metadata": {
        "colab": {
          "base_uri": "https://localhost:8080/"
        },
        "collapsed": true,
        "id": "_6IkauyGKIWP",
        "jupyter": {
          "outputs_hidden": true,
          "source_hidden": true
        },
        "outputId": "90863ee1-9b44-4176-b0f7-d6bfd7fa778b"
      },
      "outputs": [
        {
          "data": {
            "text/plain": [
              "array([[0.71, 0.65, 0.63, 0.71],\n",
              "       [0.12, 0.63, 0.31, 0.97],\n",
              "       [0.32, 0.99, 0.67, 0.78]])"
            ]
          },
          "execution_count": 18,
          "metadata": {},
          "output_type": "execute_result"
        }
      ],
      "source": [
        "# To create an array of uniformly distributed values.\n",
        "# random values between 0 and 1\n",
        "\n",
        "np.random.uniform(0, 1, (3, 4))"
      ]
    },
    {
      "cell_type": "markdown",
      "metadata": {
        "id": "p52Im_2wuZcg"
      },
      "source": [
        "#### <font color = 'dodgerblue'> **Set Seed - seed()**"
      ]
    },
    {
      "cell_type": "markdown",
      "metadata": {
        "id": "UqHQysUz9X-I"
      },
      "source": [
        "* numpy.random.seed() can be used to initialize random number generators. This will help us to generate same set of random  numbers everytie we run our code.\n",
        "\n",
        "  **Syntax**\n",
        "\n",
        "\n",
        "```\n",
        "    numpy.random.seed()\n",
        "    numpy.random.randint(start,stop)\n",
        "```\n",
        "* We can pass any integer in the seed argument.\n",
        "* Then we can generate a random number which will be same all the time."
      ]
    },
    {
      "cell_type": "code",
      "execution_count": 19,
      "metadata": {
        "colab": {
          "base_uri": "https://localhost:8080/"
        },
        "collapsed": true,
        "id": "5DZFzu-C8AFe",
        "jupyter": {
          "outputs_hidden": true,
          "source_hidden": true
        },
        "outputId": "6ef8b1c9-b5d9-41d7-baed-d8a5ed21dcac"
      },
      "outputs": [
        {
          "data": {
            "text/plain": [
              "45"
            ]
          },
          "execution_count": 19,
          "metadata": {},
          "output_type": "execute_result"
        }
      ],
      "source": [
        "# Using seed() function to generate the random numbers\n",
        "# We can run this cell multiple times and we can get same random number\n",
        "# if we comment the first statement (below) then we will get different number everytime we run this cell.\n",
        "\n",
        "np.random.seed(0)\n",
        "np.random.randint(1, 100)"
      ]
    },
    {
      "cell_type": "markdown",
      "metadata": {
        "id": "8fSWwHDw0icl",
        "jp-MarkdownHeadingCollapsed": true,
        "tags": []
      },
      "source": [
        "# <font color = 'dodgerblue'> **List arrays vs Numpy arrays**\n",
        "- Arrays can store data more compactly.\n",
        "- Lists cannot directly handle math operations whereas Numpy arrays are great for numerical operations.\n",
        "- Appending elements to Numpy array will take more time than lists. Lists are good for the scenario where items can grow dynamically.\n",
        "\n",
        "In the example below, we will now compare the addition of two large collections using numpy and python list."
      ]
    },
    {
      "cell_type": "code",
      "execution_count": 21,
      "metadata": {
        "collapsed": true,
        "id": "LnMHE5Qxy-91",
        "jupyter": {
          "outputs_hidden": true,
          "source_hidden": true
        }
      },
      "outputs": [],
      "source": [
        "import time\n",
        "import numpy as np\n",
        "\n",
        "# manipulating 10 million items\n",
        "n = 10000000\n",
        "\n",
        "# Write a function to calculate time to add two arrays of 10 million items\n",
        "# We will use np.arange function to generate numpy arrays\n",
        "# use time() function from time module\n",
        "\n",
        "def numpy_add():\n",
        "    # time in seconds\n",
        "    now = time.time()\n",
        "    # generating numpy array with 10 million items\n",
        "    x = np.array(np.arange(n))\n",
        "    # generating another numpy array with 10 million items\n",
        "    y = np.array(np.arange(n))\n",
        "    result = x + y\n",
        "    return time.time() - now\n",
        "\n",
        "# Wrrite a sumilar function using python list\n",
        "# We will use built in range function to generate list of 10 million items\n",
        "# use time() function from time module\n",
        "\n",
        "def python_add():\n",
        "    # time in seconds\n",
        "    now = time.time()\n",
        "    # generating a list with 10 million items\n",
        "    x = list(range(n))\n",
        "    # generating another list with  10 million items\n",
        "    y = list(range(n))\n",
        "    # using list comprehension to add elements in two  lists\n",
        "    result = [x[i] + y[i] for i in range(len(x))]\n",
        "    return time.time() - now"
      ]
    },
    {
      "cell_type": "code",
      "execution_count": 22,
      "metadata": {
        "colab": {
          "base_uri": "https://localhost:8080/"
        },
        "collapsed": true,
        "id": "2kChTUyIzF82",
        "jupyter": {
          "outputs_hidden": true,
          "source_hidden": true
        },
        "outputId": "4d627f0b-3060-41fd-c17c-a0babbf17c1e"
      },
      "outputs": [
        {
          "name": "stdout",
          "output_type": "stream",
          "text": [
            "Python time: 2.2452893257141113s\n",
            "NumPy time: 0.13690447807312012s\n",
            "Numpy is 16.400408206625x faster!\n"
          ]
        }
      ],
      "source": [
        "# We can check the time difference between array addition by using numpy and list \n",
        "time_python = python_add()\n",
        "time_numpy = numpy_add()\n",
        "print('Python time: ' + str(time_python) + 's')\n",
        "print('NumPy time: ' + str(time_numpy) + 's')\n",
        "print(\"Numpy is \" + str(time_python / time_numpy) + \"x faster!\")"
      ]
    },
    {
      "cell_type": "markdown",
      "metadata": {
        "id": "iCeSdEhoMCe9"
      },
      "source": [
        "# <font color = 'dodgerblue'> **Numpy operations** </font>\n",
        "1. Numpy operations are used to manipulate or perform various types of mathematical operations on  the arrays.\n",
        "\n",
        "2. Few of the numpy operations are ndim, itemsize(), dtype(), reshape(), slicing(), linspace(), min/max(), sum(), sqrt()/std(), hsatck/vstack(), etc.\n",
        "\n",
        "3. These numpy operations can be classified as follows:\n",
        "  * Attributes of arrays\n",
        "  * Indexing of arrays\n",
        "  * Slicing of arrays\n",
        "  * Reshaping of arrays\n",
        "  * Joining and splitting of arrays"
      ]
    },
    {
      "cell_type": "markdown",
      "metadata": {
        "id": "Ws-GO2IY_Dhn"
      },
      "source": [
        "## <font color = 'dodgerblue'> **Attributes of arrays**\n",
        "\n",
        "Attributes of arrays helps in :-\n",
        "*  Determining the size and shape of arrays \n",
        "* Memory consumption by the arrays.  \n",
        "* Different data types of arrays.\n",
        "\n"
      ]
    },
    {
      "cell_type": "markdown",
      "metadata": {
        "id": "YBRoz7o3I2Rb"
      },
      "source": [
        "### <font color = 'dodgerblue'> **Determining the shape of the array** </font>\n",
        "1. For any kind of computations or operations on an array, it is very important to understand what an array’s “shape” is.\n",
        "2. shape, ndim, size are the methods used to determine the shape of the arrays.\n",
        "\n",
        "* **ndim** : It is used to determine the dimension of an array.  **Example** : an array can be of 1 dimensional, 2 dimensional , 3 dimensional etc.\n",
        "\n",
        "  **Syntax**:\n",
        "\n",
        "\n",
        "  ```\n",
        "      ndarray.ndim\n",
        "  ```\n",
        "  where, ndarray is the name of the array\n",
        "\n",
        "* **shape** : It is used to determine the number of elements in each dimensions in an array. **Example** : if an array is 2 dimensional then it will consist of(number of rows, number of columns) as shape.\n",
        "The output of the shape is always mentioned in a tuple form. \n",
        "\n",
        "  **Syntax**:\n",
        "  \n",
        "   ```\n",
        "   ndarray.shape\n",
        "   ```\n",
        "  where, ndarray is the name of the array\n",
        "* **size** : It determines the total size of  the array. **Example**: if an array consists of 60 elements in it. Then the size of the array is the total number of elements in an array and it will be 60.\n",
        "\n",
        " **Syntax**:\n",
        "\n",
        "\n",
        "  ```\n",
        "    ndarray.size\n",
        "  ```\n",
        "  where, ndarray is the name of the array\n",
        "\n",
        "\n",
        "\n"
      ]
    },
    {
      "cell_type": "markdown",
      "metadata": {
        "id": "fHPb6YLlujgF"
      },
      "source": [
        "#### <font color = 'dodgerblue'> **ndim**"
      ]
    },
    {
      "cell_type": "code",
      "execution_count": 23,
      "metadata": {
        "colab": {
          "base_uri": "https://localhost:8080/"
        },
        "collapsed": true,
        "id": "1M0KS9GqOaZL",
        "jupyter": {
          "outputs_hidden": true,
          "source_hidden": true
        },
        "outputId": "eaee6dd3-5192-40ec-d765-864a4b6a64ff",
        "tags": []
      },
      "outputs": [
        {
          "name": "stdout",
          "output_type": "stream",
          "text": [
            "The dimension of the array 1 is: 1\n",
            "\n",
            "The dimension of the array 2 is:  2\n"
          ]
        }
      ],
      "source": [
        "#To find the dimensions in an array\n",
        "my_array1 = np.array([1, 25, 46, 12, 2, 30])\n",
        "my_array2 = np.array([[12, 45, 32, 46],[12, 75, 48, 96]])\n",
        "print(f\"The dimension of the array 1 is: {my_array1.ndim}\")\n",
        "print(f\"\\nThe dimension of the array 2 is:  {my_array2.ndim}\")"
      ]
    },
    {
      "cell_type": "markdown",
      "metadata": {
        "id": "X_8BKAj7ukvl"
      },
      "source": [
        "#### <font color = 'dodgerblue'> **shape**"
      ]
    },
    {
      "cell_type": "code",
      "execution_count": 24,
      "metadata": {
        "colab": {
          "base_uri": "https://localhost:8080/"
        },
        "collapsed": true,
        "id": "Y08t2ml4OaMn",
        "jupyter": {
          "outputs_hidden": true,
          "source_hidden": true
        },
        "outputId": "fde5f777-c313-4625-c793-8f679a5835b8",
        "tags": []
      },
      "outputs": [
        {
          "name": "stdout",
          "output_type": "stream",
          "text": [
            "The shape of the one dimensional array is: (6,)\n",
            "\n",
            "The shape of the two dimensions array  is: (2, 4)\n"
          ]
        }
      ],
      "source": [
        "# To find  the shape of the array\n",
        "# If an array is one dimensional then it presents the number of elements as a size followed by a comma(,)\n",
        "\n",
        "print(f\"The shape of the one dimensional array is: {my_array1.shape}\")\n",
        "print(f\"\\nThe shape of the two dimensions array  is: {my_array2.shape}\")"
      ]
    },
    {
      "cell_type": "markdown",
      "metadata": {
        "id": "1niJqc0OumEJ"
      },
      "source": [
        "#### <font color = 'dodgerblue'> **size**"
      ]
    },
    {
      "cell_type": "code",
      "execution_count": 25,
      "metadata": {
        "colab": {
          "base_uri": "https://localhost:8080/"
        },
        "collapsed": true,
        "id": "p8Ekv81pOGA1",
        "jupyter": {
          "outputs_hidden": true,
          "source_hidden": true
        },
        "outputId": "99315641-fd1a-468f-9204-59157201cb4c"
      },
      "outputs": [
        {
          "name": "stdout",
          "output_type": "stream",
          "text": [
            "The size of the one dimensional array is: 6\n",
            "\n",
            "The size of the two dimensions array is: 8\n"
          ]
        }
      ],
      "source": [
        "# To find the size of the array\n",
        "# Size determines the number of elements in an array\n",
        "\n",
        "print(f\"The size of the one dimensional array is: {my_array1.size}\")\n",
        "print(f\"\\nThe size of the two dimensions array is: {my_array2.size}\")"
      ]
    },
    {
      "cell_type": "markdown",
      "metadata": {
        "id": "TaikiVFaWQk8",
        "tags": []
      },
      "source": [
        "### <font color = 'dodgerblue'> **Differenet data types in arrays**\n",
        "\n",
        "Common Data types in numpy are :\n",
        "\n",
        "- bool_\tBoolean (True or False) stored as a byte\n",
        "- int8\tByte (-128 to 127)\n",
        "- int16\tInteger (-32768 to 32767)\n",
        "- int32\tInteger (-2147483648 to 2147483647)\n",
        "- int64\tInteger (-9223372036854775808 to 9223372036854775807)\n",
        "- uint8\tUnsigned integer (0 to 255)\n",
        "- uint16\tUnsigned integer (0 to 65535)\n",
        "- uint32\tUnsigned integer (0 to 4294967295)\n",
        "- uint64\tUnsigned integer (0 to 18446744073709551615)\n",
        "- float_\tShorthand for float64.\n",
        "- float16\tHalf precision float: sign bit, 5 bits exponent, 10 bits mantissa\n",
        "- float32\tSingle precision float: sign bit, 8 bits exponent, 23 bits mantissa\n",
        "- float64\tDouble precision float: sign bit, 11 bits exponent, 52 bits mantissa\n",
        "\n",
        "\n",
        "We can check different data types of arrays by using dtype method.\n",
        "\n",
        "**Syntax**:\n",
        "\n",
        " ```\n",
        "  ndarray.dtype\n",
        "  ```\n"
      ]
    },
    {
      "cell_type": "code",
      "execution_count": 26,
      "metadata": {
        "colab": {
          "base_uri": "https://localhost:8080/"
        },
        "collapsed": true,
        "id": "_tXKjLdfWQGm",
        "jupyter": {
          "outputs_hidden": true,
          "source_hidden": true
        },
        "outputId": "0266bfa8-3b17-4a86-aa57-cceea14fa01a"
      },
      "outputs": [
        {
          "name": "stdout",
          "output_type": "stream",
          "text": [
            "The data type of the array  is: int64\n"
          ]
        }
      ],
      "source": [
        "# check the data type of the array\n",
        "my_array = np.array([[12, 45, 78, 12],\n",
        "                   [14, 75, 48, 21],\n",
        "                   [17, 45, 48, 69],\n",
        "                   [12, 45, 74, 48]\n",
        "                   ])\n",
        "print(f\"The data type of the array  is: {my_array.dtype}\")"
      ]
    },
    {
      "cell_type": "code",
      "execution_count": 27,
      "metadata": {
        "colab": {
          "base_uri": "https://localhost:8080/"
        },
        "collapsed": true,
        "id": "t5h-kWpQXFfS",
        "jupyter": {
          "outputs_hidden": true,
          "source_hidden": true
        },
        "outputId": "dbe103a9-8449-490f-dca2-d209b3e4f31d"
      },
      "outputs": [
        {
          "name": "stdout",
          "output_type": "stream",
          "text": [
            "The random array is \n",
            " [[5 0 3 3]\n",
            " [7 9 3 5]\n",
            " [2 4 7 6]]\n",
            "The data type of the array  is: int64\n"
          ]
        }
      ],
      "source": [
        "# check the data type of array generated by using random method\n",
        "random_array = np.random.randint(10, size = (3, 4))\n",
        "print(f\"The random array is \\n {random_array}\")\n",
        "print(f\"The data type of the array  is: {random_array.dtype}\")"
      ]
    },
    {
      "cell_type": "markdown",
      "metadata": {
        "id": "-hTmG3LCRuDn"
      },
      "source": [
        "### <font color = 'dodgerblue'> **Determining the memory consumed by arrays** </font>\n",
        "1. It is important to know that arrays created by numpy take less amount of memory whereas arrays created by lists grasp more memory for storage.\n",
        "2. itemsize and nbytes are used to determine the storage of an array.\n",
        "* **itemsize** : It helps to find the length(in bytes) for each array element.\n",
        " \n",
        "  **Syntax**:\n",
        "\n",
        "   ```\n",
        "  ndarray.itemsize\n",
        "  ```\n",
        "* **nbytes** : It helps in listing the total length(in bytes) of the array.\n",
        "\n",
        "  **Syntax**:\n",
        "\n",
        "    ```\n",
        "  ndarray.nbytes\n",
        "  ```\n",
        "\n",
        "           \n",
        "\n",
        "\n",
        "\n",
        "\n",
        "\n"
      ]
    },
    {
      "cell_type": "markdown",
      "metadata": {
        "id": "cWtNerrWus-v"
      },
      "source": [
        "#### <font color = 'dodgerblue'> **itemsize**"
      ]
    },
    {
      "cell_type": "code",
      "execution_count": 28,
      "metadata": {
        "colab": {
          "base_uri": "https://localhost:8080/"
        },
        "collapsed": true,
        "id": "aOW16qVqUoAK",
        "jupyter": {
          "outputs_hidden": true,
          "source_hidden": true
        },
        "outputId": "b22014cd-c82b-479e-d0f1-3f7b2b469d7b"
      },
      "outputs": [
        {
          "name": "stdout",
          "output_type": "stream",
          "text": [
            "\n",
            " The storage consumed by each array element in bytes for data type int64 is: 8\n",
            "\n",
            " The storage consumed by each array element in bytes for data type int8 is : 1\n"
          ]
        }
      ],
      "source": [
        "#To check the storage in bytes consumed by  each array element\n",
        "numpy_array1 = np.array([12, 45, 46, 78], dtype=np.int64)\n",
        "print(f\"\\n The storage consumed by each array element in bytes for data type int64 is: {numpy_array1.itemsize}\")\n",
        "\n",
        "numpy_array2 = np.array([12, 45, 46, 78], dtype=np.int8)\n",
        "print(f\"\\n The storage consumed by each array element in bytes for data type int8 is : {numpy_array2.itemsize}\")\n"
      ]
    },
    {
      "cell_type": "markdown",
      "metadata": {
        "id": "ysglFbJTuuC6"
      },
      "source": [
        "#### <font color = 'dodgerblue'> **nbytes**"
      ]
    },
    {
      "cell_type": "code",
      "execution_count": 29,
      "metadata": {
        "colab": {
          "base_uri": "https://localhost:8080/"
        },
        "collapsed": true,
        "id": "COjn5IL_QmEx",
        "jupyter": {
          "outputs_hidden": true,
          "source_hidden": true
        },
        "outputId": "364a7105-144e-43eb-9ab2-e046bb0faf0a"
      },
      "outputs": [
        {
          "name": "stdout",
          "output_type": "stream",
          "text": [
            "Storage (in bytes) consumed by numpy_array1 is: 32\n",
            "\n",
            "Storage (in bytes) consumed by numpy_array2 is: 4\n"
          ]
        }
      ],
      "source": [
        "# To check total storage in bytes consumed by a numpy array\n",
        "print(f\"Storage (in bytes) consumed by numpy_array1 is: {numpy_array1.nbytes}\\n\")\n",
        "print(f\"Storage (in bytes) consumed by numpy_array2 is: {numpy_array2.nbytes}\")"
      ]
    },
    {
      "cell_type": "markdown",
      "metadata": {
        "id": "scxM5jJk_kYI"
      },
      "source": [
        "## <font color = 'dodgerblue'> **Indexing of arrays** </font>\n",
        "\n",
        "1. Indexing of arrays is similar to list indexing.\n",
        "2. We can obtain the array element by mentioning the index number in the square brackets.\n",
        "3. The indexing always starts from 0. \n",
        "\n",
        "**Syntax**:\n",
        "\n",
        "\n",
        "\n",
        "```\n",
        "  ndarray['enter the index number']\n",
        "```\n",
        "\n",
        "\n"
      ]
    },
    {
      "cell_type": "code",
      "execution_count": 30,
      "metadata": {
        "colab": {
          "base_uri": "https://localhost:8080/"
        },
        "collapsed": true,
        "id": "KIpglbK4hFrY",
        "jupyter": {
          "outputs_hidden": true,
          "source_hidden": true
        },
        "outputId": "652fbeff-5039-452f-9109-b2d20fb577b3"
      },
      "outputs": [
        {
          "name": "stdout",
          "output_type": "stream",
          "text": [
            "The element in the third place of the array is: 23\n"
          ]
        }
      ],
      "source": [
        "# To access an element from one dimensional array\n",
        "my_num = np.array([12, 15, 23, 45])\n",
        "\n",
        "print(f\"The element in the third place of the array is: {my_num[2]}\")"
      ]
    },
    {
      "cell_type": "code",
      "execution_count": 31,
      "metadata": {
        "colab": {
          "base_uri": "https://localhost:8080/"
        },
        "collapsed": true,
        "id": "0v76Kl1VfMgP",
        "jupyter": {
          "outputs_hidden": true,
          "source_hidden": true
        },
        "outputId": "0db436d4-6598-4371-f082-60b3e23a1404"
      },
      "outputs": [
        {
          "name": "stdout",
          "output_type": "stream",
          "text": [
            "The element in the first row and third column  is : 24\n"
          ]
        }
      ],
      "source": [
        "# Access an element from the 2 dimensional array by using indexing\n",
        "my_numpy = np.array([[12, 15, 24, 62],\n",
        "                   [124,15, 46, 23]\n",
        "                   ])\n",
        "print(f\"The element in the first row and third column  is : {my_numpy[0][2]}\")\n"
      ]
    },
    {
      "cell_type": "markdown",
      "metadata": {
        "id": "racSE9Ty_xGW"
      },
      "source": [
        "## <font color = 'dodgerblue'> **Slicing of arrays** </font>\n",
        "1. Sometimes, we don't need huge arrays for the computation purpose. We just need a part of the array. These are known as subarrays.\n",
        "2.  The sub arrays can be acquired by using slicing.\n",
        "3. Just like an array indexing, we can use the square brackets for slicing the array into a sub array.\n",
        "4. Hence, Slicing in python means taking elements from one given index to another given index.\n",
        "  \n",
        "  **Syntax**:\n",
        "\n",
        "\n",
        "\n",
        "   ```\n",
        "      ndarray[start:stop:step]\n",
        "\n",
        "   ```\n",
        "  where,\n",
        "\n",
        "\n",
        ">> **start** : The index number to start the slicing. The default value of start is 0. <br>\n",
        " **stop** :The index number to end the slicing. The default value is the size of the dimension. <br>**step** : Integer value which determines the increment between index values in the sequence. By default it takes 1.\n",
        "  \n",
        "5. If there is any missing value inside the [start:stop:step] then it takes default value. \n",
        "\n",
        "**Example** :-\n",
        "\n",
        "* [: : 2] \n",
        "\n",
        "  Here ,\n",
        "  **start** = 0,\n",
        "\n",
        "  **stop** = size of the dimension, \n",
        "\n",
        "  **step** = 2"
      ]
    },
    {
      "cell_type": "markdown",
      "metadata": {
        "id": "XkXMbmozt1QX"
      },
      "source": [
        "### <font color = 'dodgerblue'> **Access subarrays in one dimension and multiple dimensions**\n",
        "Slicing is used in similar way for one dimensional and multi dimensional arrays just separated by using commas in multi dimensional arrays."
      ]
    },
    {
      "cell_type": "code",
      "execution_count": 32,
      "metadata": {
        "colab": {
          "base_uri": "https://localhost:8080/"
        },
        "collapsed": true,
        "id": "AYZlBbLEmpsB",
        "jupyter": {
          "outputs_hidden": true,
          "source_hidden": true
        },
        "outputId": "41fde91c-320a-457a-e0f6-025c5920c6bf"
      },
      "outputs": [
        {
          "name": "stdout",
          "output_type": "stream",
          "text": [
            "The one dimensional array is [0 1 2 3 4 5 6 7 8 9]\n"
          ]
        }
      ],
      "source": [
        "# One dimensional sub arrays\n",
        "my_array = np.arange(10)\n",
        "print(f\"The one dimensional array is {my_array}\")"
      ]
    },
    {
      "cell_type": "code",
      "execution_count": 33,
      "metadata": {
        "colab": {
          "base_uri": "https://localhost:8080/"
        },
        "collapsed": true,
        "id": "51QzRr8Z5cOG",
        "jupyter": {
          "outputs_hidden": true,
          "source_hidden": true
        },
        "outputId": "095bdb58-e8f6-441a-dbb9-ace1157d0a49"
      },
      "outputs": [
        {
          "name": "stdout",
          "output_type": "stream",
          "text": [
            "\n",
            " Sub- array consisting first five elements [0 1 2 3 4]\n"
          ]
        }
      ],
      "source": [
        "# sub- array consisting first five elements\n",
        "print(f\"\\n Sub- array consisting first five elements {my_array[:5]}\")"
      ]
    },
    {
      "cell_type": "code",
      "execution_count": 34,
      "metadata": {
        "colab": {
          "base_uri": "https://localhost:8080/"
        },
        "collapsed": true,
        "id": "uxIBp9F85e_u",
        "jupyter": {
          "outputs_hidden": true,
          "source_hidden": true
        },
        "outputId": "80d5c907-5abb-41d1-ceb0-617ab9b4a0d1"
      },
      "outputs": [
        {
          "name": "stdout",
          "output_type": "stream",
          "text": [
            "\n",
            " Sub- array consisting last five elements [5 6 7 8 9]\n"
          ]
        }
      ],
      "source": [
        "# sub-array consisting of last five elements\n",
        "print(f\"\\n Sub- array consisting last five elements {my_array[-5:]}\")"
      ]
    },
    {
      "cell_type": "code",
      "execution_count": 35,
      "metadata": {
        "colab": {
          "base_uri": "https://localhost:8080/"
        },
        "collapsed": true,
        "id": "6zBYjMog5mTU",
        "jupyter": {
          "outputs_hidden": true,
          "source_hidden": true
        },
        "outputId": "f9a0813b-9458-4c62-9574-5ecf45a7bb71"
      },
      "outputs": [
        {
          "name": "stdout",
          "output_type": "stream",
          "text": [
            "\n",
            " Sub-array consisting middle elements [2 4 6 8]\n"
          ]
        }
      ],
      "source": [
        "# sub-array consisting of the middle elements \n",
        "# (also note that step size is 2, so we will skip one element)\n",
        "print(f\"\\n Sub-array consisting middle elements {my_array[2:9:2]}\")\n"
      ]
    },
    {
      "cell_type": "code",
      "execution_count": 36,
      "metadata": {
        "colab": {
          "base_uri": "https://localhost:8080/"
        },
        "collapsed": true,
        "id": "wQAjhKFntR3u",
        "jupyter": {
          "outputs_hidden": true,
          "source_hidden": true
        },
        "outputId": "49320ad9-ceed-40e5-8180-dac60ec729d4"
      },
      "outputs": [
        {
          "name": "stdout",
          "output_type": "stream",
          "text": [
            "The multi dimensional array is :\n",
            " [[8 8 1 6]\n",
            " [7 7 8 1]\n",
            " [5 9 8 9]\n",
            " [4 3 0 3]\n",
            " [5 0 2 3]]\n"
          ]
        }
      ],
      "source": [
        "# Multi-dimensional sub- arrays\n",
        "multi_array = np.random.randint(10, size=(5, 4))\n",
        "print(f'The multi dimensional array is :\\n {multi_array}')"
      ]
    },
    {
      "cell_type": "code",
      "execution_count": 37,
      "metadata": {
        "colab": {
          "base_uri": "https://localhost:8080/"
        },
        "collapsed": true,
        "id": "T-9dVjn6Af5p",
        "jupyter": {
          "outputs_hidden": true,
          "source_hidden": true
        },
        "outputId": "213d8f8a-2c94-41d1-e72f-06fcbb4dc76a"
      },
      "outputs": [
        {
          "name": "stdout",
          "output_type": "stream",
          "text": [
            "shape of the array (5, 4)\n"
          ]
        }
      ],
      "source": [
        "# get the shape of the array\n",
        "print(f\"shape of the array {multi_array.shape}\")\n"
      ]
    },
    {
      "cell_type": "code",
      "execution_count": 39,
      "metadata": {
        "colab": {
          "base_uri": "https://localhost:8080/"
        },
        "collapsed": true,
        "id": "WbC92yIKySzP",
        "jupyter": {
          "outputs_hidden": true,
          "source_hidden": true
        },
        "outputId": "6fccb117-cc2d-4b08-e612-f797ef276c59"
      },
      "outputs": [
        {
          "name": "stdout",
          "output_type": "stream",
          "text": [
            "number of rows of the array 5\n",
            "number of columns of the array 4\n"
          ]
        }
      ],
      "source": [
        "# We can access first dimension as rows and second dimension as column\n",
        "print(f\"number of rows of the array {multi_array.shape[0]}\")\n",
        "print(f\"number of columns of the array {multi_array.shape[1]}\")"
      ]
    },
    {
      "cell_type": "code",
      "execution_count": 40,
      "metadata": {
        "colab": {
          "base_uri": "https://localhost:8080/"
        },
        "collapsed": true,
        "id": "HDJm_BPqAjEJ",
        "jupyter": {
          "outputs_hidden": true,
          "source_hidden": true
        },
        "outputId": "72d4f165-da6d-4213-9739-97f4766049a0"
      },
      "outputs": [
        {
          "name": "stdout",
          "output_type": "stream",
          "text": [
            "The first column of the array is:\n",
            " [8 7 5 4 5]\n"
          ]
        }
      ],
      "source": [
        "# get all the rows and first column of the array\n",
        "print(f\"The first column of the array is:\\n {multi_array[:, 0]}\")"
      ]
    },
    {
      "cell_type": "code",
      "execution_count": 41,
      "metadata": {
        "colab": {
          "base_uri": "https://localhost:8080/"
        },
        "collapsed": true,
        "id": "g0s98whWA-6D",
        "jupyter": {
          "outputs_hidden": true,
          "source_hidden": true
        },
        "outputId": "7ca12a30-545a-4260-870c-49a9b4b8b246"
      },
      "outputs": [
        {
          "name": "stdout",
          "output_type": "stream",
          "text": [
            "The first row of the array is:\n",
            " [8 8 1 6]\n"
          ]
        }
      ],
      "source": [
        "# get all teh columns and first row of the array\n",
        "print(f\"The first row of the array is:\\n {multi_array[0, :]}\")"
      ]
    },
    {
      "cell_type": "code",
      "execution_count": 42,
      "metadata": {
        "colab": {
          "base_uri": "https://localhost:8080/"
        },
        "collapsed": true,
        "id": "ofSmKjuCyays",
        "jupyter": {
          "outputs_hidden": true,
          "source_hidden": true
        },
        "outputId": "92963a97-80c7-419e-aee4-ba7d3aa0ef5c"
      },
      "outputs": [
        {
          "name": "stdout",
          "output_type": "stream",
          "text": [
            "Accessing 2 rows and 3 columns\n",
            " [[8 8 1]\n",
            " [7 7 8]]\n"
          ]
        }
      ],
      "source": [
        "# We can use the syntax :- [start:stop:step] for each dimension separated by comma(,)\n",
        "# Accessing first two rows and first three columns from multi_array\n",
        "# let us try to extract first two rows and first three columns\n",
        "\n",
        "print(f\"Accessing 2 rows and 3 columns\\n {multi_array[: 2, : 3]}\")\n",
        " "
      ]
    },
    {
      "cell_type": "code",
      "execution_count": 43,
      "metadata": {
        "colab": {
          "base_uri": "https://localhost:8080/"
        },
        "collapsed": true,
        "id": "4LaQc4GPz3J9",
        "jupyter": {
          "outputs_hidden": true,
          "source_hidden": true
        },
        "outputId": "9de56bf8-8e01-46d7-83d3-2579c3482445"
      },
      "outputs": [
        {
          "name": "stdout",
          "output_type": "stream",
          "text": [
            "Accessing all rows and alternate columns\n",
            " [[8 1]\n",
            " [7 8]\n",
            " [5 8]\n",
            " [4 0]\n",
            " [5 2]]\n"
          ]
        }
      ],
      "source": [
        "# Accessing all rows and alternate columns\n",
        "print(f\"Accessing all rows and alternate columns\\n {multi_array[:, ::2]}\")"
      ]
    },
    {
      "cell_type": "code",
      "execution_count": 44,
      "metadata": {
        "colab": {
          "base_uri": "https://localhost:8080/"
        },
        "collapsed": true,
        "id": "lI2tb3bQ5_vq",
        "jupyter": {
          "outputs_hidden": true,
          "source_hidden": true
        },
        "outputId": "575cdc2e-8227-43d5-ca9a-ac8285165896"
      },
      "outputs": [
        {
          "name": "stdout",
          "output_type": "stream",
          "text": [
            "\n",
            "Accessing alternate rows and columns\n",
            " [[8 1]\n",
            " [5 8]\n",
            " [5 2]]\n"
          ]
        }
      ],
      "source": [
        "# Accessing alternate rows and columns\n",
        "print(f\"\\nAccessing alternate rows and columns\\n {multi_array[::2, ::2]}\")"
      ]
    },
    {
      "cell_type": "code",
      "execution_count": 45,
      "metadata": {
        "colab": {
          "base_uri": "https://localhost:8080/"
        },
        "collapsed": true,
        "id": "eEa_R5SiB079",
        "jupyter": {
          "outputs_hidden": true,
          "source_hidden": true
        },
        "outputId": "036cbc98-8181-4e55-8cf7-a4f20deee9c6"
      },
      "outputs": [
        {
          "name": "stdout",
          "output_type": "stream",
          "text": [
            "The array with 3 rows and 5 columns is : \n",
            " [[5 0 3 3 7]\n",
            " [9 3 5 2 4]\n",
            " [7 6 8 8 1]]\n",
            "\n",
            "My sub-array is : \n",
            " [5 9 7]\n",
            "\n",
            "Array and subarray after modifying sub array\n",
            "\n",
            "My_array : \n",
            " [[   5    0    3    3    7]\n",
            " [1000    3    5    2    4]\n",
            " [   7    6    8    8    1]]\n",
            "\n",
            "My sub-array is : \n",
            " [   5 1000    7]\n"
          ]
        }
      ],
      "source": [
        "# Modifying a subarray modifies the array also\n",
        "np.random.seed(0)\n",
        "my_arr = np.random.randint(10, size=(3, 5))\n",
        "print(f\"The array with 3 rows and 5 columns is : \\n {my_arr}\")\n",
        "\n",
        "# Let's copy the sub-array from my_arr\n",
        "sub_arr = my_arr[:,0]\n",
        "print(f\"\\nMy sub-array is : \\n {sub_arr}\")\n",
        "\n",
        "# modify subarray\n",
        "sub_arr[1] = 1000\n",
        "\n",
        "print('\\nArray and subarray after modifying sub array')\n",
        "print(f\"\\nMy_array : \\n {my_arr}\")\n",
        "print(f\"\\nMy sub-array is : \\n {sub_arr}\")"
      ]
    },
    {
      "cell_type": "markdown",
      "metadata": {
        "id": "dsEfcgr01r9F"
      },
      "source": [
        "### <font color = 'dodgerblue'> **Creating sub-array by using copy()**\n",
        "By using copy method we can create a separate copy of the sub- array. \n",
        "Any changes in the sub- array will not effect the array.\n",
        "\n",
        "**Syntax**:\n",
        "```\n",
        "ndarray[start:stop:step].copy()\n",
        "```\n",
        "Following examples explains this method clearly :\n"
      ]
    },
    {
      "cell_type": "code",
      "execution_count": 46,
      "metadata": {
        "colab": {
          "base_uri": "https://localhost:8080/"
        },
        "collapsed": true,
        "id": "00UAuPMA3JpV",
        "jupyter": {
          "outputs_hidden": true,
          "source_hidden": true
        },
        "outputId": "bbf2fd7c-3397-4ba9-e8e6-4ff7583ea9ac"
      },
      "outputs": [
        {
          "name": "stdout",
          "output_type": "stream",
          "text": [
            "The array with 3 rows and 5 columns is : \n",
            " [[5 0 3 3 7]\n",
            " [9 3 5 2 4]\n",
            " [7 6 8 8 1]]\n",
            "\n",
            "New copy of my sub-array is : \n",
            " [5 9 7]\n",
            "\n",
            "Array and subarray after modifying sub array\n",
            "\n",
            "My_array : \n",
            " [[5 0 3 3 7]\n",
            " [9 3 5 2 4]\n",
            " [7 6 8 8 1]]\n",
            "\n",
            "My sub-array is : \n",
            " [   5 1000    7]\n"
          ]
        }
      ],
      "source": [
        "np.random.seed(0)\n",
        "my_arr = np.random.randint(10, size=(3, 5))\n",
        "print(f\"The array with 3 rows and 5 columns is : \\n {my_arr}\")\n",
        "\n",
        "# Let's copy the sub-array from my_arr\n",
        "my_copy_arr = my_arr[:,0].copy()\n",
        "print(f\"\\nNew copy of my sub-array is : \\n {my_copy_arr}\")\n",
        "\n",
        "# modify subarray\n",
        "my_copy_arr[1] = 1000\n",
        "\n",
        "print('\\nArray and subarray after modifying sub array')\n",
        "print(f\"\\nMy_array : \\n {my_arr}\")\n",
        "print(f\"\\nMy sub-array is : \\n {my_copy_arr}\")"
      ]
    },
    {
      "cell_type": "markdown",
      "metadata": {
        "id": "TkHaJNMY_8o2"
      },
      "source": [
        "## <font color = 'dodgerblue'> **Reshaping of arrays**</font>\n",
        "\n",
        "1. Changing the shape of the arrays is important for computation purpose, especially while doing arithmetic operations.\n",
        "2. This can be done by using reshape() method.\n",
        "\n",
        "  **Syntax**:\n",
        " \n",
        "\n",
        "  ```\n",
        "      ndarray.reshape((mention the size to be given))\n",
        "  ```\n",
        " \n",
        "\n",
        "4. In order to convert higher dimensions into the single dimension we can use flatten or ravel functions.\n",
        "\n",
        "  **Syntax** :\n",
        "\n",
        "\n",
        "```\n",
        "    numpy.array.flatten() \n",
        "    or \n",
        "    numpy.array.reshape().ravel()\n",
        "```\n"
      ]
    },
    {
      "cell_type": "markdown",
      "metadata": {
        "id": "osOQCsvJ_DpP"
      },
      "source": [
        "### <font color = 'dodgerblue'> **reshape**\n",
        "- The reshape function returns a new numpy array object that points at the same data.\n",
        "-  It does not create a copy. This means that modifying one array will also modify the other."
      ]
    },
    {
      "cell_type": "code",
      "execution_count": 47,
      "metadata": {
        "colab": {
          "base_uri": "https://localhost:8080/"
        },
        "collapsed": true,
        "id": "RpLWcecVCJCL",
        "jupyter": {
          "outputs_hidden": true,
          "source_hidden": true
        },
        "outputId": "d9a60c4e-d323-4f9e-83a1-973f00b2a1d5"
      },
      "outputs": [
        {
          "name": "stdout",
          "output_type": "stream",
          "text": [
            "\n",
            "The shape of the array is :\n",
            " (9,)\n",
            "\n",
            "the dimension of the array is :\n",
            " 1\n"
          ]
        }
      ],
      "source": [
        "# create a one dimensional array\n",
        "num_arr = np.arange(1, 10)\n",
        "\n",
        "# we can check the shape of the given array\n",
        "print(f\"\\nThe shape of the array is :\\n {num_arr.shape}\")\n",
        "\n",
        "# Check the dimension of the num_arr\n",
        "print(f\"\\nthe dimension of the array is :\\n {num_arr.ndim}\")\n"
      ]
    },
    {
      "cell_type": "code",
      "execution_count": 48,
      "metadata": {
        "colab": {
          "base_uri": "https://localhost:8080/"
        },
        "collapsed": true,
        "id": "w5s_9IjDFZ6P",
        "jupyter": {
          "outputs_hidden": true,
          "source_hidden": true
        },
        "outputId": "51e8b428-dd1f-4815-a04f-2974a9429ceb"
      },
      "outputs": [
        {
          "name": "stdout",
          "output_type": "stream",
          "text": [
            "my array is :\n",
            " [[1 2 3]\n",
            " [4 5 6]\n",
            " [7 8 9]]\n",
            "\n",
            "the shape of the array is :\n",
            " (3, 3)\n",
            "\n",
            "the dimension of the array is :\n",
            " 2\n"
          ]
        }
      ],
      "source": [
        "# Let us reshape the array, so that it has 3 rows and 3 columns.\n",
        "num_arr = num_arr.reshape((3, 3))\n",
        "print(f\"my array is :\\n {num_arr}\")\n",
        "\n",
        "# we can check the shape of the given array\n",
        "print(f\"\\nthe shape of the array is :\\n {num_arr.shape}\")\n",
        "\n",
        "# Check the dimension of the num_arr\n",
        "print(f\"\\nthe dimension of the array is :\\n {num_arr.ndim}\")"
      ]
    },
    {
      "cell_type": "markdown",
      "metadata": {
        "id": "tmk9nsBS_vHr"
      },
      "source": [
        "### <font color = 'dodgerblue'> **ravel**\n",
        "\n",
        "- The ravel function returns a new one dimensional array object that points at the same data. It also does not create a copy. \n",
        "- This means that modifying one array will also modify the other."
      ]
    },
    {
      "cell_type": "code",
      "execution_count": 58,
      "metadata": {
        "colab": {
          "base_uri": "https://localhost:8080/"
        },
        "collapsed": true,
        "id": "llyARHRIHqXE",
        "jupyter": {
          "outputs_hidden": true,
          "source_hidden": true
        },
        "outputId": "94732a2c-8d5a-4478-9ae0-4cc5fe27eda1"
      },
      "outputs": [
        {
          "name": "stdout",
          "output_type": "stream",
          "text": [
            "My array is \n",
            " [[[13  2  2]\n",
            "  [ 6 17 19]]\n",
            "\n",
            " [[10  1  0]\n",
            "  [17 15  9]]]\n",
            "\n",
            "The dimension of my array is : 3\n"
          ]
        }
      ],
      "source": [
        "# Converting 3 dimensional array into 1 dimension\n",
        "\n",
        "# Creating a three-dimensional array\n",
        "np.random.seed(123)\n",
        "my_array = np.random.randint(20, size=(2, 2, 3))\n",
        "print(f\"My array is \\n {my_array}\")\n",
        "print(f\"\\nThe dimension of my array is : {my_array.ndim}\")"
      ]
    },
    {
      "cell_type": "code",
      "execution_count": 59,
      "metadata": {
        "colab": {
          "base_uri": "https://localhost:8080/"
        },
        "collapsed": true,
        "id": "fIKvL684Hlk4",
        "jupyter": {
          "outputs_hidden": true,
          "source_hidden": true
        },
        "outputId": "036e1c30-8b8f-4c1c-8f93-c24778625887"
      },
      "outputs": [
        {
          "name": "stdout",
          "output_type": "stream",
          "text": [
            "\n",
            "The new array with 1 dimension is : [13  2  2  6 17 19 10  1  0 17 15  9]\n"
          ]
        }
      ],
      "source": [
        "# lets convert this dimension to 1 by using ravel() method\n",
        "# ravel is useful if you want to convert n-dimensional array to one dimensional array\n",
        "new_arr = my_array.ravel()\n",
        "print(f\"\\nThe new array with 1 dimension is : {new_arr}\")"
      ]
    },
    {
      "cell_type": "code",
      "execution_count": 60,
      "metadata": {
        "colab": {
          "base_uri": "https://localhost:8080/"
        },
        "collapsed": true,
        "id": "_aNH5IeyHGM_",
        "jupyter": {
          "outputs_hidden": true,
          "source_hidden": true
        },
        "outputId": "2edf8817-00ac-4166-bab1-439f5d62931f"
      },
      "outputs": [
        {
          "name": "stdout",
          "output_type": "stream",
          "text": [
            "\n",
            "my_array and new_arr after modifying new_arr\n",
            "\n",
            "My_array : \n",
            " [[[  13    2    2]\n",
            "  [1000   17   19]]\n",
            "\n",
            " [[  10    1    0]\n",
            "  [  17   15    9]]]\n",
            "\n",
            "new_arr is : \n",
            " [  13    2    2 1000   17   19   10    1    0   17   15    9]\n"
          ]
        }
      ],
      "source": [
        "# modify the new_array and observe whether it changes my_array\n",
        "new_arr[3] = 1000\n",
        "print('\\nmy_array and new_arr after modifying new_arr')\n",
        "print(f\"\\nMy_array : \\n {my_array}\")\n",
        "print(f\"\\nnew_arr is : \\n {new_arr}\")"
      ]
    },
    {
      "cell_type": "markdown",
      "metadata": {
        "id": "4sn9vrXKGHmV"
      },
      "source": [
        "### <font color = 'dodgerblue'> **flatten**\n",
        "\n",
        "- The flatten function returns a new one dimensional array object. \n",
        "\n",
        "- flatten always returns a copy. Therefore, in the above example (if we use flatten) changes to new_arr will not affect my_array.\n"
      ]
    },
    {
      "cell_type": "code",
      "execution_count": 54,
      "metadata": {
        "colab": {
          "base_uri": "https://localhost:8080/"
        },
        "collapsed": true,
        "id": "8dJoGvvru9RY",
        "jupyter": {
          "outputs_hidden": true,
          "source_hidden": true
        },
        "outputId": "8f79af65-c42d-4c7d-be8b-12c071eecf1f"
      },
      "outputs": [
        {
          "name": "stdout",
          "output_type": "stream",
          "text": [
            "My array is \n",
            " [[[13  2  2  6 17]\n",
            "  [19 10  1  0 17]]\n",
            "\n",
            " [[15  9  0 14  0]\n",
            "  [15 19 14  4  0]]]\n",
            "\n",
            "The dimension of my array is : 3\n",
            "The new array with one dimension is [13  2  2  6 17 19 10  1  0 17 15  9  0 14  0 15 19 14  4  0]\n"
          ]
        }
      ],
      "source": [
        "# Using flatten\n",
        "\n",
        "# Creating a 3 dimensional random numpy array \n",
        "np.random.seed(123)\n",
        "my_array = np.random.randint(20, size=(2, 2, 5))\n",
        "print(f\"My array is \\n {my_array}\")\n",
        "print(f\"\\nThe dimension of my array is : {my_array.ndim}\")\n",
        "\n",
        "# Using ravel to convert it into 1 dimension\n",
        "new_arr = my_array.flatten()\n",
        "print(f\"The new array with one dimension is {new_arr}\")"
      ]
    },
    {
      "cell_type": "code",
      "execution_count": 52,
      "metadata": {
        "colab": {
          "base_uri": "https://localhost:8080/"
        },
        "collapsed": true,
        "id": "rvW-JEA0GGC8",
        "jupyter": {
          "outputs_hidden": true,
          "source_hidden": true
        },
        "outputId": "f544d294-4fab-4e92-fe7f-d2407bc77700"
      },
      "outputs": [
        {
          "name": "stdout",
          "output_type": "stream",
          "text": [
            "\n",
            "my_array and new_arr after modifying new_arr\n",
            "\n",
            "My_array : \n",
            " [[[13  2  2  6 17]\n",
            "  [19 10  1  0 17]]\n",
            "\n",
            " [[15  9  0 14  0]\n",
            "  [15 19 14  4  0]]]\n",
            "\n",
            "new_arr is : \n",
            " [    13      2      2 100000     17     19     10      1      0     17\n",
            "     15      9      0     14      0     15     19     14      4      0]\n"
          ]
        }
      ],
      "source": [
        "# modify the new_array and observe whether it changes my_array\n",
        "new_arr[3] = 100000\n",
        "print('\\nmy_array and new_arr after modifying new_arr')\n",
        "print(f\"\\nMy_array : \\n {my_array}\")\n",
        "print(f\"\\nnew_arr is : \\n {new_arr}\")"
      ]
    },
    {
      "cell_type": "markdown",
      "metadata": {
        "id": "3264mt70C-ry"
      },
      "source": [
        "### <font color = 'dodgerblue'> **unknown size**\n",
        "In some cases we do not know the size of a particular dimension. In these cases when we specify the shape we can use -1 for that particular dimension. Numpy will infer the size of this dimension."
      ]
    },
    {
      "cell_type": "code",
      "execution_count": null,
      "metadata": {
        "collapsed": true,
        "id": "agAA8Sxw9j4y",
        "jupyter": {
          "outputs_hidden": true,
          "source_hidden": true
        }
      },
      "outputs": [],
      "source": [
        "my_array = np.random.randint(10, size=(np.random.randint(low=1, high=10), 3, 3))\n",
        "print(my_array)\n",
        "print(f'The shape of the array is: {my_array.shape}')\n",
        "\n",
        "# We want to change it to two dimensional array with n rows and 3 columns. Since we do not know \n",
        "# total number of rows, we can use -1 to specify number of rows\n",
        "\n",
        "my_array = my_array.reshape(-1, 3)\n",
        "print(my_array)\n",
        "print(f'The new shape of the array is {my_array.shape}')"
      ]
    },
    {
      "cell_type": "markdown",
      "metadata": {
        "id": "_eAIDC07AH60"
      },
      "source": [
        "## <font color = 'dodgerblue'> **Stacking arrays**\n",
        "\n",
        "It is sometimes useful to combine/stack arrays. Numpy provide following methods \n",
        "  * vstack \n",
        "  * hstack\n",
        "  * concatenate\n",
        "  * stack\n"
      ]
    },
    {
      "cell_type": "code",
      "execution_count": 72,
      "metadata": {
        "id": "SRN5wd1Uo8cV"
      },
      "outputs": [],
      "source": [
        "# let us create arrays first\n",
        "x1 = np.random.randint(low=0, high=10, size = (2, 5))\n",
        "x2 = np.ones((4, 5))\n",
        "x3 = np.zeros((2, 3))"
      ]
    },
    {
      "cell_type": "code",
      "execution_count": 73,
      "metadata": {
        "colab": {
          "base_uri": "https://localhost:8080/"
        },
        "id": "hcxTG8yHpyCg",
        "outputId": "111bb46d-12dc-4775-d842-d55e8dea75d0"
      },
      "outputs": [
        {
          "name": "stdout",
          "output_type": "stream",
          "text": [
            "x1\n",
            "[[6 5 6 0 4]\n",
            " [9 0 8 0 5]]\n",
            "\n",
            "x2\n",
            "[[1. 1. 1. 1. 1.]\n",
            " [1. 1. 1. 1. 1.]\n",
            " [1. 1. 1. 1. 1.]\n",
            " [1. 1. 1. 1. 1.]]\n",
            "\n",
            "x3\n",
            "[[0. 0. 0.]\n",
            " [0. 0. 0.]]\n"
          ]
        }
      ],
      "source": [
        "print('x1', x1, sep = '\\n')\n",
        "print('\\nx2', x2, sep = '\\n')\n",
        "print('\\nx3', x3, sep = '\\n')"
      ]
    },
    {
      "cell_type": "markdown",
      "metadata": {
        "id": "wDT3c9jmobJA"
      },
      "source": [
        "### <font color = 'dodgerblue'> **vstack**\n",
        "We can stack arrays vertically using vstack. The arrays should have same number of columns. As x1 and x2 has same number of columsn, we can use vstack to combine these arrays.\n",
        "\n",
        "<img src=\"https://drive.google.com/uc?export=view&id=15iB5N0WTWnlLHuoOWwJhzTZ_S93a7LX5\" width=\"300\"/>"
      ]
    },
    {
      "cell_type": "code",
      "execution_count": 74,
      "metadata": {
        "colab": {
          "base_uri": "https://localhost:8080/"
        },
        "id": "4NfBPBxEoemf",
        "outputId": "de228217-db6b-417f-b325-27459cc55ea2"
      },
      "outputs": [
        {
          "data": {
            "text/plain": [
              "array([[6., 5., 6., 0., 4.],\n",
              "       [9., 0., 8., 0., 5.],\n",
              "       [1., 1., 1., 1., 1.],\n",
              "       [1., 1., 1., 1., 1.],\n",
              "       [1., 1., 1., 1., 1.],\n",
              "       [1., 1., 1., 1., 1.]])"
            ]
          },
          "execution_count": 74,
          "metadata": {},
          "output_type": "execute_result"
        }
      ],
      "source": [
        "x1_x2_v= np.vstack((x1, x2))\n",
        "x1_x2_v"
      ]
    },
    {
      "cell_type": "markdown",
      "metadata": {
        "id": "TcZWNs_rpmFt"
      },
      "source": [
        "### <font color = 'dodgerblue'> **hstack**\n",
        "We can stack arrays horizontally using hstack. The arrays should have same number of rows. As x1 and x3 has same number of rows, we can use hstack to combine these arrays.\n",
        "\n",
        "<img src=\"https://drive.google.com/uc?export=view&id=1YXSYv1UAdL3HHFcLIl7iuVwuyVsGqFad\" width=\"300\"/>"
      ]
    },
    {
      "cell_type": "code",
      "execution_count": 75,
      "metadata": {
        "colab": {
          "base_uri": "https://localhost:8080/"
        },
        "id": "tE6IAcInqym2",
        "outputId": "87953129-0204-42d2-c7e7-8ba1f1e07f24"
      },
      "outputs": [
        {
          "data": {
            "text/plain": [
              "array([[6., 5., 6., 0., 4., 0., 0., 0.],\n",
              "       [9., 0., 8., 0., 5., 0., 0., 0.]])"
            ]
          },
          "execution_count": 75,
          "metadata": {},
          "output_type": "execute_result"
        }
      ],
      "source": [
        "x1_x3_h = np.hstack((x1, x3))\n",
        "x1_x3_h"
      ]
    },
    {
      "cell_type": "markdown",
      "metadata": {
        "id": "SXmMm0zrq3-T"
      },
      "source": [
        "### <font color = 'dodgerblue'> **concatenate**\n",
        "Concatenate stack arrays along any given axis. \n",
        "- The arrays must have the same shape (except in the concatenating dimension)\n",
        "- x1 and x2 have the same shape except for dim = 0, hence we can conactenate these along dim = 0. \n",
        "- x1 and x3 have the same shape except for dim = 1, hence we can conactenate these along dim = 1\n",
        "- We cannot concatenate x2 and x3 along any dimension.\n",
        "\n",
        "  **NOTE:**\n",
        "  * Concatenation along the rows (axis=0) => Vertical Stacking\n",
        "  * Concatenation along the columns (axis=1)\n",
        "  => Horizontal stacking"
      ]
    },
    {
      "cell_type": "code",
      "execution_count": null,
      "metadata": {
        "colab": {
          "base_uri": "https://localhost:8080/"
        },
        "id": "kQIi8gtyrVFd",
        "outputId": "d67da989-46b6-4bfb-91ef-446c21a58aee"
      },
      "outputs": [
        {
          "data": {
            "text/plain": [
              "array([[8., 0., 7., 9., 3.],\n",
              "       [4., 6., 1., 5., 6.],\n",
              "       [1., 1., 1., 1., 1.],\n",
              "       [1., 1., 1., 1., 1.],\n",
              "       [1., 1., 1., 1., 1.],\n",
              "       [1., 1., 1., 1., 1.]])"
            ]
          },
          "execution_count": 64,
          "metadata": {},
          "output_type": "execute_result"
        }
      ],
      "source": [
        "x1_x2 = np.concatenate((x1, x2), axis = 0 )\n",
        "x1_x2"
      ]
    },
    {
      "cell_type": "code",
      "execution_count": null,
      "metadata": {
        "colab": {
          "base_uri": "https://localhost:8080/"
        },
        "id": "59kKB2CDsjBV",
        "outputId": "3ad5180e-9d71-45b1-fd4d-9624a8e10224"
      },
      "outputs": [
        {
          "data": {
            "text/plain": [
              "array([[8., 0., 7., 9., 3., 0., 0., 0.],\n",
              "       [4., 6., 1., 5., 6., 0., 0., 0.]])"
            ]
          },
          "execution_count": 65,
          "metadata": {},
          "output_type": "execute_result"
        }
      ],
      "source": [
        "x1_x3 = np.concatenate((x1, x3), axis = 1 )\n",
        "x1_x3"
      ]
    },
    {
      "cell_type": "markdown",
      "metadata": {
        "id": "FIDkfoP-s7vL"
      },
      "source": [
        "### <font color = 'dodgerblue'> **stack**\n",
        "The stack function stacks along a new dimension. All the arrays should have the same shape. We cannot use stack with x1, x2 and x3 as these have differnt shape.\n"
      ]
    },
    {
      "cell_type": "code",
      "execution_count": 76,
      "metadata": {
        "colab": {
          "base_uri": "https://localhost:8080/"
        },
        "id": "UGNUpLfXtdgu",
        "outputId": "9ceb9321-6903-4f71-dbac-81d723bfed21"
      },
      "outputs": [
        {
          "data": {
            "text/plain": [
              "array([[[1., 1.],\n",
              "        [1., 1.]],\n",
              "\n",
              "       [[0., 0.],\n",
              "        [0., 0.]],\n",
              "\n",
              "       [[3., 3.],\n",
              "        [3., 3.]]])"
            ]
          },
          "execution_count": 76,
          "metadata": {},
          "output_type": "execute_result"
        }
      ],
      "source": [
        "x4 = np.ones((2,2))\n",
        "x5 = np.zeros((2,2))\n",
        "x6 = np.full((2,2),3)\n",
        "x4_x5_x6 = np.stack((x4, x5, x6))\n",
        "x4_x5_x6"
      ]
    },
    {
      "cell_type": "code",
      "execution_count": 77,
      "metadata": {
        "colab": {
          "base_uri": "https://localhost:8080/"
        },
        "id": "sk_mrR1jtrZy",
        "outputId": "3fe30a66-df58-4514-a79d-c2d87fdcd571"
      },
      "outputs": [
        {
          "data": {
            "text/plain": [
              "(3, 2, 2)"
            ]
          },
          "execution_count": 77,
          "metadata": {},
          "output_type": "execute_result"
        }
      ],
      "source": [
        "x4_x5_x6.shape"
      ]
    },
    {
      "cell_type": "markdown",
      "metadata": {
        "id": "Ajg3UlcQR_wA"
      },
      "source": [
        "## <font color = 'dodgerblue'> **Splitting arrays**\n",
        "We can use following metods to split arrays in numpy:\n",
        "- vsplit - Split arrays vertically (along first axis, axis =0)\n",
        "- hsplit - Split arrays horizontally (along second axis, axis =1)\n",
        "- split - aplit arrays along any dimension"
      ]
    },
    {
      "cell_type": "markdown",
      "metadata": {
        "id": "hlHU6c12vtqv"
      },
      "source": [
        "### <font color = 'dodgerblue'> **vsplit**\n",
        "Always splits arrays along first axis (i.e rows for 2 dimensional array)\n",
        "\n",
        "  Syntax :\n",
        "  ```\n",
        "  numpy.vsplit(array,indices_or_sections)\n",
        "  ```\n",
        " where, **indices/sections** are used to mention the number of splits."
      ]
    },
    {
      "cell_type": "code",
      "execution_count": 78,
      "metadata": {
        "colab": {
          "base_uri": "https://localhost:8080/"
        },
        "id": "Oh-RS76iYaag",
        "jupyter": {
          "outputs_hidden": true,
          "source_hidden": true
        },
        "outputId": "106f23a0-a3c4-49ed-b0ee-2233366ed3bb"
      },
      "outputs": [
        {
          "name": "stdout",
          "output_type": "stream",
          "text": [
            "My array is \n",
            " [[0 1]\n",
            " [2 3]\n",
            " [4 5]\n",
            " [6 7]\n",
            " [8 9]]\n",
            "\n",
            "When we split at indices 2, subarray 1 is \n",
            "[[0 1]\n",
            " [2 3]]\n",
            "\n",
            "When we split at indices 2, subarray 2 is \n",
            "[[4 5]\n",
            " [6 7]\n",
            " [8 9]]\n"
          ]
        }
      ],
      "source": [
        "# splitting of an array using vsplit() method\n",
        "num_arr = np.arange(10).reshape((5,2))\n",
        "print(f\"My array is \\n {num_arr}\")\n",
        "\n",
        "# splitting above array into 2 sub arrays, we will split at indices 2\n",
        "for i, subarray in enumerate(np.vsplit(num_arr, [2])):  \n",
        "  print(f'\\nWhen we split at indices 2, subarray {i+1} is \\n{subarray}')"
      ]
    },
    {
      "cell_type": "code",
      "execution_count": 79,
      "metadata": {
        "colab": {
          "base_uri": "https://localhost:8080/"
        },
        "id": "mY0ZXstdRlzy",
        "jupyter": {
          "outputs_hidden": true,
          "source_hidden": true
        },
        "outputId": "fd134c2f-bb13-4d6a-819d-ce8f1081a297"
      },
      "outputs": [
        {
          "name": "stdout",
          "output_type": "stream",
          "text": [
            "\n",
            "When we split at indices 4, subarray 1 is \n",
            "[[0 1]\n",
            " [2 3]\n",
            " [4 5]\n",
            " [6 7]]\n",
            "\n",
            "When we split at indices 4, subarray 2 is \n",
            "[[8 9]]\n"
          ]
        }
      ],
      "source": [
        "# let us try splitting at indices 4\n",
        "# splitting above array into 2 sub arrays, we will split at indices 4\n",
        "for i, subarray in enumerate(np.vsplit(num_arr,[4])):  \n",
        "  print(f'\\nWhen we split at indices 4, subarray {i+1} is \\n{subarray}')\n"
      ]
    },
    {
      "cell_type": "code",
      "execution_count": 81,
      "metadata": {
        "colab": {
          "base_uri": "https://localhost:8080/"
        },
        "id": "ElgQPmGWt0tj",
        "jupyter": {
          "outputs_hidden": true,
          "source_hidden": true
        },
        "outputId": "e5cda682-c600-475d-872b-7e7ac2a08268"
      },
      "outputs": [
        {
          "name": "stdout",
          "output_type": "stream",
          "text": [
            "My array is \n",
            " [[ 0  1  2  3  4  5]\n",
            " [ 6  7  8  9 10 11]\n",
            " [12 13 14 15 16 17]]\n",
            "\n",
            "Subarray 1 is \n",
            "[[0 1 2 3 4 5]]\n",
            "\n",
            "Subarray 2 is \n",
            "[[ 6  7  8  9 10 11]]\n",
            "\n",
            "Subarray 3 is \n",
            "[[12 13 14 15 16 17]]\n"
          ]
        }
      ],
      "source": [
        "# Creating Multiple Splits with vsplit\n",
        "num_arr= np.arange(18).reshape((3, 6))\n",
        "print(f\"My array is \\n {num_arr}\")\n",
        "\n",
        "# splitting above array into 3 subarrays\n",
        "for i, subarray in enumerate(np.vsplit(num_arr, 3)):  \n",
        "  print(f'\\nSubarray {i+1} is \\n{subarray}')"
      ]
    },
    {
      "cell_type": "code",
      "execution_count": null,
      "metadata": {
        "id": "dn-Sr13D_NHH"
      },
      "outputs": [],
      "source": []
    },
    {
      "cell_type": "markdown",
      "metadata": {
        "id": "63S0lu5Lxlay"
      },
      "source": [
        "### <font color = 'dodgerblue'>  **hsplit**\n",
        "Always splits arrays along second axis (i.e columns for 2 dimensional array)\n",
        "\n",
        "  Syntax :\n",
        "  ```\n",
        "  numpy.hsplit(array,indices_or_sections)\n",
        "  ```\n",
        " where, **indices/sections** are used to mention the number of splits."
      ]
    },
    {
      "cell_type": "code",
      "execution_count": 82,
      "metadata": {
        "colab": {
          "base_uri": "https://localhost:8080/"
        },
        "collapsed": true,
        "id": "4tqAJILTZ_R5",
        "jupyter": {
          "outputs_hidden": true,
          "source_hidden": true
        },
        "outputId": "f42ae461-e5b9-40d1-b6b6-a867f8020bb7"
      },
      "outputs": [
        {
          "name": "stdout",
          "output_type": "stream",
          "text": [
            "My array is \n",
            " [[ 0  1  2  3  4  5]\n",
            " [ 6  7  8  9 10 11]\n",
            " [12 13 14 15 16 17]]\n",
            "\n",
            "When we split at indices 2, subarray 1 is \n",
            "[[ 0  1]\n",
            " [ 6  7]\n",
            " [12 13]]\n",
            "\n",
            "When we split at indices 2, subarray 2 is \n",
            "[[ 2  3  4  5]\n",
            " [ 8  9 10 11]\n",
            " [14 15 16 17]]\n",
            "\n",
            "When we split at indices 4, subarray 1 is \n",
            "[[ 0  1  2  3]\n",
            " [ 6  7  8  9]\n",
            " [12 13 14 15]]\n",
            "\n",
            "When we split at indices 4, subarray 2 is \n",
            "[[ 4  5]\n",
            " [10 11]\n",
            " [16 17]]\n"
          ]
        }
      ],
      "source": [
        "# splitting of an array using hsplit() method\n",
        "num_arr= np.arange(18).reshape((3,6))\n",
        "print(f\"My array is \\n {num_arr}\")\n",
        "\n",
        "# splitting above array into 2 sub arrays, we will split at indices 2\n",
        "for i, subarray in enumerate(np.hsplit(num_arr,[2])):  \n",
        "  print(f'\\nWhen we split at indices 2, subarray {i+1} is \\n{subarray}')\n",
        "\n",
        "# let us try splitting at indices 4\n",
        "# splitting above array into 2 sub arrays, we will split at indices 4\n",
        "for i, subarray in enumerate(np.hsplit(num_arr,[4])):  \n",
        "  print(f'\\nWhen we split at indices 4, subarray {i+1} is \\n{subarray}')"
      ]
    },
    {
      "cell_type": "code",
      "execution_count": 83,
      "metadata": {
        "colab": {
          "base_uri": "https://localhost:8080/"
        },
        "collapsed": true,
        "id": "QA6svr0wsEPv",
        "jupyter": {
          "outputs_hidden": true,
          "source_hidden": true
        },
        "outputId": "9df88a76-9bcf-4cb0-87bd-f9c5a3a92a0c"
      },
      "outputs": [
        {
          "name": "stdout",
          "output_type": "stream",
          "text": [
            "My array is \n",
            " [[ 0  1  2]\n",
            " [ 3  4  5]\n",
            " [ 6  7  8]\n",
            " [ 9 10 11]]\n",
            "\n",
            "Subarray 1 is \n",
            "[[0]\n",
            " [3]\n",
            " [6]\n",
            " [9]]\n",
            "\n",
            "Subarray 2 is \n",
            "[[ 1]\n",
            " [ 4]\n",
            " [ 7]\n",
            " [10]]\n",
            "\n",
            "Subarray 3 is \n",
            "[[ 2]\n",
            " [ 5]\n",
            " [ 8]\n",
            " [11]]\n"
          ]
        }
      ],
      "source": [
        "# Creating Multiple Splits with hsplit\n",
        "num_arr= np.arange(12).reshape((4,3))\n",
        "print(f\"My array is \\n {num_arr}\")\n",
        "\n",
        "# splitting above array into 3 subarrays\n",
        "for i, subarray in enumerate(np.hsplit(num_arr,3)):  \n",
        "  print(f'\\nSubarray {i+1} is \\n{subarray}')"
      ]
    },
    {
      "cell_type": "markdown",
      "metadata": {
        "id": "qJNHO5m1u0mQ"
      },
      "source": [
        "### <font color = 'dodgerblue'> **split()** method : \n",
        "   * It is used to split the array into sub- arrays along any specified dimension(axis).\n",
        "\n",
        "  **Syntax** :\n",
        "  ```\n",
        "  numpy.split(array, indices_or_sections, axis)\n",
        "  ```\n",
        "  where, **indices/sections** are used to mention the number of splits."
      ]
    },
    {
      "cell_type": "code",
      "execution_count": 84,
      "metadata": {
        "colab": {
          "base_uri": "https://localhost:8080/"
        },
        "id": "Oj_LMWG_XJLE",
        "jupyter": {
          "outputs_hidden": true,
          "source_hidden": true
        },
        "outputId": "9198d9ec-8bb6-4120-b7ea-2a9257dc4514"
      },
      "outputs": [
        {
          "name": "stdout",
          "output_type": "stream",
          "text": [
            "My array is \n",
            " [[0 1]\n",
            " [2 3]\n",
            " [4 5]\n",
            " [6 7]\n",
            " [8 9]]\n",
            "\n",
            "Subarray 1 is [[0 1]]\n",
            "\n",
            "Subarray 2 is [[2 3]]\n",
            "\n",
            "Subarray 3 is [[4 5]]\n",
            "\n",
            "Subarray 4 is [[6 7]]\n",
            "\n",
            "Subarray 5 is [[8 9]]\n",
            "\n"
          ]
        }
      ],
      "source": [
        "# splitting of an array using split() method\n",
        "num_arr = np.arange(10).reshape((5,2))\n",
        "print(f\"My array is \\n {num_arr}\\n\")\n",
        "\n",
        "# splitting above array into 5 sub-arrays\n",
        "\n",
        "for i, subarray in enumerate(np.split(num_arr, 5, axis = 0)):  \n",
        "  print(f'Subarray {i+1} is {subarray}\\n')"
      ]
    },
    {
      "cell_type": "markdown",
      "metadata": {
        "id": "smSmSl10MefB"
      },
      "source": [
        "# <font color = 'dodgerblue'> **Numpy's Universal functionas (ufuncs)**\n",
        "\n",
        "* ufuncs stands for \"Universal Functions\".  They are vectorized wrappers of simple functions. \n",
        "* There are two types of UFuncs, they are **unary ufuncs** (operate on a single input) and **binary Ufuncs** (operate on two inputs)."
      ]
    },
    {
      "cell_type": "markdown",
      "metadata": {
        "id": "dxB0ZpxdV6Zt"
      },
      "source": [
        "## <font color = 'dodgerblue'>  **binary ufuncs**\n",
        "* This include all arithmetic operators (+, -, *, /, //, **, etc.) and some other functions (add, greater, maximum etc,). They apply elementwise on two ndarrays. These can also be used when arrays have different shape (see Broadcasting).\n",
        "\n",
        "\n"
      ]
    },
    {
      "cell_type": "code",
      "execution_count": 85,
      "metadata": {
        "colab": {
          "base_uri": "https://localhost:8080/"
        },
        "collapsed": true,
        "id": "FszLyX1scujz",
        "jupyter": {
          "outputs_hidden": true,
          "source_hidden": true
        },
        "outputId": "0831bb5a-90dc-4abb-a042-a5c2cd5c9d18"
      },
      "outputs": [
        {
          "name": "stdout",
          "output_type": "stream",
          "text": [
            "my_num1 + my_num2  = [12 23 34 47 17]\n",
            "my_num1 - my_num2  = [ 8 17 26 43 13]\n",
            "my_num1 * my_num2  = [ 20  60 120  90  30]\n",
            "my_num1 / my_num2  = [ 5.    6.67  7.5  22.5   7.5 ]\n",
            "my_num1 // my_num2  = [ 5  6  7 22  7]\n",
            "my_num1 % my_num2  = [0 2 2 1 1]\n",
            "my_num1 ** my_num2 = [   100   8000 810000   2025    225]\n"
          ]
        }
      ],
      "source": [
        "my_num1 = np.array([10, 20, 30, 45, 15])\n",
        "my_num2 = np.array([2, 3, 4, 2, 2])\n",
        "my_sum = np.add(my_num1, my_num2)\n",
        "\n",
        "print(\"my_num1 + my_num2  =\", my_num1 + my_num2)\n",
        "print(\"my_num1 - my_num2  =\", my_num1 - my_num2)\n",
        "print(\"my_num1 * my_num2  =\", my_num1 * my_num2)\n",
        "print(\"my_num1 / my_num2  =\", my_num1 / my_num2)\n",
        "print(\"my_num1 // my_num2  =\", my_num1 // my_num2) # Floor division e.g. 6//4 =1 \n",
        "print(\"my_num1 % my_num2  =\", my_num1 % my_num2) # Modulus/remainder\n",
        "print(\"my_num1 ** my_num2 =\", my_num1 ** my_num2) # Exponential/Power\n"
      ]
    },
    {
      "cell_type": "code",
      "execution_count": 86,
      "metadata": {
        "colab": {
          "base_uri": "https://localhost:8080/"
        },
        "collapsed": true,
        "id": "aTb-ij7y4II2",
        "jupyter": {
          "outputs_hidden": true,
          "source_hidden": true
        },
        "outputId": "3b7d6d07-bf01-4aa1-c68e-3e79946ff34b"
      },
      "outputs": [
        {
          "data": {
            "text/plain": [
              "array([12, 23, 34, 47, 17])"
            ]
          },
          "execution_count": 86,
          "metadata": {},
          "output_type": "execute_result"
        }
      ],
      "source": [
        "np.add(my_num1, my_num2) # equivalent to my_num1 + my_num2"
      ]
    },
    {
      "cell_type": "code",
      "execution_count": 87,
      "metadata": {
        "colab": {
          "base_uri": "https://localhost:8080/"
        },
        "collapsed": true,
        "id": "zTLbDZOe4SIo",
        "jupyter": {
          "outputs_hidden": true,
          "source_hidden": true
        },
        "outputId": "8632e28c-cc53-40ee-cd68-eba2f75712ce"
      },
      "outputs": [
        {
          "data": {
            "text/plain": [
              "array([ True,  True,  True,  True,  True])"
            ]
          },
          "execution_count": 87,
          "metadata": {},
          "output_type": "execute_result"
        }
      ],
      "source": [
        "np.greater(my_num1, my_num2) # equivalent to my_num1 > my_num2"
      ]
    },
    {
      "cell_type": "code",
      "execution_count": 88,
      "metadata": {
        "colab": {
          "base_uri": "https://localhost:8080/"
        },
        "collapsed": true,
        "id": "NJ8KoUFO4oRr",
        "jupyter": {
          "outputs_hidden": true,
          "source_hidden": true
        },
        "outputId": "2a0ee0ec-5558-42e7-e3f0-43d690bc8b1f"
      },
      "outputs": [
        {
          "data": {
            "text/plain": [
              "array([10, 20, 30, 45, 15])"
            ]
          },
          "execution_count": 88,
          "metadata": {},
          "output_type": "execute_result"
        }
      ],
      "source": [
        "np.maximum(my_num1, my_num2)"
      ]
    },
    {
      "cell_type": "markdown",
      "metadata": {
        "id": "ck9YXzyK4uUo"
      },
      "source": [
        "## <font color = 'dodgerblue'>  **unary ufuncs**\n",
        "They are fast elementwise functions that apply to all the elements of a single array. For example, when we apply  square function to an array, the finction returns a new ndarray where all the elemnets are squared."
      ]
    },
    {
      "cell_type": "code",
      "execution_count": 89,
      "metadata": {
        "colab": {
          "base_uri": "https://localhost:8080/"
        },
        "collapsed": true,
        "id": "eabxCoqX87du",
        "jupyter": {
          "outputs_hidden": true,
          "source_hidden": true
        },
        "outputId": "d6e5b0e1-8f62-40f6-a9d1-054358ba2fd0"
      },
      "outputs": [
        {
          "name": "stdout",
          "output_type": "stream",
          "text": [
            "Original ndarray\n",
            "[[-3.26  2.99  0.85]\n",
            " [-4.52 -1.74  4.95]]\n",
            "\n",
            "absolute\n",
            " [[3.26 2.99 0.85]\n",
            " [4.52 1.74 4.95]]\n",
            "\n",
            "sqrt\n",
            " [[ nan 1.73 0.92]\n",
            " [ nan  nan 2.23]]\n",
            "\n",
            "log\n",
            "[[  nan  1.1  -0.16]\n",
            " [  nan   nan  1.6 ]]\n",
            "\n",
            "sign \n",
            "[[-1.  1.  1.]\n",
            " [-1. -1.  1.]]\n",
            "\n",
            "trignometric function cos \n",
            ":[[-0.99 -0.99  0.66]\n",
            " [-0.19 -0.16  0.24]]\n",
            "\n",
            "ceil\n",
            "[[-3.  3.  1.]\n",
            " [-4. -1.  5.]]\n"
          ]
        },
        {
          "name": "stderr",
          "output_type": "stream",
          "text": [
            "<ipython-input-89-6195dae49106>:5: RuntimeWarning: invalid value encountered in sqrt\n",
            "  print(f'\\nsqrt\\n {np.sqrt(my_num3)}')\n",
            "<ipython-input-89-6195dae49106>:6: RuntimeWarning: invalid value encountered in log\n",
            "  print(f'\\nlog\\n{np.log(my_num3)}')\n"
          ]
        }
      ],
      "source": [
        "np.random.seed(123)\n",
        "my_num3 = np.random.normal(0, 3, (2,3))\n",
        "print(\"Original ndarray\", my_num3, sep ='\\n')\n",
        "print(f'\\nabsolute\\n {np.abs(my_num3)}')\n",
        "print(f'\\nsqrt\\n {np.sqrt(my_num3)}')\n",
        "print(f'\\nlog\\n{np.log(my_num3)}')\n",
        "print(f'\\nsign \\n{np.sign(my_num3)}')\n",
        "print(f'\\ntrignometric function cos \\n:{np.cos(my_num3)}')\n",
        "print(f'\\nceil\\n{np.ceil(my_num3)}') # The ceil of the scalar x is the smallest integer i, such that i >= x.    "
      ]
    },
    {
      "cell_type": "markdown",
      "metadata": {
        "id": "GERQPhtREPfp"
      },
      "source": [
        "# <font color = 'dodgerblue'> **Broadcasting**\n",
        "The way NumPy handles arrays with different shapes while performing arithmetic operations is known as broadcasting. The smaller array is \"broadcast\" across the larger array, subject to specific conditions.\n",
        "\n",
        "* The following image describes how a 2 dimensional tensor will be added to a 1 dimensional tensor\n",
        "<img src=\"https://drive.google.com/uc?export=view&id=1QG2GO1owGpyXbcugJFVFGb4o_buV4s3j\" width=\"600\"/>"
      ]
    },
    {
      "cell_type": "markdown",
      "metadata": {
        "id": "AAZedm-F6VZJ"
      },
      "source": [
        "## <font color = 'dodgerblue'> **Rules of broadcasting**</font>\n",
        "1. If two arrays differ in their sizes (i.e they have different number of dimensions), the array with the smaller dimension can be appended with '1' to the left in its shape. In other words, the array is transformed to a two-dimensional array.\n",
        "2. Again if the shape of the array does not match, then the transformed array (which has shape equal to 1) will be stretched out to match the shape of the array of higher dimension.\n",
        "We can check the above figure for this.\n",
        "2. When operating on two arrays, NumPy compares their shapes \n",
        " element-wise. It starts with the trailing dimensions and works its way forward. Two dimensions are compatible when\n",
        "\n",
        "   * They are equal, or\n",
        "\n",
        "   * One of them is 1\n",
        "2. If any dimension of the arrays does not match and  neither is equal to 1, then we get an error.\n",
        "\n"
      ]
    },
    {
      "cell_type": "markdown",
      "metadata": {
        "id": "UkNwvqBXwCBW"
      },
      "source": [
        "### <font color = 'dodgerblue'> **Implementation of Broadcasting**"
      ]
    },
    {
      "cell_type": "code",
      "execution_count": 90,
      "metadata": {
        "colab": {
          "base_uri": "https://localhost:8080/"
        },
        "collapsed": true,
        "id": "hx_92rj3tAKv",
        "jupyter": {
          "outputs_hidden": true,
          "source_hidden": true
        },
        "outputId": "c7ba1b40-bbff-49cd-89b9-7ff575869332"
      },
      "outputs": [
        {
          "name": "stdout",
          "output_type": "stream",
          "text": [
            "Shape of array A is (3, 3)\n",
            "Shape of array B is (3,)\n"
          ]
        }
      ],
      "source": [
        "# Consider 2 matrices A and B\n",
        "A = np.array([[12,16,14],[13,17,13],[14,18,12]])\n",
        "B = np.array([1,2,3])\n",
        "\n",
        "# Checking the shape of both matrices\n",
        "print(f\"Shape of array A is {A.shape}\")\n",
        "print(f\"Shape of array B is {B.shape}\")"
      ]
    },
    {
      "cell_type": "markdown",
      "metadata": {
        "id": "5sCE2mqgwXfe"
      },
      "source": [
        "B has one dimension and A has two dimensions. Numpy will first prepend 1 to the dimension of A so that it also has same number of dimensions."
      ]
    },
    {
      "cell_type": "code",
      "execution_count": 91,
      "metadata": {
        "colab": {
          "base_uri": "https://localhost:8080/"
        },
        "collapsed": true,
        "id": "DMRE-IQ7uGW2",
        "jupyter": {
          "outputs_hidden": true,
          "source_hidden": true
        },
        "outputId": "d139d9c4-edcd-4c25-e6b4-6c9dd4511dc1"
      },
      "outputs": [
        {
          "name": "stdout",
          "output_type": "stream",
          "text": [
            "Shape of matrix B is (1, 3)\n"
          ]
        },
        {
          "data": {
            "text/plain": [
              "array([[1, 2, 3]])"
            ]
          },
          "execution_count": 91,
          "metadata": {},
          "output_type": "execute_result"
        }
      ],
      "source": [
        "# Reshaping matrix B to 2 dimensional array\n",
        "B_new = B.reshape(1,-1)\n",
        "print(f\"Shape of matrix B is {B_new.shape}\")\n",
        "B_new"
      ]
    },
    {
      "cell_type": "markdown",
      "metadata": {
        "id": "NquArydtxD2g"
      },
      "source": [
        "After reshaping, the shape of B still dosen't match to A. Now it will stretch the tensor with smaller dimension so that it has the same shape as the tensor with higher dimensions."
      ]
    },
    {
      "cell_type": "code",
      "execution_count": 92,
      "metadata": {
        "colab": {
          "base_uri": "https://localhost:8080/"
        },
        "collapsed": true,
        "id": "eicXVxGJvIeB",
        "jupyter": {
          "outputs_hidden": true,
          "source_hidden": true
        },
        "outputId": "be309e6c-b397-480e-cee4-4b5a67303684"
      },
      "outputs": [
        {
          "name": "stdout",
          "output_type": "stream",
          "text": [
            "Shape of stretched matrix B is (3, 3)\n"
          ]
        },
        {
          "data": {
            "text/plain": [
              "array([[1, 2, 3],\n",
              "       [1, 2, 3],\n",
              "       [1, 2, 3]])"
            ]
          },
          "execution_count": 92,
          "metadata": {},
          "output_type": "execute_result"
        }
      ],
      "source": [
        "# Stretching matrix B along the rows\n",
        "B_stretched = B_new.repeat(3, axis=0)\n",
        "print(f\"Shape of stretched matrix B is {B_stretched.shape}\")\n",
        "B_stretched"
      ]
    },
    {
      "cell_type": "markdown",
      "metadata": {
        "id": "2nVWTEfqxxfj"
      },
      "source": [
        "Finally, after stretching matrix B thrice along the rows, the shape becomes equal to that of matrix A. Let's add both the matrices and check the result:"
      ]
    },
    {
      "cell_type": "code",
      "execution_count": 93,
      "metadata": {
        "colab": {
          "base_uri": "https://localhost:8080/"
        },
        "collapsed": true,
        "id": "ieAjyokpvgoK",
        "jupyter": {
          "outputs_hidden": true,
          "source_hidden": true
        },
        "outputId": "bafe2491-c9cd-4fea-9dbe-da0d91148069"
      },
      "outputs": [
        {
          "data": {
            "text/plain": [
              "array([[13, 18, 17],\n",
              "       [14, 19, 16],\n",
              "       [15, 20, 15]])"
            ]
          },
          "execution_count": 93,
          "metadata": {},
          "output_type": "execute_result"
        }
      ],
      "source": [
        "np.add(A,B_stretched)"
      ]
    },
    {
      "cell_type": "markdown",
      "metadata": {
        "id": "PrcmX_XxyICX"
      },
      "source": [
        "Comparing the result of addition of matrix A and stretched matrix B with original matrices A and B:"
      ]
    },
    {
      "cell_type": "code",
      "execution_count": 94,
      "metadata": {
        "colab": {
          "base_uri": "https://localhost:8080/"
        },
        "collapsed": true,
        "id": "JDZl6IeyvqRG",
        "jupyter": {
          "outputs_hidden": true,
          "source_hidden": true
        },
        "outputId": "89bd8ba0-0a0e-47a2-afc5-aafabf9777e0"
      },
      "outputs": [
        {
          "data": {
            "text/plain": [
              "array([[13, 18, 17],\n",
              "       [14, 19, 16],\n",
              "       [15, 20, 15]])"
            ]
          },
          "execution_count": 94,
          "metadata": {},
          "output_type": "execute_result"
        }
      ],
      "source": [
        "np.add(A,B)"
      ]
    },
    {
      "cell_type": "markdown",
      "metadata": {
        "id": "AfV37ExGyWxY"
      },
      "source": [
        "We can see that both the results match. This example shows what numpy does under the hood to do mathematical operations on arrays of different shapes. So broadcasting is an efficient way of performing operations on arrays of unequal sizes"
      ]
    },
    {
      "cell_type": "markdown",
      "metadata": {
        "id": "FF-UV_WezBlN"
      },
      "source": [
        "### <font color = 'dodgerblue'> **Broadcasting Examples**"
      ]
    },
    {
      "cell_type": "markdown",
      "metadata": {
        "id": "MdN46fETzpJF"
      },
      "source": [
        "Consider the following example :\n",
        " \n",
        " $$A=\\begin{bmatrix} 1 & 2 & 4 \\\\ 4 & 1 & 3\\end{bmatrix}$$\n",
        "\n",
        " $$B=\\begin{bmatrix} 1 & 2 & 4 \\end{bmatrix}$$\n",
        "\n",
        "*  We can observe that shape of A is(2, 3) and shape of B is (3, ) [if there is a single row, we can mention the shape by using number of columns separated by a comma(,)]\n",
        "* Here B is an array with fewer dimensions.\n",
        "* By rule 1, Numpy will first prepend 1 to the dimension of B so that it also has same number of dimensions.:\n",
        "     \n",
        "    So, B shape is (1, 3) \n",
        "* Now, let's check the shape again :\n",
        "   \n",
        "     A = (2, 3) and B = (1, 3)\n",
        "* We can see that all the corresponding dimensions of two arrays are either of the same size or one of the dimension is 1. Hence the arrays are broadcastable and we can do mathamatical opeartions on these arrays."
      ]
    },
    {
      "cell_type": "code",
      "execution_count": 95,
      "metadata": {
        "colab": {
          "base_uri": "https://localhost:8080/"
        },
        "collapsed": true,
        "id": "5XpDVWNFZk39",
        "jupyter": {
          "outputs_hidden": true,
          "source_hidden": true
        },
        "outputId": "47294adc-475c-4a0d-b16f-cc24d71a0aca"
      },
      "outputs": [
        {
          "name": "stdout",
          "output_type": "stream",
          "text": [
            "shape of A is (2, 3)\n",
            "shape of B is (3,)\n"
          ]
        }
      ],
      "source": [
        "A = np.array([[1, 2, 4], [4, 1, 3]])\n",
        "B = np.array([1, 2, 4])\n",
        "print(f'shape of A is {A.shape}')\n",
        "print(f'shape of B is {B.shape}')"
      ]
    },
    {
      "cell_type": "code",
      "execution_count": 96,
      "metadata": {
        "colab": {
          "base_uri": "https://localhost:8080/"
        },
        "collapsed": true,
        "id": "Bo5Xb3TirejK",
        "jupyter": {
          "outputs_hidden": true,
          "source_hidden": true
        },
        "outputId": "b14d8cf0-a059-4708-8e15-873c295f704f"
      },
      "outputs": [
        {
          "data": {
            "text/plain": [
              "array([[ 1,  4, 16],\n",
              "       [ 4,  2, 12]])"
            ]
          },
          "execution_count": 96,
          "metadata": {},
          "output_type": "execute_result"
        }
      ],
      "source": [
        "# we can check that the arrays are broadcastable by doing arithmatic operations\n",
        "A * B"
      ]
    },
    {
      "cell_type": "markdown",
      "metadata": {
        "id": "MK3eQ5bscfZz"
      },
      "source": [
        "QUIZ: Consider following two arrays:\n",
        "- arr1 = np.arange(4).reshape((4,1))\n",
        "- arr2 = np.arange(3)\n",
        "\n",
        "1. Can we take the product of these two arrays?\n",
        "2.  What is the shape of the final array?"
      ]
    },
    {
      "cell_type": "code",
      "execution_count": 97,
      "metadata": {
        "colab": {
          "base_uri": "https://localhost:8080/"
        },
        "collapsed": true,
        "id": "pzCfKLbJKth7",
        "jupyter": {
          "outputs_hidden": true,
          "source_hidden": true
        },
        "outputId": "668e0d31-67e8-4303-e94d-b53fa2b1b608"
      },
      "outputs": [
        {
          "name": "stdout",
          "output_type": "stream",
          "text": [
            "array 1 is :\n",
            " [[0]\n",
            " [1]\n",
            " [2]\n",
            " [3]]\n",
            "array 2 is : \n",
            " [0 1 2]\n",
            "The shape of array 1 is :\n",
            " (4, 1)\n",
            "The shape of array 2 is :\n",
            " (3,)\n"
          ]
        }
      ],
      "source": [
        "# Create arrays\n",
        "arr1 = np.arange(4).reshape((4,1))\n",
        "arr2 = np.arange(3)\n",
        "print(f\"array 1 is :\\n {arr1}\")\n",
        "print(f\"array 2 is : \\n {arr2}\")\n",
        "\n",
        "#check the shape of the arrays\n",
        "print(f\"The shape of array 1 is :\\n {arr1.shape}\")\n",
        "print(f\"The shape of array 2 is :\\n {arr2.shape}\")\n"
      ]
    },
    {
      "cell_type": "code",
      "execution_count": 98,
      "metadata": {
        "colab": {
          "base_uri": "https://localhost:8080/"
        },
        "collapsed": true,
        "id": "aZJppKHL6GUY",
        "jupyter": {
          "outputs_hidden": true,
          "source_hidden": true
        },
        "outputId": "cb25a421-aecb-467c-e14b-7dde0355d225"
      },
      "outputs": [
        {
          "name": "stdout",
          "output_type": "stream",
          "text": [
            "The product of the arrays is :\n",
            " [[0 0 0]\n",
            " [0 1 2]\n",
            " [0 2 4]\n",
            " [0 3 6]]\n",
            "The shape of the new array prod is : (4, 3)\n"
          ]
        }
      ],
      "source": [
        "# array2 has fewer number of dimensions\n",
        "# We can prepend 1 on the left side , the shape of array 2 will be (1, 3)\n",
        "# If we compare the arrays, we can see that they follow broadcasting rules.\n",
        "# Hence we can take product.\n",
        "\n",
        "prod= np.multiply(arr1,arr2)\n",
        "print(f\"The product of the arrays is :\\n {prod}\")\n",
        "\n",
        "# The shape of the new array will be (4,3)\n",
        "print(f\"The shape of the new array prod is : {prod.shape}\")"
      ]
    },
    {
      "cell_type": "markdown",
      "metadata": {
        "id": "Af2iZBN_6PoH"
      },
      "source": [
        "<font color = 'red'> **In summary:** </font> <font color = 'aqua'> Two arrays are “broadcastable” if the following rules hold:\n",
        "\n",
        "When iterating over the dimension sizes, starting at the trailing dimension, the dimension sizes must either be equal or one of them should be 1. \n",
        "Else, they are not broadcastable.</font>"
      ]
    },
    {
      "cell_type": "markdown",
      "metadata": {
        "id": "T8ncWoKNYvwF"
      },
      "source": [
        "# <font color = 'dodgerblue'> **Aggregate functions**\n",
        "\n",
        "* These are ndarray methods that compute the aggregate value (like mean, min, sum, product, variance, any, all) of all the elements of ndarray or aggregate value along a particulat axis (for example for 2 d- dimensional ndarrays we can compute the mean along rows or columns).\n",
        "\n",
        "\n",
        "\n"
      ]
    },
    {
      "cell_type": "markdown",
      "metadata": {
        "id": "HigQqNALBzDT"
      },
      "source": [
        "## <font color = 'dodgerblue'> **aggregate all values**"
      ]
    },
    {
      "cell_type": "code",
      "execution_count": 99,
      "metadata": {
        "colab": {
          "base_uri": "https://localhost:8080/"
        },
        "collapsed": true,
        "id": "fjfNCwSj1bOr",
        "jupyter": {
          "outputs_hidden": true,
          "source_hidden": true
        },
        "outputId": "b1eceb26-3f74-413a-d629-f4423d68e65d"
      },
      "outputs": [
        {
          "name": "stdout",
          "output_type": "stream",
          "text": [
            "original array :\n",
            "  [[-1  2  7]\n",
            " [15 36 48]] \n",
            "\n",
            "the sum of all elements of the arrays is : 107\n",
            "the product of all elements of  arrays is : -362880\n",
            "The minimum number in the array is : -1\n",
            "the variance of the array is : 328.47222222222223\n",
            "check if any value of array is greater than 0: True\n",
            "check if all the values of array are greater than 0: False\n"
          ]
        }
      ],
      "source": [
        "array1 = np.array([[-1, 2, 7], [15, 36, 48]])\n",
        "print('original array :\\n ', array1, '\\n')\n",
        "print(f\"the sum of all elements of the arrays is : {np.sum(array1)}\")\n",
        "print(f\"the product of all elements of  arrays is : {np.product(array1)}\")\n",
        "print(f\"The minimum number in the array is : {np.min(array1)}\")\n",
        "print(f\"the variance of the array is : {np.var(array1)}\")\n",
        "print(f\"check if any value of array is greater than 0: {np.any(array1>0)}\")\n",
        "print(f\"check if all the values of array are greater than 0: {np.all(array1>0)}\")"
      ]
    },
    {
      "cell_type": "markdown",
      "metadata": {
        "id": "BCjOyk3oB9O5"
      },
      "source": [
        "## <font color = 'dodgerblue'> **aggregate along a dimension**"
      ]
    },
    {
      "cell_type": "code",
      "execution_count": 100,
      "metadata": {
        "colab": {
          "base_uri": "https://localhost:8080/"
        },
        "collapsed": true,
        "id": "wjWKbmUEXbTB",
        "jupyter": {
          "outputs_hidden": true,
          "source_hidden": true
        },
        "outputId": "9dde9bf4-a421-44ed-fdd4-c8840282ab60"
      },
      "outputs": [
        {
          "name": "stdout",
          "output_type": "stream",
          "text": [
            "column sum for each row: [ 8 99]\n",
            "Shape of the original array is (2, 3)\n",
            "the shape of array after summation : (2,)\n"
          ]
        }
      ],
      "source": [
        "# For multidimensional array, we can aggrgate along a specific dimension as well\n",
        "\n",
        "column_sum = np.sum(array1, axis = 1) # column sum for each row\n",
        "print(f\"column sum for each row: {column_sum}\")\n",
        "print(f'Shape of the original array is {array1.shape}')\n",
        "print(f\"the shape of array after summation : {column_sum.shape}\")"
      ]
    },
    {
      "cell_type": "markdown",
      "metadata": {
        "id": "lroqh84enDkU"
      },
      "source": [
        "Let us say we want to divide all the elements of a row with the column sum for that row. The shape of original array (2, 3) and the column sum (2,) are not compatible (we cannot broadcast these two arrays). If we try this operation it will give us an error."
      ]
    },
    {
      "cell_type": "code",
      "execution_count": 101,
      "metadata": {
        "colab": {
          "base_uri": "https://localhost:8080/",
          "height": 165
        },
        "id": "IuVdTuLarRBC",
        "jupyter": {
          "outputs_hidden": true,
          "source_hidden": true
        },
        "outputId": "03f0d37a-915d-402e-825e-d9e69a6f4bcb"
      },
      "outputs": [
        {
          "ename": "ValueError",
          "evalue": "ignored",
          "output_type": "error",
          "traceback": [
            "\u001b[0;31m---------------------------------------------------------------------------\u001b[0m",
            "\u001b[0;31mValueError\u001b[0m                                Traceback (most recent call last)",
            "\u001b[0;32m<ipython-input-101-d7069708d7b4>\u001b[0m in \u001b[0;36m<module>\u001b[0;34m\u001b[0m\n\u001b[0;32m----> 1\u001b[0;31m \u001b[0mnormalized_array1\u001b[0m\u001b[0;34m=\u001b[0m \u001b[0marray1\u001b[0m\u001b[0;34m/\u001b[0m\u001b[0mcolumn_sum\u001b[0m\u001b[0;34m\u001b[0m\u001b[0;34m\u001b[0m\u001b[0m\n\u001b[0m",
            "\u001b[0;31mValueError\u001b[0m: operands could not be broadcast together with shapes (2,3) (2,) "
          ]
        }
      ],
      "source": [
        "normalized_array1= array1/column_sum"
      ]
    },
    {
      "cell_type": "markdown",
      "metadata": {
        "id": "kNuSt9pIZn0V"
      },
      "source": [
        "## <font color = 'dodgerblue'> **keepdims**"
      ]
    },
    {
      "cell_type": "markdown",
      "metadata": {
        "id": "O3OT0UvQr0NA"
      },
      "source": [
        "In the above example the number of dimensions reduces after aggregation. If we want to keep the number of dimesnions same as as original array, we can pass the argument keepdims= True."
      ]
    },
    {
      "cell_type": "code",
      "execution_count": 102,
      "metadata": {
        "colab": {
          "base_uri": "https://localhost:8080/"
        },
        "collapsed": true,
        "id": "ANbIso2VYGWE",
        "jupyter": {
          "outputs_hidden": true,
          "source_hidden": true
        },
        "outputId": "a60edfa1-504f-4271-9ac0-f33807ea492e"
      },
      "outputs": [
        {
          "name": "stdout",
          "output_type": "stream",
          "text": [
            "column sum for each row:\n",
            " [[ 8]\n",
            " [99]]\n",
            "Shape of the original array is (2, 3)\n",
            "the shape of array after summation : (2, 1)\n"
          ]
        }
      ],
      "source": [
        "# keep number of dimensions same by passing keepdims = True\n",
        "column_sum = np.sum(array1, axis = 1, keepdims=True) # column sum for each row\n",
        "print(f\"column sum for each row:\\n {column_sum}\")\n",
        "print(f'Shape of the original array is {array1.shape}')\n",
        "print(f\"the shape of array after summation : {column_sum.shape}\")"
      ]
    },
    {
      "cell_type": "markdown",
      "metadata": {
        "id": "ZlfNNC29s50e"
      },
      "source": [
        "We can see that now the shapes of the original array and column sum are broadcastable."
      ]
    },
    {
      "cell_type": "code",
      "execution_count": 103,
      "metadata": {
        "colab": {
          "base_uri": "https://localhost:8080/"
        },
        "collapsed": true,
        "id": "i86p8aZ2tHxp",
        "jupyter": {
          "outputs_hidden": true,
          "source_hidden": true
        },
        "outputId": "97e892ec-0dcd-4d5e-f3c2-41281210a851"
      },
      "outputs": [
        {
          "name": "stdout",
          "output_type": "stream",
          "text": [
            "column sum for each row: [[ 8]\n",
            " [99]]\n",
            "original array: [[-1  2  7]\n",
            " [15 36 48]]\n",
            "normalized array: [[-0.12  0.25  0.88]\n",
            " [ 0.15  0.36  0.48]]\n"
          ]
        }
      ],
      "source": [
        "normalized_array1 = array1/column_sum\n",
        "print(f'column sum for each row: {column_sum}')\n",
        "print(f'original array: {array1}')\n",
        "print(f'normalized array: {normalized_array1}')"
      ]
    },
    {
      "cell_type": "markdown",
      "metadata": {
        "id": "6ty9YhgdZ3Xu"
      },
      "source": [
        "# <font color = 'dodgerblue'> **Matrix - 2 Dimensional arrays**\n",
        "* A matrix is a rectangular arrays of numbers, symbols, or expressions, arranged in rows and columns.\n",
        "* A matrix with $m$ rows and $n$ columns is called $\n",
        "m * n$ (or) $m$ by  $n$ matrix. Where $m$ and $n$ are called dimensions.\n",
        "* The following matrix is an example of $m$ by $n$ matrix ($m$ rows and $n$ columns )\n",
        "\\begin{bmatrix}\n",
        "x_{1,1} & x_{1,2} & \\cdots & x_{1,n} \\\\ x_{2,1} & x_{2,2}&\\cdots& x_{2,n}  \\\\\\vdots & \\vdots & \\ddots & \\vdots \\\\ x_{m,1} & x_{m,2} &\\cdots& x_{m,n} \\end{bmatrix}"
      ]
    },
    {
      "cell_type": "markdown",
      "metadata": {
        "id": "i8CXhxYlnz2u"
      },
      "source": [
        "## <font color = 'dodgerblue'> **Matrix addition**\n",
        "* Suppose we have two matrices and they are\n",
        "\n",
        "$\\boldsymbol{A} = \\begin{bmatrix}\n",
        "1 & 2 & 3\\\\5 & 6 & 4\\\\4 & 4 & 7\\end{bmatrix}$\n",
        "$\\boldsymbol{B} = \\begin{bmatrix}\n",
        "5& 7& 3\\\\8& 9 & 10\\\\4& 3 & 9\\end{bmatrix}$\n",
        "* We can find the **sum of matrices** simply by adding the corresponding entries in matrices $A$ and $B$.\n",
        "\n",
        "  Therefore, $A+B =  \\begin{bmatrix}\n",
        "  1+5 & 2+7 & 3+3\\\\5+8 & 6+9 & 4+10\\\\4+4 & 4+3 & 7+9\\end{bmatrix}$\n",
        "    \n",
        "  $=\\begin{bmatrix}\n",
        "  6 & 9 & 6\\\\13 & 15 & 14\\\\8 & 7 & 16\\end{bmatrix}$\n",
        "\n",
        "* In numpy, we can use **add()** method to perform addition of matrices."
      ]
    },
    {
      "cell_type": "code",
      "execution_count": 104,
      "metadata": {
        "colab": {
          "base_uri": "https://localhost:8080/"
        },
        "collapsed": true,
        "id": "YGWlph942iba",
        "jupyter": {
          "outputs_hidden": true,
          "source_hidden": true
        },
        "outputId": "64f0e630-3d19-455a-a893-b2258c3b98f9"
      },
      "outputs": [
        {
          "name": "stdout",
          "output_type": "stream",
          "text": [
            "The addition of two matrices A+B  is \n",
            " [[ 6  9  6]\n",
            " [13 15 14]\n",
            " [ 8  7 16]]\n"
          ]
        }
      ],
      "source": [
        "# Addition of matrices by using add() method\n",
        "A = np.array([[1, 2, 3], [5, 6, 4],[4, 4, 7]])\n",
        "B = np.array([[5, 7, 3], [8, 9, 10],[4, 3, 9]])\n",
        "print(f\"The addition of two matrices A+B  is \\n {np.add(A,B)}\")"
      ]
    },
    {
      "cell_type": "markdown",
      "metadata": {
        "id": "AkLMM2hyXn1X"
      },
      "source": [
        "## <font color = 'dodgerblue'> **Matrix Subtraction**\n",
        "* We can find the **difference between matrices** simply by subtracting the corresponding entries in matrices $A$ and $B$.\n",
        "* Let's consider the above two matrices $A$ and $B$.\n",
        "Therefore, $A-B =  \\begin{bmatrix}\n",
        "1-5 & 2-7 & 3-3\\\\5-8 & 6-9 &4-10\\\\4-4 & 4-3 & 7-9\\end{bmatrix}$\n",
        "$\\ =\\begin{bmatrix}\n",
        "-4 & -5 &  0\\\\-3 &-3 & -6\\\\  0 &  1 & -2\\end{bmatrix}$\n",
        "\n",
        "\n",
        "* In numpy, we can use **subtract()** method to subtract two matrices."
      ]
    },
    {
      "cell_type": "code",
      "execution_count": 105,
      "metadata": {
        "colab": {
          "base_uri": "https://localhost:8080/"
        },
        "collapsed": true,
        "id": "TTNzRw-T5weg",
        "jupyter": {
          "outputs_hidden": true,
          "source_hidden": true
        },
        "outputId": "d4306e31-d271-4507-9123-a31411a029ce"
      },
      "outputs": [
        {
          "name": "stdout",
          "output_type": "stream",
          "text": [
            "The difference between two matrices A-B  is \n",
            " [[-4 -5  0]\n",
            " [-3 -3 -6]\n",
            " [ 0  1 -2]]\n"
          ]
        }
      ],
      "source": [
        "#finding the difference between the two matrices by using subtract() method.\n",
        "A = np.array([[1, 2, 3], [5, 6, 4],[4, 4, 7]])\n",
        "B = np.array([[5, 7, 3], [8, 9, 10],[4, 3, 9]])\n",
        "print(f\"The difference between two matrices A-B  is \\n {np.subtract(A,B)}\")"
      ]
    },
    {
      "cell_type": "markdown",
      "metadata": {
        "id": "NiaZ7ucioBK9"
      },
      "source": [
        "## <font color = 'dodgerblue'> **Hadamard product**\n",
        "* Hadamard product of two vectors is very similar to matrix addition, elements corresponding to same row and columns of given vectors/matrices are multiplied together to form a new vector/matrix.\n",
        "* It is named after French Mathematician, **Jacques Hadamard**.\n",
        "\n",
        "* **Example :** If we have two matrices A and B. The size of $A$ = (2, 2) and $B$ = (2, 2) then the hadamard product of $A$, $B$ denoted as \n",
        "$A \\circ B$  will be of size (2, 2).\n",
        "\n",
        "\n",
        "$\\boldsymbol{A} = \\begin{bmatrix}\n",
        "1& 2 & 3\\\\5&  6 & 4\\end{bmatrix}$\n",
        "$\\boldsymbol{B} = \\begin{bmatrix}\n",
        "5& 7& 3\\\\8& 9 & 10\\end{bmatrix}$\n",
        "\n",
        "$\\\\(A \\circ B)$ = \n",
        "$\\begin{bmatrix}1×5 & 2×7 & 3×3\\\\5×8 & 6×9 & 4×10\\end{bmatrix}$ \n",
        "= $\\begin{bmatrix}5 & 14 & 9\\\\40 & 54 & 40\\end{bmatrix}$ \n",
        "\n",
        "* In numpy, we can use **multiply()** method or **operator *** to find the hadamard product.\n",
        "\n",
        "\n",
        "\n"
      ]
    },
    {
      "cell_type": "code",
      "execution_count": 106,
      "metadata": {
        "colab": {
          "base_uri": "https://localhost:8080/"
        },
        "collapsed": true,
        "id": "SLBj0LpeFpe0",
        "jupyter": {
          "outputs_hidden": true,
          "source_hidden": true
        },
        "outputId": "4ebfb4a6-1dfc-4a35-cecc-ddbdc9ca52e6"
      },
      "outputs": [
        {
          "name": "stdout",
          "output_type": "stream",
          "text": [
            "the  the matrice A is given as \n",
            " [[1 2 3]\n",
            " [5 6 4]] \n",
            "\n",
            "the  the matrice B is given as \n",
            " [[ 5  7  3]\n",
            " [ 8  9 10]] \n",
            "\n",
            "the hadamard product for the above two matrices is given as \n",
            " [[ 5 14  9]\n",
            " [40 54 40]] \n",
            "\n",
            "the hadamard product for the above two matrices is given as \n",
            " [[ 5 14  9]\n",
            " [40 54 40]]\n"
          ]
        }
      ],
      "source": [
        "#Let's create the above example matrices using numpy\n",
        "A = np.array([[1, 2, 3],[5, 6, 4]])\n",
        "B = np.array([[5, 7, 3],[8, 9, 10]])\n",
        "print(f\"the  the matrice A is given as \\n {A} \\n\")\n",
        "print(f\"the  the matrice B is given as \\n {B} \\n\")\n",
        "#the hadamard product for the above two matrices is given as follows :\n",
        "# We can see the element wise product for the two matrices\n",
        "print(f\"the hadamard product for the above two matrices is given as \\n {np.multiply(A,B)} \\n\")\n",
        "print(f\"the hadamard product for the above two matrices is given as \\n {A*B}\")"
      ]
    },
    {
      "cell_type": "markdown",
      "metadata": {
        "id": "Tvmy8UPgpIVa"
      },
      "source": [
        "## <font color = 'dodgerblue'> **Trace of a matrix**\n",
        "* In linear algebra, the trace of a square matrix A, denoted by  **tr(A)**\n",
        "* It is defined to be the sum of elements on the main diagonal (from the upper left to the lower right) of A.\n",
        "* **Example** :- **trace of matrix A** is given below :-\n",
        "\n",
        "$\\bf{A} =\n",
        "  \\begin{pmatrix}\n",
        "    a_{11} & a_{12} & a_{13} \\\\\n",
        "    a_{21} & a_{22} & a_{23} \\\\\n",
        "    a_{31} & a_{32} & a_{33}\n",
        "  \\end{pmatrix}$ \n",
        "  $= \\begin{pmatrix}\n",
        "    1 &  5 &  3 \\\\\n",
        "    11 &  10 &  7 \\\\\n",
        "     6 & 12 & -2\n",
        "  \\end{pmatrix}$\n",
        "\n",
        "  Then the trace of $A$ is given as :-\n",
        "\n",
        "  $\\operatorname{tr}({A}) = \\sum_{i=1}^{3} a_{ii} = a_{11} + a_{22} + a_{33} = 1 + 10 + (-2) = 9$\n",
        "\n",
        "* In numpy, we can find the trace of a matrix by using trace() method."
      ]
    },
    {
      "cell_type": "code",
      "execution_count": 107,
      "metadata": {
        "collapsed": true,
        "id": "X665b5s0HiNG",
        "jupyter": {
          "outputs_hidden": true,
          "source_hidden": true
        }
      },
      "outputs": [],
      "source": [
        "#matrix A\n",
        "A = np.array([[1, 5, 3],[11, 10, 7],[6, 12, -2]])"
      ]
    },
    {
      "cell_type": "code",
      "execution_count": 108,
      "metadata": {
        "colab": {
          "base_uri": "https://localhost:8080/"
        },
        "collapsed": true,
        "id": "sUut1lRskqw0",
        "jupyter": {
          "outputs_hidden": true,
          "source_hidden": true
        },
        "outputId": "064f2054-b8a0-4f6b-8835-cefecd88c0de"
      },
      "outputs": [
        {
          "name": "stdout",
          "output_type": "stream",
          "text": [
            "Trace of matrix: 9\n"
          ]
        }
      ],
      "source": [
        "# Trace of matrix \n",
        "print(f\"Trace of matrix: {np.trace(A)}\")"
      ]
    },
    {
      "cell_type": "markdown",
      "metadata": {
        "id": "FYMtpU3JpdQb"
      },
      "source": [
        "## <font color = 'dodgerblue'> **Transpose of a matrix**\n",
        "* In linear algebra, the transpose of a matrix is an operator which flips a matrix over its diagonal. \n",
        "* That is, it switches the row and column indices of the matrix $A$ by producing another matrix, it is often denoted by $A^T$.\n",
        "* **Example** - Let us take a matrix \n",
        "\n",
        "  $\\boldsymbol{A} = \\begin{bmatrix}\n",
        "  1& 2 \\\\5&  6 \\\\7& 8\\end{bmatrix}$\n",
        "\n",
        "  Then the transpose of A is given as follows :-\n",
        "\n",
        "  $\\boldsymbol{A^T} = \\begin{bmatrix}\n",
        "  1& 5& 7 \\\\2&  6& 8 \\end{bmatrix}$\n",
        "\n",
        "* In numpy, we can use **T** in order to transpose a matrix. Let's check an example of matrix transpose using numpy as follows :-"
      ]
    },
    {
      "cell_type": "code",
      "execution_count": 109,
      "metadata": {
        "colab": {
          "base_uri": "https://localhost:8080/"
        },
        "collapsed": true,
        "id": "Mwb0tfRz7nO3",
        "jupyter": {
          "outputs_hidden": true,
          "source_hidden": true
        },
        "outputId": "acfe74eb-cd9d-4bed-83fe-8c3d04d6efbd"
      },
      "outputs": [
        {
          "name": "stdout",
          "output_type": "stream",
          "text": [
            "the matrix A is given as \n",
            " [[1 2]\n",
            " [5 6]\n",
            " [7 8]]\n"
          ]
        }
      ],
      "source": [
        "# Using transpose of a matrix by using T in numpy\n",
        "A = np.array([[1, 2],[5, 6],[7,8]])\n",
        "print(f\"the matrix A is given as \\n {A}\")"
      ]
    },
    {
      "cell_type": "code",
      "execution_count": 110,
      "metadata": {
        "colab": {
          "base_uri": "https://localhost:8080/"
        },
        "collapsed": true,
        "id": "UTqoTWo7dWbX",
        "jupyter": {
          "outputs_hidden": true,
          "source_hidden": true
        },
        "outputId": "25dd6368-73db-45da-d963-c557615f0984"
      },
      "outputs": [
        {
          "name": "stdout",
          "output_type": "stream",
          "text": [
            "transpose of matrix A is \n",
            "[[1 5 7]\n",
            " [2 6 8]]\n"
          ]
        }
      ],
      "source": [
        "# We can check the tranpose of the matrix A \n",
        "print(f\"transpose of matrix A is \\n{A.T}\")"
      ]
    },
    {
      "cell_type": "markdown",
      "metadata": {
        "id": "G0lN2EWJZW9c"
      },
      "source": [
        "## <font color = 'dodgerblue'> **Inner product or Dot product**\n",
        "Dot product of 2 vectors x and y, represented as `(x.T)(y)` is given by the summation of product of elements at the same position.\n",
        "\n",
        "If we have 2 vectors x: [1, 2, 3, 4] and y: [1, 1, 2, 1]\n",
        "\n",
        "(x.y) will be 1x1 + 2x1 + 3x2 + 4x1 = 13"
      ]
    },
    {
      "cell_type": "markdown",
      "metadata": {
        "id": "LeMZeJG7blYI"
      },
      "source": [
        "To find the inner product of the vectors, we can use the dot() method of NumPy."
      ]
    },
    {
      "cell_type": "code",
      "execution_count": 1,
      "metadata": {
        "colab": {
          "base_uri": "https://localhost:8080/"
        },
        "collapsed": true,
        "id": "JiJ4FggRdv_P",
        "jupyter": {
          "outputs_hidden": true,
          "source_hidden": true
        },
        "outputId": "bafe426f-bf98-432b-ff21-ca739d41777e"
      },
      "outputs": [
        {
          "data": {
            "text/plain": [
              "2445"
            ]
          },
          "execution_count": 1,
          "metadata": {},
          "output_type": "execute_result"
        }
      ],
      "source": [
        "# Inner product of vectors\n",
        "import numpy as np\n",
        "my_arr = np.array([12, 45, 32, 1, 2, 4])\n",
        "my_arr1 = np.array([15, 26, 31, 45, 21, 4])\n",
        "# if arrays are of the same length then inner product will be a scalar \n",
        "np.dot(my_arr,my_arr1)"
      ]
    },
    {
      "cell_type": "code",
      "execution_count": 5,
      "metadata": {
        "colab": {
          "base_uri": "https://localhost:8080/"
        },
        "id": "m8jNJ2L4u_9V",
        "outputId": "65a7dcdb-09cf-4415-92cb-dfa9b52263fa"
      },
      "outputs": [
        {
          "data": {
            "text/plain": [
              "array([[1],\n",
              "       [2],\n",
              "       [3],\n",
              "       [4]])"
            ]
          },
          "execution_count": 5,
          "metadata": {},
          "output_type": "execute_result"
        }
      ],
      "source": [
        "B = np.array([[1, 2, 3, 4]])\n",
        "\n",
        "# Transpose B to make it a 4x1 matrix\n",
        "B_T = B.T; B_T"
      ]
    },
    {
      "cell_type": "markdown",
      "metadata": {
        "id": "yw4n1k6fZMP-"
      },
      "source": [
        "## <font color = 'dodgerblue'> **Matrix multiplication**</font>\n",
        "Matrix multiplication is a binary operation on 2 matrices which gives us a matrix which is the product of the 2 matrices. \n",
        "\n",
        "If we are given 2 matrices $A$ of shape $(m * n)$ and $B$ of shape $(q * p)$, we can perform matrix multiplication only when $n = q$ and the resultant product matrix will have shape $(m * p)$. \n",
        "\n",
        "Suppose we are given 2 matrices $A (m * n)$ and $B (n * p)$: \n",
        "\n",
        "$$\\mathbf{A}=\\begin{bmatrix}\n",
        " a_{11} & a_{12} & \\cdots & a_{1n} \\\\\n",
        " a_{21} & a_{22} & \\cdots & a_{2n} \\\\\n",
        "\\vdots & \\vdots & \\ddots & \\vdots \\\\\n",
        " a_{m1} & a_{m2} & \\cdots & a_{mn} \\\\\n",
        "\\end{bmatrix},\\quad\n",
        "\\mathbf{B}=\\begin{bmatrix}\n",
        " b_{11} & b_{12} & \\cdots & b_{1p} \\\\\n",
        " b_{21} & b_{22} & \\cdots & b_{2p} \\\\\n",
        "\\vdots & \\vdots & \\ddots & \\vdots \\\\\n",
        " b_{n1} & b_{n2} & \\cdots & b_{np} \\\\\n",
        "\\end{bmatrix}$$\n",
        "\n",
        "Then after performing matrix multiplication, the resultant matrix C = AB will be:\n",
        "\n",
        "$$\\mathbf{C}=\\begin{bmatrix}\n",
        " c_{11} & c_{12} & \\cdots & c_{1p} \\\\\n",
        " c_{21} & c_{22} & \\cdots & c_{2p} \\\\\n",
        "\\vdots & \\vdots & \\ddots & \\vdots \\\\\n",
        " c_{mp} & c_{mp} & \\cdots & c_{mp} \\\\\n",
        "\\end{bmatrix}$$\n",
        "\n",
        "Here, $c_{ij} = a_{i1}b_{1j} + a_{i2}b_{2j} + ... a_{in}b_{b_nj} = \\sum_{k = 1}^n a_{ik}b_{kj}$\n",
        "\n",
        "for, $i = 1,....m$ and $j = 1,...p$\n",
        "\n",
        "\n",
        "Thus, each element of C, $c_{ij}$ is obtained by dot product of $i^{th}$ row of $A$ and $j^{th}$ column of $B$. \n",
        "\n",
        "**Example** : \n",
        "  1. Let $A$ be a matrix of (4, 3) dimensions.\n",
        "  2. Let $B$ be another matrix of (3, 2) dimensions.\n",
        "  3. Let us denote denote the matrix multiplication of $A$ and $B$ with $C$.\n",
        "  5. Then the dimension of $C$ = (number of rows of $A$,number of columns of $B$) \n",
        "     \n",
        "    dimension of  $C$ = (4, 2)\n",
        "\n",
        "The figure given below will give a good example of matrix multplication :\n",
        "\n",
        "<img src = \"https://drive.google.com/uc?view=export&id=176DF50XdtwkqU5wvxtWuD75sRDHvSJBf\" width =\"250\"/>"
      ]
    },
    {
      "cell_type": "code",
      "execution_count": 6,
      "metadata": {
        "colab": {
          "base_uri": "https://localhost:8080/"
        },
        "collapsed": true,
        "id": "Zt4ZrE4c9jOq",
        "jupyter": {
          "outputs_hidden": true,
          "source_hidden": true
        },
        "outputId": "0858faab-d8f7-4943-87cb-e996f2837f3d"
      },
      "outputs": [
        {
          "name": "stdout",
          "output_type": "stream",
          "text": [
            "The dimensions of the matrix x is : \n",
            "(2, 3)\n",
            "The dimensions of the matrix y is : \n",
            "(3, 3)\n"
          ]
        }
      ],
      "source": [
        "# let's consider two matrices of different shape\n",
        "x = np.array([[1,25,46],[28,45,76]])\n",
        "print(f\"The dimensions of the matrix x is : \\n{x.shape}\")\n",
        "\n",
        "y = np.array([[14,15,7],[12,36,48],[1,25,7]])\n",
        "print(f\"The dimensions of the matrix y is : \\n{y.shape}\")"
      ]
    },
    {
      "cell_type": "code",
      "execution_count": 7,
      "metadata": {
        "colab": {
          "base_uri": "https://localhost:8080/"
        },
        "collapsed": true,
        "id": "6IzFtR4hxu9x",
        "jupyter": {
          "outputs_hidden": true,
          "source_hidden": true
        },
        "outputId": "1dc00377-e514-4acd-df51-94692d403288"
      },
      "outputs": [
        {
          "name": "stdout",
          "output_type": "stream",
          "text": [
            "The dimensions of the product matrix  is : \n",
            "(2, 3)\n"
          ]
        }
      ],
      "source": [
        "# Let's the check the rule of matrix multiplication\n",
        "# Since, the number of columns of x = number of rows of y\n",
        "# the shape of the product of both matrix is (number of rows of x, number of columns of y)\n",
        "# the matmul() method helps in multiplying matrices  \n",
        "\n",
        "my_prod = np.matmul(x, y)\n",
        "print(f\"The dimensions of the product matrix  is : \\n{my_prod.shape}\")\n"
      ]
    },
    {
      "cell_type": "markdown",
      "metadata": {
        "id": "RWKO1RCVZZUC"
      },
      "source": [
        "## <font color = 'dodgerblue'> **Outer product**\n",
        "\n",
        "* If $H$ and $M$ are column vectors of any size, then $H M^T$ is the\n",
        "outer product of $H$ and $M$.\n",
        "* Example: $\\boldsymbol{H} = \\begin{bmatrix}\n",
        "1\\\\7\\\\5\\end{bmatrix}$\n",
        "$\\boldsymbol{M} = \\begin{bmatrix}\n",
        "2\\\\4\\\\ 9\\end{bmatrix}$\n",
        "\n",
        "  **H** and **M** are column vectors, each having 3 elements.\n",
        "\n",
        "  **H'** is the transpose of **H**, which makes **H'** a row vector,\n",
        "\n",
        "  **M'** is the transpose of **M**, which makes **M'** a row vector.\n",
        "\n",
        "\n",
        "* We can apply the matrix multiplication rule and check the required dimension.\n",
        "\n",
        "Now, the outer product of the matrix is defined as follows :-\n",
        " \n",
        "$HM' =  \\begin{bmatrix}\n",
        "1\\\\ 7\\\\ 5\\end{bmatrix} × \\begin{bmatrix}\n",
        "2\\ 4\\ 9\\end{bmatrix}$ = $\\begin{bmatrix}1×2 & 1×4 & 1×9 \\\\7×2 & 7×4 & 7×9\\\\5×2 & 5×4 & 5×9\\end{bmatrix}$ \n",
        "= $\\begin{bmatrix}2 & 4 & 9 \\\\14 & 28 & 63\\\\10 & 20 & 45\\end{bmatrix}$\n",
        "\n"
      ]
    },
    {
      "cell_type": "markdown",
      "metadata": {
        "id": "7AiOUtI3cv8P"
      },
      "source": [
        "The outer product of the vectors and matrices can be found using the outer() method of NumPy.\n",
        "\n",
        "**Syntax** \n",
        "\n",
        "\n",
        "```\n",
        "numpy.outer(a, b, out = None)\n",
        "```\n",
        "where a, b are the vectors  or matrices.\n",
        "out = A location where the result is stored(optional argument)\n",
        "\n"
      ]
    },
    {
      "cell_type": "code",
      "execution_count": 8,
      "metadata": {
        "colab": {
          "base_uri": "https://localhost:8080/"
        },
        "collapsed": true,
        "id": "wgvaSjlncuFC",
        "jupyter": {
          "outputs_hidden": true,
          "source_hidden": true
        },
        "outputId": "0ef2f160-06e6-45a3-d8f0-7b6f9c15817a"
      },
      "outputs": [
        {
          "data": {
            "text/plain": [
              "array([[ 2,  4,  9],\n",
              "       [14, 28, 63],\n",
              "       [10, 20, 45]])"
            ]
          },
          "execution_count": 8,
          "metadata": {},
          "output_type": "execute_result"
        }
      ],
      "source": [
        "#let's consider above example\n",
        "#let a be a column matrix\n",
        "a = np.array([[1]\n",
        "              ,[7]\n",
        "              ,[5]])\n",
        "#b be a row matrix\n",
        "b = np.array([2, 4, 9])\n",
        "#the outer product of the matrices are\n",
        "np.outer(a,b, out =None)"
      ]
    },
    {
      "cell_type": "markdown",
      "metadata": {
        "id": "ARcbnRB4pNDX"
      },
      "source": [
        "## <font color = 'dodgerblue'> **Inverse of matrix**\n",
        "Wikipedia Definition (https://en.wikipedia.org/wiki/Invertible_matrix)<br><br>\n",
        "In linear algebra, an n-by-n square matrix $\\mathbf{A}$ is called invertible (also nonsingular or nondegenerate), if there exists an $n$ by $n$ square matrix $\\mathbf{B}$ such that\n",
        "\\begin{equation}\n",
        "  \\mathbf{A}\\mathbf{B} = \\mathbf{B}\\mathbf{A} = \\mathbf{I_n}\n",
        "\\end{equation}\n",
        "\n",
        "where $\\mathbf{I_n}$ denotes the n-by-n identity matrix and the multiplication used is ordinary matrix multiplication. If this is the case, then the matrix $\\mathbf{B}$ is uniquely determined by $\\mathbf{A}$, and is called the (multiplicative) inverse of $\\mathbf{A}$, denoted by $\\mathbf{A^{-1}}$"
      ]
    },
    {
      "cell_type": "code",
      "execution_count": 9,
      "metadata": {
        "collapsed": true,
        "id": "zilBM0e7iiPs",
        "jupyter": {
          "outputs_hidden": true,
          "source_hidden": true
        }
      },
      "outputs": [],
      "source": [
        "# Let's create an 1-D array\n",
        "\n",
        "my_mat = np.array([[1, 5, 4],\n",
        "             [2, 4, 8],\n",
        "             [4, 7, 2]\n",
        "             ])\n",
        "\n"
      ]
    },
    {
      "cell_type": "code",
      "execution_count": 10,
      "metadata": {
        "colab": {
          "base_uri": "https://localhost:8080/"
        },
        "collapsed": true,
        "id": "QbpEqV6ilsAX",
        "jupyter": {
          "outputs_hidden": true,
          "source_hidden": true
        },
        "outputId": "4e057553-e70c-4974-fa10-efcd7bda067e"
      },
      "outputs": [
        {
          "name": "stdout",
          "output_type": "stream",
          "text": [
            "Inverse of matrix : \n",
            " [[-5.71e-01  2.14e-01  2.86e-01]\n",
            " [ 3.33e-01 -1.67e-01  1.71e-17]\n",
            " [-2.38e-02  1.55e-01 -7.14e-02]]\n"
          ]
        }
      ],
      "source": [
        "# inverse of the matrix\n",
        "my_mat_inv = np.linalg.inv(my_mat)\n",
        "print(f\"Inverse of matrix : \\n {my_mat_inv}\")"
      ]
    },
    {
      "cell_type": "code",
      "execution_count": 11,
      "metadata": {
        "colab": {
          "base_uri": "https://localhost:8080/"
        },
        "collapsed": true,
        "id": "2TVpV_YLGEmY",
        "jupyter": {
          "outputs_hidden": true,
          "source_hidden": true
        },
        "outputId": "9a09322f-bc52-44fb-c6ab-9fddaead8fe4"
      },
      "outputs": [
        {
          "name": "stdout",
          "output_type": "stream",
          "text": [
            "[[ 1.00e+00  0.00e+00  0.00e+00]\n",
            " [-2.78e-17  1.00e+00 -1.11e-16]\n",
            " [-6.94e-18 -5.55e-17  1.00e+00]]\n"
          ]
        }
      ],
      "source": [
        "# let us check teh condition A A_inv = I\n",
        "print(np.matmul(my_mat, my_mat_inv))"
      ]
    }
  ],
  "metadata": {
    "colab": {
      "include_colab_link": true,
      "provenance": []
    },
    "kernelspec": {
      "display_name": "Python 3 (ipykernel)",
      "language": "python",
      "name": "python3"
    },
    "language_info": {
      "codemirror_mode": {
        "name": "ipython",
        "version": 3
      },
      "file_extension": ".py",
      "mimetype": "text/x-python",
      "name": "python",
      "nbconvert_exporter": "python",
      "pygments_lexer": "ipython3",
      "version": "3.9.13"
    }
  },
  "nbformat": 4,
  "nbformat_minor": 0
}
