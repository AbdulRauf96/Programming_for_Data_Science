{
  "cells": [
    {
      "cell_type": "markdown",
      "metadata": {
        "id": "view-in-github",
        "colab_type": "text"
      },
      "source": [
        "<a href=\"https://colab.research.google.com/github/AbdulRauf96/Programming_for_Data_Sciencie/blob/main/01_core.ipynb\" target=\"_parent\"><img src=\"https://colab.research.google.com/assets/colab-badge.svg\" alt=\"Open In Colab\"/></a>"
      ]
    },
    {
      "cell_type": "markdown",
      "metadata": {
        "id": "aHqXMlwEvd08"
      },
      "source": [
        "### <div style=\"text-align:center\"><span style=\"font-size:2em; font-weight: bold;\">Lecture 1—Core python</span></div>"
      ]
    },
    {
      "cell_type": "markdown",
      "metadata": {
        "id": "qkM-LNt0vd1C"
      },
      "source": [
        "## Programming: Jupyter basics\n",
        "\n",
        "### Printing/display\n",
        "\n",
        "The command in python to print anything is ```print```. That said, in Jupyter we do not need to always use ```print```:\n"
      ]
    },
    {
      "cell_type": "code",
      "execution_count": null,
      "metadata": {
        "id": "8VTRmpruvd1C"
      },
      "outputs": [],
      "source": [
        "!jupyter contrib nbextension install --system"
      ]
    },
    {
      "cell_type": "code",
      "execution_count": 7,
      "metadata": {
        "ExecuteTime": {
          "end_time": "2021-05-27T23:36:59.359983Z",
          "start_time": "2021-05-27T23:36:59.340983Z"
        },
        "scrolled": true,
        "colab": {
          "base_uri": "https://localhost:8080/",
          "height": 36
        },
        "id": "Lwd-dhrovd1E",
        "outputId": "fbc9b6f3-f937-4999-a9a6-7a935a2ed62e"
      },
      "outputs": [
        {
          "output_type": "execute_result",
          "data": {
            "text/plain": [
              "'Hello, World!'"
            ],
            "application/vnd.google.colaboratory.intrinsic+json": {
              "type": "string"
            }
          },
          "metadata": {},
          "execution_count": 7
        }
      ],
      "source": [
        "\"Hello, World!\""
      ]
    },
    {
      "cell_type": "markdown",
      "metadata": {
        "id": "q48Kzkdnvd1E"
      },
      "source": [
        "Note that in jupyter, only the last statement gets shown back to us:"
      ]
    },
    {
      "cell_type": "code",
      "execution_count": 3,
      "metadata": {
        "ExecuteTime": {
          "end_time": "2021-05-27T23:37:29.230608Z",
          "start_time": "2021-05-27T23:37:29.226608Z"
        },
        "colab": {
          "base_uri": "https://localhost:8080/",
          "height": 36
        },
        "id": "3b7qczJvvd1F",
        "outputId": "2c8aa2bf-63cc-44f2-8cfc-e1257d41dd88"
      },
      "outputs": [
        {
          "output_type": "execute_result",
          "data": {
            "text/plain": [
              "'World!'"
            ],
            "application/vnd.google.colaboratory.intrinsic+json": {
              "type": "string"
            }
          },
          "metadata": {},
          "execution_count": 3
        }
      ],
      "source": [
        "\"Hello, \"\n",
        "\"World!\""
      ]
    },
    {
      "cell_type": "code",
      "execution_count": 8,
      "metadata": {
        "ExecuteTime": {
          "end_time": "2021-05-27T23:39:53.200556Z",
          "start_time": "2021-05-27T23:39:53.191555Z"
        },
        "colab": {
          "base_uri": "https://localhost:8080/"
        },
        "id": "kB-lzfjVvd1F",
        "outputId": "76a9efe7-77c9-400c-df0e-812087b28f54"
      },
      "outputs": [
        {
          "output_type": "stream",
          "name": "stdout",
          "text": [
            "Hello,\n",
            "World!\n"
          ]
        }
      ],
      "source": [
        "print('Hello,')\n",
        "print('World!')"
      ]
    },
    {
      "cell_type": "markdown",
      "metadata": {
        "id": "s9F-p4Mjvd1G"
      },
      "source": [
        "\n",
        "#### Markdown blocks\n",
        "\n",
        "In Jupyter, you can switch a code block to Markdown and type to document your code and allow other people to read it. In fact, the very words you are reading are just a markdown block that has been formatted. Below you will find an unformatted markdown block. With ctrl+enter you can process it. Double clicking on it will turn it back into edit mode.\n"
      ]
    },
    {
      "cell_type": "markdown",
      "metadata": {
        "id": "AjJYnn4zvd1G"
      },
      "source": [
        "##### Example subheading\n",
        "\n",
        "This code is written in markdown so that it can be formatted for human reading."
      ]
    },
    {
      "cell_type": "markdown",
      "metadata": {
        "id": "EWITyA6Fvd1H"
      },
      "source": [
        "#### Code comments\n",
        "\n",
        "Sometimes I will comment my code. Comments in python appear after the ```#``` operator. Anything on a line after a ```#``` is a comment and is not necessary. These comments are to help you. Great programmers use lots of comments so that other people can understand their code and so that they know what is happening if they look at it months or years later."
      ]
    },
    {
      "cell_type": "code",
      "execution_count": 9,
      "metadata": {
        "id": "slKvPoRQvd1H",
        "outputId": "bd1af143-b4ca-4246-e512-21866223dc10",
        "colab": {
          "base_uri": "https://localhost:8080/",
          "height": 36
        }
      },
      "outputs": [
        {
          "output_type": "execute_result",
          "data": {
            "text/plain": [
              "'Hello, World!'"
            ],
            "application/vnd.google.colaboratory.intrinsic+json": {
              "type": "string"
            }
          },
          "metadata": {},
          "execution_count": 9
        }
      ],
      "source": [
        "\"Hello, World!\" # Here we are showing our first python code\n",
        "# This line is a comment too"
      ]
    },
    {
      "cell_type": "markdown",
      "metadata": {
        "id": "RPycBmozvd1I"
      },
      "source": [
        "## Topic: Core python\n"
      ]
    },
    {
      "cell_type": "markdown",
      "source": [
        "\n",
        "### Data types\t\t\n",
        "\t\n",
        "#### Primitives\t\n",
        "\n",
        "Booleans"
      ],
      "metadata": {
        "id": "Tz-knGTK9V2G"
      }
    },
    {
      "cell_type": "code",
      "execution_count": 10,
      "metadata": {
        "ExecuteTime": {
          "end_time": "2021-05-27T23:42:48.395763Z",
          "start_time": "2021-05-27T23:42:48.376792Z"
        },
        "colab": {
          "base_uri": "https://localhost:8080/"
        },
        "id": "8c3LHbdCvd1J",
        "outputId": "29af8d22-d0de-4fa4-9ac7-563617804978"
      },
      "outputs": [
        {
          "output_type": "execute_result",
          "data": {
            "text/plain": [
              "True"
            ]
          },
          "metadata": {},
          "execution_count": 10
        }
      ],
      "source": [
        "True"
      ]
    },
    {
      "cell_type": "code",
      "execution_count": 11,
      "metadata": {
        "ExecuteTime": {
          "end_time": "2021-05-27T23:42:48.953055Z",
          "start_time": "2021-05-27T23:42:48.944618Z"
        },
        "colab": {
          "base_uri": "https://localhost:8080/"
        },
        "id": "4BheQBAZvd1J",
        "outputId": "55cd9a57-7023-4053-d115-051d93e23cd9"
      },
      "outputs": [
        {
          "output_type": "execute_result",
          "data": {
            "text/plain": [
              "False"
            ]
          },
          "metadata": {},
          "execution_count": 11
        }
      ],
      "source": [
        "False"
      ]
    },
    {
      "cell_type": "code",
      "execution_count": 12,
      "metadata": {
        "ExecuteTime": {
          "end_time": "2021-05-27T23:43:17.434673Z",
          "start_time": "2021-05-27T23:43:17.416312Z"
        },
        "colab": {
          "base_uri": "https://localhost:8080/"
        },
        "id": "vczvhSh1vd1J",
        "outputId": "ca79c7e3-706e-4e86-a9ca-70387f4e06de"
      },
      "outputs": [
        {
          "output_type": "execute_result",
          "data": {
            "text/plain": [
              "False"
            ]
          },
          "metadata": {},
          "execution_count": 12
        }
      ],
      "source": [
        "5==4"
      ]
    },
    {
      "cell_type": "code",
      "execution_count": 13,
      "metadata": {
        "colab": {
          "base_uri": "https://localhost:8080/"
        },
        "id": "xQkqL_znvd1J",
        "outputId": "765732dd-5d91-421d-879c-9d4a6702185e"
      },
      "outputs": [
        {
          "output_type": "execute_result",
          "data": {
            "text/plain": [
              "True"
            ]
          },
          "metadata": {},
          "execution_count": 13
        }
      ],
      "source": [
        "5==5.000"
      ]
    },
    {
      "cell_type": "code",
      "execution_count": 14,
      "metadata": {
        "colab": {
          "base_uri": "https://localhost:8080/"
        },
        "id": "-bxtf5xcvd1K",
        "outputId": "acd05ee8-f5c1-44c9-eeaf-021d9895d612"
      },
      "outputs": [
        {
          "output_type": "execute_result",
          "data": {
            "text/plain": [
              "True"
            ]
          },
          "metadata": {},
          "execution_count": 14
        }
      ],
      "source": [
        "1==True"
      ]
    },
    {
      "cell_type": "code",
      "execution_count": 15,
      "metadata": {
        "ExecuteTime": {
          "end_time": "2021-05-27T23:44:46.787165Z",
          "start_time": "2021-05-27T23:44:46.777161Z"
        },
        "colab": {
          "base_uri": "https://localhost:8080/"
        },
        "id": "-fCrBf4Cvd1K",
        "outputId": "36acc563-c3c4-4a1d-a803-22ca3030c7fa"
      },
      "outputs": [
        {
          "output_type": "execute_result",
          "data": {
            "text/plain": [
              "True"
            ]
          },
          "metadata": {},
          "execution_count": 15
        }
      ],
      "source": [
        "0==False"
      ]
    },
    {
      "cell_type": "markdown",
      "metadata": {
        "id": "PlsyqB4ivd1K"
      },
      "source": [
        "Strings"
      ]
    },
    {
      "cell_type": "code",
      "execution_count": 16,
      "metadata": {
        "ExecuteTime": {
          "end_time": "2021-05-27T23:44:48.656827Z",
          "start_time": "2021-05-27T23:44:48.647829Z"
        },
        "id": "fbCrqD0Uvd1L",
        "outputId": "7cb6667a-02a4-4b99-aca9-cd464fadd2b6",
        "colab": {
          "base_uri": "https://localhost:8080/"
        }
      },
      "outputs": [
        {
          "output_type": "stream",
          "name": "stdout",
          "text": [
            "Hello World!\n"
          ]
        }
      ],
      "source": [
        "print(\"Hello World!\")"
      ]
    },
    {
      "cell_type": "code",
      "execution_count": 21,
      "metadata": {
        "id": "Qlq1flk9vd1L",
        "outputId": "7c56f4af-ffcc-4eea-fe11-a2fdf95f7716",
        "colab": {
          "base_uri": "https://localhost:8080/",
          "height": 36
        }
      },
      "outputs": [
        {
          "output_type": "execute_result",
          "data": {
            "text/plain": [
              "'Hello World!'"
            ],
            "application/vnd.google.colaboratory.intrinsic+json": {
              "type": "string"
            }
          },
          "metadata": {},
          "execution_count": 21
        }
      ],
      "source": [
        "\"Hello\" + \" World!\""
      ]
    },
    {
      "cell_type": "markdown",
      "metadata": {
        "id": "YW2MnJ2Jvd1L"
      },
      "source": [
        "Numerics"
      ]
    },
    {
      "cell_type": "code",
      "execution_count": 22,
      "metadata": {
        "id": "lS_d_ennvd1L",
        "outputId": "b2f2d514-25b4-40e2-90d4-3aa6d5ae2bc2",
        "colab": {
          "base_uri": "https://localhost:8080/"
        }
      },
      "outputs": [
        {
          "output_type": "execute_result",
          "data": {
            "text/plain": [
              "int"
            ]
          },
          "metadata": {},
          "execution_count": 22
        }
      ],
      "source": [
        "type(5) # This is an int"
      ]
    },
    {
      "cell_type": "code",
      "execution_count": 23,
      "metadata": {
        "id": "NufREU4nvd1M",
        "outputId": "15d55adb-a5b5-4441-8c69-4afc7e1278a2",
        "colab": {
          "base_uri": "https://localhost:8080/"
        }
      },
      "outputs": [
        {
          "output_type": "execute_result",
          "data": {
            "text/plain": [
              "float"
            ]
          },
          "metadata": {},
          "execution_count": 23
        }
      ],
      "source": [
        "type(4.5) # This is a float"
      ]
    },
    {
      "cell_type": "code",
      "execution_count": 24,
      "metadata": {
        "ExecuteTime": {
          "end_time": "2021-05-27T23:46:12.965557Z",
          "start_time": "2021-05-27T23:46:12.960580Z"
        },
        "id": "6YdZeS-3vd1M",
        "outputId": "6bd16cf0-3927-46d7-85e3-af3d84f7a2e1",
        "colab": {
          "base_uri": "https://localhost:8080/"
        }
      },
      "outputs": [
        {
          "output_type": "execute_result",
          "data": {
            "text/plain": [
              "6.0"
            ]
          },
          "metadata": {},
          "execution_count": 24
        }
      ],
      "source": [
        "5.4 + 0.6 # Addition"
      ]
    },
    {
      "cell_type": "code",
      "execution_count": 25,
      "metadata": {
        "ExecuteTime": {
          "end_time": "2021-05-27T23:46:13.721537Z",
          "start_time": "2021-05-27T23:46:13.713119Z"
        },
        "id": "HJs31CEavd1M",
        "outputId": "f8ec93cf-cc16-416d-a591-a308793cc486",
        "colab": {
          "base_uri": "https://localhost:8080/"
        }
      },
      "outputs": [
        {
          "output_type": "execute_result",
          "data": {
            "text/plain": [
              "1.5"
            ]
          },
          "metadata": {},
          "execution_count": 25
        }
      ],
      "source": [
        "3/2 # Division"
      ]
    },
    {
      "cell_type": "code",
      "execution_count": 26,
      "metadata": {
        "id": "IhuaGnrlvd1M",
        "outputId": "edef0f61-f3a3-441d-c18a-7c680660f920",
        "colab": {
          "base_uri": "https://localhost:8080/"
        }
      },
      "outputs": [
        {
          "output_type": "execute_result",
          "data": {
            "text/plain": [
              "2"
            ]
          },
          "metadata": {},
          "execution_count": 26
        }
      ],
      "source": [
        "5//2 # Division w/o remainder"
      ]
    },
    {
      "cell_type": "code",
      "execution_count": 27,
      "metadata": {
        "id": "1ok1XdOcvd1N",
        "outputId": "3883e504-5daf-4aca-ea79-83f52c061b88",
        "colab": {
          "base_uri": "https://localhost:8080/"
        }
      },
      "outputs": [
        {
          "output_type": "execute_result",
          "data": {
            "text/plain": [
              "1"
            ]
          },
          "metadata": {},
          "execution_count": 27
        }
      ],
      "source": [
        "7%2 # Remainder (modulus) division"
      ]
    },
    {
      "cell_type": "code",
      "execution_count": 29,
      "metadata": {
        "id": "yGc969eDvd1N",
        "outputId": "475f1e8d-2da9-4311-ce85-769ccef047de",
        "colab": {
          "base_uri": "https://localhost:8080/"
        }
      },
      "outputs": [
        {
          "output_type": "execute_result",
          "data": {
            "text/plain": [
              "5"
            ]
          },
          "metadata": {},
          "execution_count": 29
        }
      ],
      "source": [
        "7^2 # Some bitwise whatever (don't use)"
      ]
    },
    {
      "cell_type": "code",
      "execution_count": 30,
      "metadata": {
        "id": "L_7n2aDNvd1N",
        "outputId": "2ab9bc9a-04ba-4366-eb9b-e7de4bda1b8f",
        "colab": {
          "base_uri": "https://localhost:8080/"
        }
      },
      "outputs": [
        {
          "output_type": "execute_result",
          "data": {
            "text/plain": [
              "49"
            ]
          },
          "metadata": {},
          "execution_count": 30
        }
      ],
      "source": [
        "7**2 # Raised to power (do use)"
      ]
    },
    {
      "cell_type": "markdown",
      "metadata": {
        "id": "Xodhvyrevd1N"
      },
      "source": [
        "Casting"
      ]
    },
    {
      "cell_type": "code",
      "execution_count": 31,
      "metadata": {
        "id": "uWxfDEuGvd1N",
        "outputId": "b8b91eaa-93d7-4263-d3cc-783a15685a28",
        "colab": {
          "base_uri": "https://localhost:8080/"
        }
      },
      "outputs": [
        {
          "output_type": "execute_result",
          "data": {
            "text/plain": [
              "5"
            ]
          },
          "metadata": {},
          "execution_count": 31
        }
      ],
      "source": [
        "int(\"5\")"
      ]
    },
    {
      "cell_type": "code",
      "execution_count": 40,
      "metadata": {
        "id": "CbJJEe-Kvd1N",
        "colab": {
          "base_uri": "https://localhost:8080/"
        },
        "outputId": "76619180-384f-4f22-b1db-19afac91f4a3"
      },
      "outputs": [
        {
          "output_type": "stream",
          "name": "stdout",
          "text": [
            "This cannot be cast an int\n"
          ]
        }
      ],
      "source": [
        "# Try, except, else and finally can be used to avoid the commanding \n",
        "# halting and interrupting the code\n",
        "try:\n",
        "  int(\"5.001\") # will raise an error\n",
        "except ValueError:\n",
        "  print('This cannot be cast an int')"
      ]
    },
    {
      "cell_type": "code",
      "execution_count": 41,
      "metadata": {
        "id": "v6iLdq0Yvd1N",
        "outputId": "daf4a97e-a3ae-437b-fe02-592ed0105a79",
        "colab": {
          "base_uri": "https://localhost:8080/"
        }
      },
      "outputs": [
        {
          "output_type": "execute_result",
          "data": {
            "text/plain": [
              "5.0002"
            ]
          },
          "metadata": {},
          "execution_count": 41
        }
      ],
      "source": [
        "float(\"5.0002\")"
      ]
    },
    {
      "cell_type": "code",
      "execution_count": 42,
      "metadata": {
        "id": "d24DhOpqvd1O",
        "outputId": "a4165571-f204-46fb-a1c2-b9753b65893c",
        "colab": {
          "base_uri": "https://localhost:8080/"
        }
      },
      "outputs": [
        {
          "output_type": "execute_result",
          "data": {
            "text/plain": [
              "0"
            ]
          },
          "metadata": {},
          "execution_count": 42
        }
      ],
      "source": [
        "int(False)"
      ]
    },
    {
      "cell_type": "code",
      "execution_count": 43,
      "metadata": {
        "id": "l3S3KKnHvd1O",
        "outputId": "97560d10-026d-44b0-b361-72465d29af8a",
        "colab": {
          "base_uri": "https://localhost:8080/",
          "height": 36
        }
      },
      "outputs": [
        {
          "output_type": "execute_result",
          "data": {
            "text/plain": [
              "'7'"
            ],
            "application/vnd.google.colaboratory.intrinsic+json": {
              "type": "string"
            }
          },
          "metadata": {},
          "execution_count": 43
        }
      ],
      "source": [
        "str(7)"
      ]
    },
    {
      "cell_type": "markdown",
      "source": [
        "### Collections"
      ],
      "metadata": {
        "id": "wzwUyGqhxjJ4"
      }
    },
    {
      "cell_type": "markdown",
      "metadata": {
        "id": "107_XidTvd1O"
      },
      "source": [
        "##### Lists (IMPORTANT)\n",
        "\n",
        "The most important collection in python is the list. A list is a collection of things. Those things can have any type, and they can be referenced by an index. It is important to note that python uses zero-based indexing."
      ]
    },
    {
      "cell_type": "code",
      "execution_count": 44,
      "metadata": {
        "ExecuteTime": {
          "end_time": "2021-05-27T23:52:29.417312Z",
          "start_time": "2021-05-27T23:52:29.407185Z"
        },
        "colab": {
          "base_uri": "https://localhost:8080/"
        },
        "id": "zBHj1SSqvd1O",
        "outputId": "16d7708d-919a-4262-cbba-08cda60cc23f"
      },
      "outputs": [
        {
          "output_type": "execute_result",
          "data": {
            "text/plain": [
              "9"
            ]
          },
          "metadata": {},
          "execution_count": 44
        }
      ],
      "source": [
        "mylist = [5,7,9,11]\n",
        "mylist[2]"
      ]
    },
    {
      "cell_type": "code",
      "execution_count": 45,
      "metadata": {
        "ExecuteTime": {
          "end_time": "2021-05-27T23:52:50.502069Z",
          "start_time": "2021-05-27T23:52:50.486071Z"
        },
        "colab": {
          "base_uri": "https://localhost:8080/"
        },
        "id": "tdw6Jm2rvd1O",
        "outputId": "17a0c7e6-5012-4880-9736-89b9c2ccef41"
      },
      "outputs": [
        {
          "output_type": "execute_result",
          "data": {
            "text/plain": [
              "11"
            ]
          },
          "metadata": {},
          "execution_count": 45
        }
      ],
      "source": [
        "mylist[-1]"
      ]
    },
    {
      "cell_type": "code",
      "execution_count": 46,
      "metadata": {
        "ExecuteTime": {
          "end_time": "2021-05-27T23:53:27.207476Z",
          "start_time": "2021-05-27T23:53:27.198729Z"
        },
        "colab": {
          "base_uri": "https://localhost:8080/"
        },
        "id": "kCOcuO9Ovd1O",
        "outputId": "80f164ba-e137-462a-e7e7-2f1b2c9c3df7"
      },
      "outputs": [
        {
          "output_type": "execute_result",
          "data": {
            "text/plain": [
              "[9, 11]"
            ]
          },
          "metadata": {},
          "execution_count": 46
        }
      ],
      "source": [
        "mylist[2:]"
      ]
    },
    {
      "cell_type": "code",
      "execution_count": 47,
      "metadata": {
        "colab": {
          "base_uri": "https://localhost:8080/"
        },
        "id": "tfnqKBaXvd1P",
        "outputId": "e5e720ce-9c5d-462d-a927-ef8124a0e2c4"
      },
      "outputs": [
        {
          "output_type": "execute_result",
          "data": {
            "text/plain": [
              "[5, 7, 9]"
            ]
          },
          "metadata": {},
          "execution_count": 47
        }
      ],
      "source": [
        "mylist[:-1]"
      ]
    },
    {
      "cell_type": "code",
      "execution_count": 48,
      "metadata": {
        "ExecuteTime": {
          "end_time": "2021-05-27T23:54:09.179737Z",
          "start_time": "2021-05-27T23:54:09.165740Z"
        },
        "colab": {
          "base_uri": "https://localhost:8080/"
        },
        "id": "vu0o8KF_vd1P",
        "outputId": "87a2d93a-e1ea-471c-87a1-50df0b13bfe5"
      },
      "outputs": [
        {
          "output_type": "execute_result",
          "data": {
            "text/plain": [
              "[9, 11]"
            ]
          },
          "metadata": {},
          "execution_count": 48
        }
      ],
      "source": [
        "mylist[2:4]"
      ]
    },
    {
      "cell_type": "code",
      "execution_count": 49,
      "metadata": {
        "ExecuteTime": {
          "end_time": "2021-05-27T23:54:24.661383Z",
          "start_time": "2021-05-27T23:54:24.653304Z"
        },
        "colab": {
          "base_uri": "https://localhost:8080/"
        },
        "id": "9lVwHo55vd1P",
        "outputId": "69ac529e-bc2d-4f2d-b90b-62ff3a2bd43e"
      },
      "outputs": [
        {
          "output_type": "execute_result",
          "data": {
            "text/plain": [
              "[5, 9, 11]"
            ]
          },
          "metadata": {},
          "execution_count": 49
        }
      ],
      "source": [
        "del mylist[1]\n",
        "mylist"
      ]
    },
    {
      "cell_type": "code",
      "execution_count": 50,
      "metadata": {
        "ExecuteTime": {
          "end_time": "2021-05-27T23:54:31.881690Z",
          "start_time": "2021-05-27T23:54:31.863691Z"
        },
        "colab": {
          "base_uri": "https://localhost:8080/"
        },
        "id": "Zj2-4swSvd1P",
        "outputId": "ed18c317-81cd-4118-996f-fc3443f04d15"
      },
      "outputs": [
        {
          "output_type": "execute_result",
          "data": {
            "text/plain": [
              "3"
            ]
          },
          "metadata": {},
          "execution_count": 50
        }
      ],
      "source": [
        "len(mylist)"
      ]
    },
    {
      "cell_type": "code",
      "execution_count": 51,
      "metadata": {
        "ExecuteTime": {
          "end_time": "2021-05-27T23:55:04.900103Z",
          "start_time": "2021-05-27T23:55:04.893101Z"
        },
        "colab": {
          "base_uri": "https://localhost:8080/"
        },
        "id": "qV55nPRSvd1P",
        "outputId": "f12d286d-8781-45af-ff68-79c1d57add13"
      },
      "outputs": [
        {
          "output_type": "execute_result",
          "data": {
            "text/plain": [
              "[5, 9, 11, 7]"
            ]
          },
          "metadata": {},
          "execution_count": 51
        }
      ],
      "source": [
        "mylist + [7]"
      ]
    },
    {
      "cell_type": "code",
      "execution_count": 52,
      "metadata": {
        "ExecuteTime": {
          "end_time": "2021-05-27T23:55:19.006807Z",
          "start_time": "2021-05-27T23:55:18.989807Z"
        },
        "id": "lDbXEDnFvd1Q"
      },
      "outputs": [],
      "source": [
        "mylist = mylist + [7]"
      ]
    },
    {
      "cell_type": "code",
      "execution_count": 53,
      "metadata": {
        "ExecuteTime": {
          "end_time": "2021-05-27T23:55:35.734251Z",
          "start_time": "2021-05-27T23:55:35.717256Z"
        },
        "id": "Kz7wcGZDvd1Q"
      },
      "outputs": [],
      "source": [
        "mylist += [7]"
      ]
    },
    {
      "cell_type": "code",
      "execution_count": 54,
      "metadata": {
        "ExecuteTime": {
          "end_time": "2021-05-27T23:55:38.233526Z",
          "start_time": "2021-05-27T23:55:38.222088Z"
        },
        "colab": {
          "base_uri": "https://localhost:8080/"
        },
        "id": "BySMwhbWvd1Q",
        "outputId": "7b14eb7f-1531-4592-b696-5dd5895388d2"
      },
      "outputs": [
        {
          "output_type": "execute_result",
          "data": {
            "text/plain": [
              "[5, 9, 11, 7, 7]"
            ]
          },
          "metadata": {},
          "execution_count": 54
        }
      ],
      "source": [
        "mylist"
      ]
    },
    {
      "cell_type": "markdown",
      "metadata": {
        "id": "9iNPy29Jvd1R"
      },
      "source": [
        "You can find a helpful set of [python list functions here](https://www.programiz.com/python-programming/methods/list).\n",
        "\n",
        "##### Tuples\n",
        "\n",
        "A tuple is a list where you can't change the elements. Why would you want this? It's unclear, but sometimes when writing python we get tuples from other functions or whatever. This means we have to know what tuples are and how to use them.\n",
        "\n",
        "Note: You can convert any tuple or tuple-like object ```A``` to a list with the ```list(A)``` function."
      ]
    },
    {
      "cell_type": "code",
      "execution_count": 55,
      "metadata": {
        "ExecuteTime": {
          "end_time": "2021-05-27T23:56:36.736556Z",
          "start_time": "2021-05-27T23:56:36.726556Z"
        },
        "colab": {
          "base_uri": "https://localhost:8080/"
        },
        "id": "q7SL0N7Pvd1R",
        "outputId": "83607cef-e524-4b2f-932f-20c84ecb13ac"
      },
      "outputs": [
        {
          "output_type": "execute_result",
          "data": {
            "text/plain": [
              "(3, 4, 5)"
            ]
          },
          "metadata": {},
          "execution_count": 55
        }
      ],
      "source": [
        "(3,4,5)"
      ]
    },
    {
      "cell_type": "code",
      "execution_count": 56,
      "metadata": {
        "colab": {
          "base_uri": "https://localhost:8080/"
        },
        "id": "ZwEhw4VXvd1R",
        "outputId": "ed7eb7e7-e05e-4cb3-c9f1-ceec821fe150"
      },
      "outputs": [
        {
          "output_type": "execute_result",
          "data": {
            "text/plain": [
              "4"
            ]
          },
          "metadata": {},
          "execution_count": 56
        }
      ],
      "source": [
        "(3,4,5)[1]"
      ]
    },
    {
      "cell_type": "code",
      "execution_count": 57,
      "metadata": {
        "ExecuteTime": {
          "end_time": "2021-05-27T23:57:25.534582Z",
          "start_time": "2021-05-27T23:57:25.526560Z"
        },
        "colab": {
          "base_uri": "https://localhost:8080/"
        },
        "id": "H8FBkTNWvd1R",
        "outputId": "dbe26e7e-bed0-49b8-d975-d49a18af5823"
      },
      "outputs": [
        {
          "output_type": "execute_result",
          "data": {
            "text/plain": [
              "(3, 4, 5, 6)"
            ]
          },
          "metadata": {},
          "execution_count": 57
        }
      ],
      "source": [
        "(3,4,5)+(6,)"
      ]
    },
    {
      "cell_type": "code",
      "execution_count": 59,
      "metadata": {
        "ExecuteTime": {
          "end_time": "2021-05-27T23:57:31.297843Z",
          "start_time": "2021-05-27T23:57:31.285786Z"
        },
        "colab": {
          "base_uri": "https://localhost:8080/"
        },
        "id": "JLVCMGkHvd1S",
        "outputId": "255d3cc4-dd2e-4c7d-e21f-683263681371"
      },
      "outputs": [
        {
          "output_type": "stream",
          "name": "stdout",
          "text": [
            "Tuples can't be indexed like this\n"
          ]
        }
      ],
      "source": [
        "try:\n",
        "  (3,4,5)[1] = 6\n",
        "except:\n",
        "  print(f\"Tuples can't be altered like this\")"
      ]
    },
    {
      "cell_type": "markdown",
      "metadata": {
        "id": "I85U11YYvd1S"
      },
      "source": [
        "##### Sets\n",
        "\n",
        "I don't choose to use sets very often, but they are an interesting concept nonetheless. Sets are unordered lists where any element can only be included once. This basically means that a set in Python has the same definition as a set in mathematics. Programatically, they can be a little strange to work with and there are some caveats to be aware of (if you plan to use them often). However, for our purposes, I will be skipping most of those to make things easier"
      ]
    },
    {
      "cell_type": "code",
      "execution_count": 60,
      "metadata": {
        "colab": {
          "base_uri": "https://localhost:8080/"
        },
        "id": "JwNGbw4Avd1S",
        "outputId": "7090d0d3-b7f5-4365-a4ad-9b38225f1923"
      },
      "outputs": [
        {
          "output_type": "execute_result",
          "data": {
            "text/plain": [
              "{2, 3}"
            ]
          },
          "metadata": {},
          "execution_count": 60
        }
      ],
      "source": [
        "{3,2}"
      ]
    },
    {
      "cell_type": "code",
      "execution_count": 61,
      "metadata": {
        "ExecuteTime": {
          "end_time": "2021-05-27T23:59:53.512707Z",
          "start_time": "2021-05-27T23:59:53.502685Z"
        },
        "colab": {
          "base_uri": "https://localhost:8080/"
        },
        "id": "D7aqmU-Hvd1S",
        "outputId": "05d2c74e-724f-47c1-cc21-29489f55e082"
      },
      "outputs": [
        {
          "output_type": "execute_result",
          "data": {
            "text/plain": [
              "{7, 8, 9, 10, 11}"
            ]
          },
          "metadata": {},
          "execution_count": 61
        }
      ],
      "source": [
        "myset = {7,8,9}\n",
        "myset.add(11)\n",
        "myset.add(10)\n",
        "myset.add(7)\n",
        "myset"
      ]
    },
    {
      "cell_type": "markdown",
      "metadata": {
        "id": "L6XQnwxFvd1S"
      },
      "source": [
        "##### Dictionaries (IMPORTANT)\n",
        "\n",
        "Another fundamental data structure in python is the dictionary. Dictionaries are essentially just a mapping. Every item in a dictionary has a key and is referenced by this key. So if you know the key (like a word in the dictionary) then you can find information about that key (like the definition in the dictionary). [A helpful set of functions relating to dictionaries can be found here.](https://www.programiz.com/python-programming/methods/dictionary)"
      ]
    },
    {
      "cell_type": "code",
      "execution_count": 62,
      "metadata": {
        "ExecuteTime": {
          "end_time": "2021-05-28T00:00:41.856223Z",
          "start_time": "2021-05-28T00:00:41.837134Z"
        },
        "colab": {
          "base_uri": "https://localhost:8080/"
        },
        "id": "c20PSIdavd1T",
        "outputId": "5fe6a0c5-9295-42c1-ea84-2b8c5e22772c"
      },
      "outputs": [
        {
          "output_type": "execute_result",
          "data": {
            "text/plain": [
              "1"
            ]
          },
          "metadata": {},
          "execution_count": 62
        }
      ],
      "source": [
        "mydict = {'a':1,'b':2,'c':3}\n",
        "mydict['a']"
      ]
    },
    {
      "cell_type": "code",
      "execution_count": 63,
      "metadata": {
        "ExecuteTime": {
          "end_time": "2021-05-28T00:00:43.932446Z",
          "start_time": "2021-05-28T00:00:43.924444Z"
        },
        "colab": {
          "base_uri": "https://localhost:8080/"
        },
        "id": "obCJEIwDvd1T",
        "outputId": "8f22d0a6-f0df-4179-861d-c82f64190304"
      },
      "outputs": [
        {
          "output_type": "execute_result",
          "data": {
            "text/plain": [
              "2"
            ]
          },
          "metadata": {},
          "execution_count": 63
        }
      ],
      "source": [
        "mydict['b']"
      ]
    },
    {
      "cell_type": "code",
      "execution_count": 64,
      "metadata": {
        "ExecuteTime": {
          "end_time": "2021-05-28T00:00:46.913327Z",
          "start_time": "2021-05-28T00:00:46.908328Z"
        },
        "colab": {
          "base_uri": "https://localhost:8080/"
        },
        "id": "YlsFRznRvd1T",
        "outputId": "f875da31-aab5-46e1-c1a4-74595c31f625"
      },
      "outputs": [
        {
          "output_type": "execute_result",
          "data": {
            "text/plain": [
              "4"
            ]
          },
          "metadata": {},
          "execution_count": 64
        }
      ],
      "source": [
        "mydict['d'] = 4\n",
        "mydict['d']"
      ]
    },
    {
      "cell_type": "code",
      "execution_count": 65,
      "metadata": {
        "ExecuteTime": {
          "end_time": "2021-05-28T00:00:50.074992Z",
          "start_time": "2021-05-28T00:00:50.059687Z"
        },
        "colab": {
          "base_uri": "https://localhost:8080/"
        },
        "id": "jA-jWIUVvd1T",
        "outputId": "92a1f3d7-7560-4047-9af5-e4412de60d53"
      },
      "outputs": [
        {
          "output_type": "stream",
          "name": "stdout",
          "text": [
            "Does not exist in dictionary\n"
          ]
        }
      ],
      "source": [
        "try:\n",
        "  mydict['e']\n",
        "except KeyError:\n",
        "  print('Does not exist in dictionary')"
      ]
    },
    {
      "cell_type": "code",
      "execution_count": 66,
      "metadata": {
        "ExecuteTime": {
          "end_time": "2021-05-28T00:01:27.637667Z",
          "start_time": "2021-05-28T00:01:27.621714Z"
        },
        "colab": {
          "base_uri": "https://localhost:8080/"
        },
        "id": "Y0tE5QJqvd1U",
        "outputId": "c04f91c9-6cc9-4d7c-eeac-d73d750a43b9"
      },
      "outputs": [
        {
          "output_type": "execute_result",
          "data": {
            "text/plain": [
              "-1"
            ]
          },
          "metadata": {},
          "execution_count": 66
        }
      ],
      "source": [
        "mydict.get('g',-1)  # get with default of -1 if not in dictionary"
      ]
    },
    {
      "cell_type": "code",
      "execution_count": 67,
      "metadata": {
        "ExecuteTime": {
          "end_time": "2021-05-28T00:01:36.926543Z",
          "start_time": "2021-05-28T00:01:36.908542Z"
        },
        "colab": {
          "base_uri": "https://localhost:8080/"
        },
        "id": "cn_em3blvd1U",
        "outputId": "fe4fd030-08db-42e6-c778-82798b98070a"
      },
      "outputs": [
        {
          "output_type": "execute_result",
          "data": {
            "text/plain": [
              "dict_keys(['a', 'b', 'c', 'd'])"
            ]
          },
          "metadata": {},
          "execution_count": 67
        }
      ],
      "source": [
        "mydict.keys()"
      ]
    },
    {
      "cell_type": "code",
      "execution_count": 68,
      "metadata": {
        "ExecuteTime": {
          "end_time": "2021-05-28T00:01:39.023148Z",
          "start_time": "2021-05-28T00:01:39.012173Z"
        },
        "colab": {
          "base_uri": "https://localhost:8080/"
        },
        "id": "RUS6zTGJvd1U",
        "outputId": "9c4a7d95-9351-4c55-d8c5-8d6368543227"
      },
      "outputs": [
        {
          "output_type": "execute_result",
          "data": {
            "text/plain": [
              "dict_values([1, 2, 3, 4])"
            ]
          },
          "metadata": {},
          "execution_count": 68
        }
      ],
      "source": [
        "mydict.values()"
      ]
    },
    {
      "cell_type": "markdown",
      "metadata": {
        "id": "7X9R6hgBvd1V"
      },
      "source": [
        "### Control structures\n",
        "#### Conditionals\n",
        "Logical operators:\n",
        "\n",
        "* Equal: ```==```\n",
        "* Not equal: ```!=``` \n",
        "* less than: ```<```\n",
        "* greater than: ```>```\n",
        "* lt or eq: ```<=```\n",
        "* ge or eq: ```>=```\n",
        "* And: ```and```\n",
        "* Or: ```or```\n",
        "* Not: ```not```\n",
        "* Is contained in list: ```in```\n",
        "* List ```A``` is empty: ```A```"
      ]
    },
    {
      "cell_type": "code",
      "execution_count": 69,
      "metadata": {
        "ExecuteTime": {
          "end_time": "2021-05-28T00:14:10.042471Z",
          "start_time": "2021-05-28T00:14:10.034220Z"
        },
        "colab": {
          "base_uri": "https://localhost:8080/"
        },
        "id": "DTnY7447vd1V",
        "outputId": "1be716fc-8beb-4285-d20e-03bf07092df3"
      },
      "outputs": [
        {
          "output_type": "execute_result",
          "data": {
            "text/plain": [
              "True"
            ]
          },
          "metadata": {},
          "execution_count": 69
        }
      ],
      "source": [
        "5-4 == 1"
      ]
    },
    {
      "cell_type": "code",
      "execution_count": 70,
      "metadata": {
        "colab": {
          "base_uri": "https://localhost:8080/"
        },
        "id": "Ezsg8k4uvd1V",
        "outputId": "10a3c25f-6e2f-4f78-d15e-b98759863e7b"
      },
      "outputs": [
        {
          "output_type": "execute_result",
          "data": {
            "text/plain": [
              "True"
            ]
          },
          "metadata": {},
          "execution_count": 70
        }
      ],
      "source": [
        "2<3 or 3>=4"
      ]
    },
    {
      "cell_type": "code",
      "execution_count": 71,
      "metadata": {
        "ExecuteTime": {
          "end_time": "2021-05-28T00:15:06.493186Z",
          "start_time": "2021-05-28T00:15:06.482181Z"
        },
        "colab": {
          "base_uri": "https://localhost:8080/"
        },
        "id": "p0fTHkT-vd1W",
        "outputId": "af2c47ee-3316-49d2-b2bb-1db47acf716d"
      },
      "outputs": [
        {
          "output_type": "execute_result",
          "data": {
            "text/plain": [
              "False"
            ]
          },
          "metadata": {},
          "execution_count": 71
        }
      ],
      "source": [
        "A = [2,3,4]\n",
        "5 in A"
      ]
    },
    {
      "cell_type": "code",
      "execution_count": 72,
      "metadata": {
        "ExecuteTime": {
          "end_time": "2021-05-28T00:15:07.258319Z",
          "start_time": "2021-05-28T00:15:07.241719Z"
        },
        "colab": {
          "base_uri": "https://localhost:8080/"
        },
        "id": "fMVB0_PCvd1W",
        "outputId": "d4d12e0e-df0e-4788-82b5-599765131a2c"
      },
      "outputs": [
        {
          "output_type": "execute_result",
          "data": {
            "text/plain": [
              "True"
            ]
          },
          "metadata": {},
          "execution_count": 72
        }
      ],
      "source": [
        "bool(A)"
      ]
    },
    {
      "cell_type": "code",
      "execution_count": 73,
      "metadata": {
        "ExecuteTime": {
          "end_time": "2021-05-28T00:14:56.836900Z",
          "start_time": "2021-05-28T00:14:56.825901Z"
        },
        "id": "fE2liOEqvd1W"
      },
      "outputs": [],
      "source": [
        "A = []"
      ]
    },
    {
      "cell_type": "markdown",
      "metadata": {
        "id": "OKJ0Rzvcvd1W"
      },
      "source": [
        "If clauses"
      ]
    },
    {
      "cell_type": "code",
      "execution_count": 74,
      "metadata": {
        "ExecuteTime": {
          "end_time": "2021-05-28T00:17:39.435930Z",
          "start_time": "2021-05-28T00:17:39.424931Z"
        },
        "colab": {
          "base_uri": "https://localhost:8080/"
        },
        "id": "-Qq0FqDnvd1X",
        "outputId": "ddc066b1-74d3-4a7e-82ca-6d600ccf03e8"
      },
      "outputs": [
        {
          "output_type": "stream",
          "name": "stdout",
          "text": [
            "This is the true code\n",
            "This is also true code\n",
            "This runs no matter what\n"
          ]
        }
      ],
      "source": [
        "if 2>1:\n",
        "    print('This is the true code')\n",
        "    print('This is also true code')\n",
        "else:\n",
        "    print('This is the false code')\n",
        "print('This runs no matter what')"
      ]
    },
    {
      "cell_type": "code",
      "execution_count": 75,
      "metadata": {
        "ExecuteTime": {
          "end_time": "2021-05-28T00:19:05.055708Z",
          "start_time": "2021-05-28T00:19:05.048941Z"
        },
        "colab": {
          "base_uri": "https://localhost:8080/"
        },
        "id": "6Cy0j1kIvd1X",
        "outputId": "72081cbe-9092-42bd-cb7d-06b5a5edec03"
      },
      "outputs": [
        {
          "output_type": "stream",
          "name": "stdout",
          "text": [
            "Its equal to 6\n",
            "This always runs\n"
          ]
        }
      ],
      "source": [
        "x = 6\n",
        "if x>6:\n",
        "    print('Its greater than 6')\n",
        "elif x==6:\n",
        "    print('Its equal to 6')\n",
        "else:\n",
        "    print('Its less than 6')\n",
        "print('This always runs')"
      ]
    },
    {
      "cell_type": "code",
      "execution_count": 76,
      "metadata": {
        "ExecuteTime": {
          "end_time": "2021-05-28T00:20:10.903233Z",
          "start_time": "2021-05-28T00:20:10.897236Z"
        },
        "colab": {
          "base_uri": "https://localhost:8080/"
        },
        "id": "zW7XEHqKvd1Y",
        "outputId": "50248aeb-5bcd-4511-e6f2-9233db4f7d72"
      },
      "outputs": [
        {
          "output_type": "stream",
          "name": "stdout",
          "text": [
            "I have a short name\n",
            "This line always runs\n"
          ]
        }
      ],
      "source": [
        "my_name = \"jason\"\n",
        "if len(my_name)<=3:\n",
        "    print('I have a very short name')\n",
        "elif len(my_name)<=5:\n",
        "    print('I have a short name')\n",
        "elif len(my_name)<=7:\n",
        "    print('I have a normal name')\n",
        "elif len(my_name)<=9:\n",
        "    print('I have a long name')\n",
        "else:\n",
        "    print('I have a very long name')\n",
        "print('This line always runs')"
      ]
    },
    {
      "cell_type": "markdown",
      "metadata": {
        "id": "oC9-X1pfvd1Y"
      },
      "source": [
        "Inline if"
      ]
    },
    {
      "cell_type": "code",
      "execution_count": 77,
      "metadata": {
        "ExecuteTime": {
          "end_time": "2021-05-28T00:21:54.401121Z",
          "start_time": "2021-05-28T00:21:54.383852Z"
        },
        "colab": {
          "base_uri": "https://localhost:8080/"
        },
        "id": "CoqGmy5Nvd1Y",
        "outputId": "0d6e5b30-8a1e-4bda-9f68-f1995d4ab4a4"
      },
      "outputs": [
        {
          "output_type": "execute_result",
          "data": {
            "text/plain": [
              "1"
            ]
          },
          "metadata": {},
          "execution_count": 77
        }
      ],
      "source": [
        "x = 8\n",
        "#=IF(condition,true case,false case)\n",
        "# true_case if condition else false_case\n",
        "1 if x>7 else 0"
      ]
    },
    {
      "cell_type": "markdown",
      "metadata": {
        "id": "gRu3PxdUvd1Z"
      },
      "source": [
        "#### Loops\n",
        "While loops"
      ]
    },
    {
      "cell_type": "code",
      "execution_count": 79,
      "metadata": {
        "ExecuteTime": {
          "end_time": "2021-05-28T00:24:19.288541Z",
          "start_time": "2021-05-28T00:24:19.278522Z"
        },
        "colab": {
          "base_uri": "https://localhost:8080/"
        },
        "id": "HzoXVo_Fvd1Z",
        "outputId": "9b7a20ea-3f15-4343-94ee-9dd373a926c4"
      },
      "outputs": [
        {
          "output_type": "execute_result",
          "data": {
            "text/plain": [
              "5040"
            ]
          },
          "metadata": {},
          "execution_count": 79
        }
      ],
      "source": [
        "x = 7\n",
        "fact = 1\n",
        "while x>1:\n",
        "    fact *= x  # fact = fact*x\n",
        "    x -= 1     # x = x-1\n",
        "fact"
      ]
    },
    {
      "cell_type": "markdown",
      "metadata": {
        "id": "sv_omEg3vd1Z"
      },
      "source": [
        "For loops"
      ]
    },
    {
      "cell_type": "code",
      "execution_count": 80,
      "metadata": {
        "ExecuteTime": {
          "end_time": "2021-05-28T00:29:01.603985Z",
          "start_time": "2021-05-28T00:29:01.597954Z"
        },
        "colab": {
          "base_uri": "https://localhost:8080/"
        },
        "id": "NEim3P5pvd1a",
        "outputId": "8528902f-e6a6-4c38-9d7d-374649f74be6"
      },
      "outputs": [
        {
          "output_type": "stream",
          "name": "stdout",
          "text": [
            "2 2\n",
            "3 6\n",
            "4 24\n",
            "5 120\n",
            "6 720\n",
            "7 5040\n"
          ]
        },
        {
          "output_type": "execute_result",
          "data": {
            "text/plain": [
              "5040"
            ]
          },
          "metadata": {},
          "execution_count": 80
        }
      ],
      "source": [
        "x = 7\n",
        "fact = 1\n",
        "for i in range(2,x+1):\n",
        "    fact*=i\n",
        "    print(i,fact)\n",
        "fact"
      ]
    },
    {
      "cell_type": "code",
      "execution_count": 81,
      "metadata": {
        "ExecuteTime": {
          "end_time": "2021-05-28T00:29:23.173588Z",
          "start_time": "2021-05-28T00:29:23.166590Z"
        },
        "colab": {
          "base_uri": "https://localhost:8080/"
        },
        "id": "z_2RQsqWvd1a",
        "outputId": "cef5aa86-53a3-4109-d270-128ab8247324"
      },
      "outputs": [
        {
          "output_type": "stream",
          "name": "stdout",
          "text": [
            "4\n",
            "6\n",
            "8\n"
          ]
        }
      ],
      "source": [
        "for i in range(4,10,2):\n",
        "    print(i)"
      ]
    },
    {
      "cell_type": "markdown",
      "metadata": {
        "id": "1mPHwgFKvd1a"
      },
      "source": [
        "Inline for   "
      ]
    },
    {
      "cell_type": "code",
      "execution_count": 82,
      "metadata": {
        "colab": {
          "base_uri": "https://localhost:8080/"
        },
        "id": "PoOYPTz9vd1b",
        "outputId": "135be39e-ccf0-44d8-bce4-a51b94c7dd18"
      },
      "outputs": [
        {
          "output_type": "execute_result",
          "data": {
            "text/plain": [
              "[0, 1, 4, 9, 16]"
            ]
          },
          "metadata": {},
          "execution_count": 82
        }
      ],
      "source": [
        "[i**2 for i in range(5)]"
      ]
    },
    {
      "cell_type": "markdown",
      "metadata": {
        "id": "JqKxDCJfvd1b"
      },
      "source": [
        "#### User-defined functions\t"
      ]
    },
    {
      "cell_type": "code",
      "execution_count": 83,
      "metadata": {
        "ExecuteTime": {
          "end_time": "2021-05-28T00:33:00.838383Z",
          "start_time": "2021-05-28T00:33:00.818271Z"
        },
        "id": "WPW4cWtGvd1b",
        "outputId": "ca5f9def-90ab-41d9-df35-f052fa263665",
        "colab": {
          "base_uri": "https://localhost:8080/"
        }
      },
      "outputs": [
        {
          "output_type": "execute_result",
          "data": {
            "text/plain": [
              "81"
            ]
          },
          "metadata": {},
          "execution_count": 83
        }
      ],
      "source": [
        "def square(x):\n",
        "    prod = x**2\n",
        "    return prod\n",
        "square(9)"
      ]
    },
    {
      "cell_type": "code",
      "execution_count": 84,
      "metadata": {
        "ExecuteTime": {
          "end_time": "2021-05-28T00:33:07.004306Z",
          "start_time": "2021-05-28T00:33:06.997302Z"
        },
        "id": "btCzvfVAvd1c",
        "outputId": "7d80bd05-86bc-4283-94e1-94d22b363a50",
        "colab": {
          "base_uri": "https://localhost:8080/"
        }
      },
      "outputs": [
        {
          "output_type": "execute_result",
          "data": {
            "text/plain": [
              "36"
            ]
          },
          "metadata": {},
          "execution_count": 84
        }
      ],
      "source": [
        "square(6)"
      ]
    },
    {
      "cell_type": "markdown",
      "metadata": {
        "id": "zaV4cG-Kvd1c"
      },
      "source": [
        "Lambda notation (in-line function definition)"
      ]
    },
    {
      "cell_type": "code",
      "execution_count": 85,
      "metadata": {
        "ExecuteTime": {
          "end_time": "2021-05-28T00:37:06.368287Z",
          "start_time": "2021-05-28T00:37:06.358149Z"
        },
        "id": "6c_e7Ergvd1c",
        "outputId": "776b465f-c0cd-4e0b-965a-fc5144cfd389",
        "colab": {
          "base_uri": "https://localhost:8080/"
        }
      },
      "outputs": [
        {
          "output_type": "execute_result",
          "data": {
            "text/plain": [
              "25"
            ]
          },
          "metadata": {},
          "execution_count": 85
        }
      ],
      "source": [
        "quad = lambda x: x**2\n",
        "quad(5)"
      ]
    },
    {
      "cell_type": "markdown",
      "metadata": {
        "id": "sGL4p1Mwvd1d"
      },
      "source": [
        "## Data science: Vector geometry\n",
        "\n",
        "### Vector spaces\t\t\n",
        "#### Row vectors vs Column\t\n",
        "Row vector notation (we don't use):\n",
        "$$\n",
        "x=[x_1,\\dots,x_n]\n",
        "$$\n",
        "\n",
        "Column vector notation (we do use):\n",
        "$$\n",
        "x=\n",
        "\\begin{bmatrix}\n",
        "x_1 \\\\\n",
        "\\vdots \\\\\n",
        "x_n\n",
        "\\end{bmatrix}\n",
        "$$\n",
        "\n",
        "#### Addition\n",
        "\n",
        "General formula\n",
        "$$\n",
        "x+y=\n",
        "\\begin{bmatrix}\n",
        "x_1+y_1 \\\\\n",
        "\\vdots \\\\\n",
        "x_n+y_n\n",
        "\\end{bmatrix}\n",
        "$$\n",
        "\n",
        "Example:\n",
        "$$\n",
        "\\begin{bmatrix}\n",
        "2 \\\\\n",
        "1\n",
        "\\end{bmatrix}\n",
        "+\n",
        "\\begin{bmatrix}\n",
        "1 \\\\\n",
        "2\n",
        "\\end{bmatrix}\n",
        "=\n",
        "\\begin{bmatrix}\n",
        "3 \\\\\n",
        "3\n",
        "\\end{bmatrix}\n",
        "$$\n",
        "\n",
        "Geometrically:"
      ]
    },
    {
      "cell_type": "code",
      "execution_count": 86,
      "metadata": {
        "id": "3g31WYfyvd1d",
        "outputId": "06333a87-fbfe-47bb-daa6-8426da286c61",
        "colab": {
          "base_uri": "https://localhost:8080/",
          "height": 248
        }
      },
      "outputs": [
        {
          "output_type": "display_data",
          "data": {
            "text/plain": [
              "<Figure size 432x288 with 1 Axes>"
            ],
            "image/png": "[encoded data removed]"
          },
          "metadata": {
            "needs_background": "light"
          }
        }
      ],
      "source": [
        "## YOU DO NOT NEED TO KNOW THIS CODE\n",
        "## I AM USING THIS HERE TO MAKE PICTURES\n",
        "## YOU ARE RESPONSIBLE FOR THE PICTURES\n",
        "## YOU WILL LEARN THIS LATER\n",
        "\n",
        "import matplotlib.pyplot as pt\n",
        "import numpy as np\n",
        "%matplotlib inline\n",
        "\n",
        "fig = pt.figure()\n",
        "pt.quiver([0,0,2,1,0],[0,0,1,2,0],[2,1,1,2,3],[1,2,2,1,3]\n",
        "          ,color=['r','b','b','r','g'],units='xy',scale=1)\n",
        "pt.axis('equal')\n",
        "pt.axis('off')\n",
        "pt.ylim(-0,3)\n",
        "pt.show()"
      ]
    },
    {
      "cell_type": "markdown",
      "metadata": {
        "id": "FhGAeY86vd1e"
      },
      "source": [
        "#### Scalar multiplication\n",
        "\n",
        "$$\n",
        "a\\cdot x=\n",
        "\\begin{bmatrix}\n",
        "a\\cdot x_1 \\\\\n",
        "\\vdots \\\\\n",
        "a\\cdot x_n\n",
        "\\end{bmatrix}\n",
        "$$\n",
        "\n",
        "$$\n",
        "2\\cdot\n",
        "\\begin{bmatrix}\n",
        "2 \\\\\n",
        "1\n",
        "\\end{bmatrix}\n",
        "=\n",
        "\\begin{bmatrix}\n",
        "4 \\\\\n",
        "2\n",
        "\\end{bmatrix}\n",
        "$$"
      ]
    },
    {
      "cell_type": "code",
      "execution_count": 87,
      "metadata": {
        "id": "QiKEgiLmvd1e",
        "outputId": "3d3d8c79-f654-4e4b-f1cc-d28d4a0b1e1c",
        "colab": {
          "base_uri": "https://localhost:8080/",
          "height": 248
        }
      },
      "outputs": [
        {
          "output_type": "display_data",
          "data": {
            "text/plain": [
              "<Figure size 432x288 with 1 Axes>"
            ],
            "image/png": "[encoded data removed]"
          },
          "metadata": {
            "needs_background": "light"
          }
        }
      ],
      "source": [
        "fig = pt.figure()\n",
        "pt.quiver([0,0],[0,0],[0.75,0.25],[0.75,0.25]\n",
        "          ,color=['r','b'],units='xy',scale=0.5)\n",
        "pt.xlim(-0,3)\n",
        "pt.ylim(-0,3)\n",
        "pt.axis('off')\n",
        "pt.show()"
      ]
    },
    {
      "cell_type": "markdown",
      "metadata": {
        "id": "uY3NWkTkvd1e"
      },
      "source": [
        "#### Linear combination\n",
        "$ax+by$ is a linear combination of $x$ and $y$\n",
        "\n",
        "$a_1 x_1 + \\dots + a_r x_r$ is a linear combination of $x_1,\\dots,x_r$\n",
        "\n",
        "#### Span\n",
        "\n",
        "$$ \n",
        "\\text{Span}(x_1,\\dots, x_r) = \\{\\text{All linear combinations of } x_1,\\dots,x_r\\}\n",
        "$$\n",
        "\n",
        "#### Linear dependence\n",
        "\n",
        "$y$ is linearly dependent on $x_1,\\dots,x_r$ if and only if $y$ can be expressed as a linear combination of $x_1,\\dots,x_r$ \n",
        "\n",
        "$y$ is linearly independent of $x_1,\\dots,x_r$ if and only if $y$ cannot be expressed as a linear combination of $x_1,\\dots,x_r$ \n",
        "\n",
        "#### Linear independent set\n",
        "\n",
        "$x_1,\\dots,x_r$ are linearly independent if none of vectors $x_j$ for $j = 1,\\dots,r$ are linearly dependent on the other vectors(i.e.,$\\{x_k | k\\neq j\\}$)"
      ]
    },
    {
      "cell_type": "markdown",
      "metadata": {
        "id": "ZBbsIy8Lvd1e"
      },
      "source": [
        "### Vector Measures\n",
        "#### Norms\n",
        "\n",
        "$L_p$ norm:\n",
        "$$\\left\\Vert x\\right\\Vert_p=\\left(\\sum_{i=1}^r |x_i|^p\\right)^{1/p}$$\n",
        "\n",
        "Euclidean norm:\n",
        "$$\\left\\Vert x\\right\\Vert=\\left\\Vert x\\right\\Vert_2=\\sqrt{\\sum_{i=1}^r x_i^2}$$\n",
        "#### Inner product\n",
        "\n",
        "$$\\langle x,y\\rangle=\\sum_{i=1}^r x_i y_i$$\n",
        "$$\\left\\Vert x\\right\\Vert=\\sqrt{\\langle x,x\\rangle}$$\n",
        "#### Orthogonality (perpendicular)\n",
        "$$x\\perp y \\Longleftrightarrow \\langle x,y\\rangle=0$$ \n",
        "#### Cosine law\n",
        "$$\\cos\\theta=\\frac{\\langle x,y\\rangle}{\\left\\Vert x\\right\\Vert\\left\\Vert y\\right\\Vert}$$\n",
        "where $\\theta$ is the angle between $x$ and $y$"
      ]
    }
  ],
  "metadata": {
    "kernelspec": {
      "display_name": "Python 3",
      "language": "python",
      "name": "python3"
    },
    "language_info": {
      "codemirror_mode": {
        "name": "ipython",
        "version": 3
      },
      "file_extension": ".py",
      "mimetype": "text/x-python",
      "name": "python",
      "nbconvert_exporter": "python",
      "pygments_lexer": "ipython3",
      "version": "3.8.8"
    },
    "toc": {
      "base_numbering": 1,
      "nav_menu": {},
      "number_sections": true,
      "sideBar": true,
      "skip_h1_title": false,
      "title_cell": "Table of Contents",
      "title_sidebar": "Contents",
      "toc_cell": false,
      "toc_position": {},
      "toc_section_display": true,
      "toc_window_display": false
    },
    "varInspector": {
      "cols": {
        "lenName": 16,
        "lenType": 16,
        "lenVar": 40
      },
      "kernels_config": {
        "python": {
          "delete_cmd_postfix": "",
          "delete_cmd_prefix": "del ",
          "library": "var_list.py",
          "varRefreshCmd": "print(var_dic_list())"
        },
        "r": {
          "delete_cmd_postfix": ") ",
          "delete_cmd_prefix": "rm(",
          "library": "var_list.r",
          "varRefreshCmd": "cat(var_dic_list()) "
        }
      },
      "types_to_exclude": [
        "module",
        "function",
        "builtin_function_or_method",
        "instance",
        "_Feature"
      ],
      "window_display": false
    },
    "colab": {
      "provenance": [],
      "include_colab_link": true
    }
  },
  "nbformat": 4,
  "nbformat_minor": 0
}